{
 "cells": [
  {
   "cell_type": "markdown",
   "metadata": {},
   "source": [
    "NOTE: Dataset all_energy_statistics is a sample. For the full dataset please visit Kaggle and download the International Energy Statistics dataset(link in the references below)."
   ]
  },
  {
   "cell_type": "code",
   "execution_count": 1,
   "metadata": {},
   "outputs": [],
   "source": [
    "%matplotlib inline"
   ]
  },
  {
   "cell_type": "code",
   "execution_count": 2,
   "metadata": {},
   "outputs": [],
   "source": [
    "import numpy as np\n",
    "import pandas as pd\n",
    "import matplotlib.pyplot as plt"
   ]
  },
  {
   "cell_type": "markdown",
   "metadata": {},
   "source": [
    "# International greenhouse gas emissions and energy efficiency trends for the period 1990 - 2014\n",
    "## An exploration of GDP, population, GHG emissions and energy consumption\n",
    "\n",
    "### Author: A. Vladimirov\n",
    "\n",
    "06/09/2019"
   ]
  },
  {
   "cell_type": "markdown",
   "metadata": {},
   "source": [
    "Abstract\n",
    "\n",
    "Global warming, reduction greenhouse gas emissoins and how the world should change in order to preserve a future for the next generations are hot topics. If you're interested in the sustainability of our climate and nature, while being ecnomically well off and you're curious to find out which countries do best when those factors are combined - then this paper is for you."
   ]
  },
  {
   "cell_type": "markdown",
   "metadata": {},
   "source": [
    "Table of content:\n",
    "1. Introduction\n",
    "2. Importing and reading the data \n",
    "3. Data Preprocessing  \n",
    "    3.1 Cleaning and choosing columns to work with  \n",
    "    3.2 Feature engineering\n",
    "4. Exploratory Data Analysis (EDA)  \n",
    "    4.1 Correlations\n",
    "    4.2 Data without energy consumption\n",
    "    4.3 Data with energy consumption\n",
    "5. Conclusion\n",
    "6. References"
   ]
  },
  {
   "cell_type": "markdown",
   "metadata": {},
   "source": [
    "## 1. Introduction\n",
    "\n",
    "Climate change, greenhouse emissions and energy efficiency have become really important topics. And while there's the clear need for a change when you combine the desire of every human being to live better in a cleaner (less GHG emissions), more efficient world (energy consumption) the task get harder when you account that every person wants to achieve that while being better off economically (GDP per capita).\n",
    "\n",
    "The aim of this paper is to find out the most energy efficient countries which the rest of the world should look to and try to emulate.\n",
    "\n",
    "\n",
    "For the purpose of this project I'm going to use 5 different datasets: \n",
    "\n",
    "1. \"GDP_countries\" - GDP per capita at current prices in USD from United Nations(UN)\n",
    "2. \"population_countries\" - Population data from UN\n",
    "3. \"historical_emissions\" - All greenhouse gas data from Climatewatch.org  \n",
    "4. \"all_energy_statistics\" - International Energy Statistics from Kaggle pulled from United Nations Statistics Devision's \n",
    "5. \"supply_of_energy\" - Energy production, trade and consumption of UN"
   ]
  },
  {
   "cell_type": "markdown",
   "metadata": {},
   "source": [
    "Similar research has been done in the past. Two example are published on sciencedirect.com by Ramakrishnan Ramanathan and B.W. Ang. For more information please check the references."
   ]
  },
  {
   "cell_type": "markdown",
   "metadata": {},
   "source": [
    "## 2. Importing and Reading the Data"
   ]
  },
  {
   "cell_type": "code",
   "execution_count": 3,
   "metadata": {},
   "outputs": [],
   "source": [
    "gdp_data = pd.read_csv(\"data/GDP_countries.csv\")\n",
    "population_data = pd.read_csv(\"data/population_countries.csv\")\n",
    "ghg_emissions_data = pd.read_csv(\"data/historical_emissions.csv\")\n",
    "world_energy_stats = pd.read_csv(\"data/all_energy_statistics.csv\")\n",
    "energy_supply = pd.read_csv(\"data/supply_of_energy.csv\", encoding = \"ISO-8859-1\")"
   ]
  },
  {
   "cell_type": "markdown",
   "metadata": {},
   "source": [
    "Let's see how those datasets look like checking the columns for each set, their shape and data types which will determine which sets/columns need to be further preprocessed."
   ]
  },
  {
   "cell_type": "code",
   "execution_count": 4,
   "metadata": {},
   "outputs": [
    {
     "data": {
      "text/html": [
       "<div>\n",
       "<style scoped>\n",
       "    .dataframe tbody tr th:only-of-type {\n",
       "        vertical-align: middle;\n",
       "    }\n",
       "\n",
       "    .dataframe tbody tr th {\n",
       "        vertical-align: top;\n",
       "    }\n",
       "\n",
       "    .dataframe thead th {\n",
       "        text-align: right;\n",
       "    }\n",
       "</style>\n",
       "<table border=\"1\" class=\"dataframe\">\n",
       "  <thead>\n",
       "    <tr style=\"text-align: right;\">\n",
       "      <th></th>\n",
       "      <th>Country/Area</th>\n",
       "      <th>Year</th>\n",
       "      <th>Unit</th>\n",
       "      <th>Gross Domestic Product (GDP)</th>\n",
       "    </tr>\n",
       "  </thead>\n",
       "  <tbody>\n",
       "    <tr>\n",
       "      <th>0</th>\n",
       "      <td>Afghanistan</td>\n",
       "      <td>1990</td>\n",
       "      <td>US$</td>\n",
       "      <td>3621600007.157436</td>\n",
       "    </tr>\n",
       "    <tr>\n",
       "      <th>1</th>\n",
       "      <td>Afghanistan</td>\n",
       "      <td>1991</td>\n",
       "      <td>US$</td>\n",
       "      <td>3340100005.150091</td>\n",
       "    </tr>\n",
       "    <tr>\n",
       "      <th>2</th>\n",
       "      <td>Afghanistan</td>\n",
       "      <td>1992</td>\n",
       "      <td>US$</td>\n",
       "      <td>3474600006.811256</td>\n",
       "    </tr>\n",
       "    <tr>\n",
       "      <th>3</th>\n",
       "      <td>Afghanistan</td>\n",
       "      <td>1993</td>\n",
       "      <td>US$</td>\n",
       "      <td>2664399991.6472635</td>\n",
       "    </tr>\n",
       "    <tr>\n",
       "      <th>4</th>\n",
       "      <td>Afghanistan</td>\n",
       "      <td>1994</td>\n",
       "      <td>US$</td>\n",
       "      <td>2114600000.2314816</td>\n",
       "    </tr>\n",
       "  </tbody>\n",
       "</table>\n",
       "</div>"
      ],
      "text/plain": [
       "  Country/Area  Year Unit Gross Domestic Product (GDP)\n",
       "0  Afghanistan  1990  US$            3621600007.157436\n",
       "1  Afghanistan  1991  US$            3340100005.150091\n",
       "2  Afghanistan  1992  US$            3474600006.811256\n",
       "3  Afghanistan  1993  US$           2664399991.6472635\n",
       "4  Afghanistan  1994  US$           2114600000.2314816"
      ]
     },
     "execution_count": 4,
     "metadata": {},
     "output_type": "execute_result"
    }
   ],
   "source": [
    "gdp_data.head()"
   ]
  },
  {
   "cell_type": "code",
   "execution_count": 5,
   "metadata": {},
   "outputs": [
    {
     "data": {
      "text/plain": [
       "(6250, 4)"
      ]
     },
     "execution_count": 5,
     "metadata": {},
     "output_type": "execute_result"
    }
   ],
   "source": [
    "gdp_data.shape"
   ]
  },
  {
   "cell_type": "code",
   "execution_count": 6,
   "metadata": {},
   "outputs": [
    {
     "data": {
      "text/plain": [
       "Country/Area                    object\n",
       "Year                             int64\n",
       "Unit                            object\n",
       "Gross Domestic Product (GDP)    object\n",
       "dtype: object"
      ]
     },
     "execution_count": 6,
     "metadata": {},
     "output_type": "execute_result"
    }
   ],
   "source": [
    "gdp_data.dtypes"
   ]
  },
  {
   "cell_type": "markdown",
   "metadata": {},
   "source": [
    "GDP will have to be fixed, names of the columns fixed."
   ]
  },
  {
   "cell_type": "code",
   "execution_count": 7,
   "metadata": {},
   "outputs": [
    {
     "data": {
      "text/html": [
       "<div>\n",
       "<style scoped>\n",
       "    .dataframe tbody tr th:only-of-type {\n",
       "        vertical-align: middle;\n",
       "    }\n",
       "\n",
       "    .dataframe tbody tr th {\n",
       "        vertical-align: top;\n",
       "    }\n",
       "\n",
       "    .dataframe thead th {\n",
       "        text-align: right;\n",
       "    }\n",
       "</style>\n",
       "<table border=\"1\" class=\"dataframe\">\n",
       "  <thead>\n",
       "    <tr style=\"text-align: right;\">\n",
       "      <th></th>\n",
       "      <th>Country/Area</th>\n",
       "      <th>Year</th>\n",
       "      <th>Unit</th>\n",
       "      <th>Population</th>\n",
       "    </tr>\n",
       "  </thead>\n",
       "  <tbody>\n",
       "    <tr>\n",
       "      <th>0</th>\n",
       "      <td>Afghanistan</td>\n",
       "      <td>1990</td>\n",
       "      <td>Persons</td>\n",
       "      <td>12249114</td>\n",
       "    </tr>\n",
       "    <tr>\n",
       "      <th>1</th>\n",
       "      <td>Afghanistan</td>\n",
       "      <td>1991</td>\n",
       "      <td>Persons</td>\n",
       "      <td>12993657</td>\n",
       "    </tr>\n",
       "    <tr>\n",
       "      <th>2</th>\n",
       "      <td>Afghanistan</td>\n",
       "      <td>1992</td>\n",
       "      <td>Persons</td>\n",
       "      <td>13981231</td>\n",
       "    </tr>\n",
       "    <tr>\n",
       "      <th>3</th>\n",
       "      <td>Afghanistan</td>\n",
       "      <td>1993</td>\n",
       "      <td>Persons</td>\n",
       "      <td>15095099</td>\n",
       "    </tr>\n",
       "    <tr>\n",
       "      <th>4</th>\n",
       "      <td>Afghanistan</td>\n",
       "      <td>1994</td>\n",
       "      <td>Persons</td>\n",
       "      <td>16172719</td>\n",
       "    </tr>\n",
       "  </tbody>\n",
       "</table>\n",
       "</div>"
      ],
      "text/plain": [
       "  Country/Area  Year     Unit Population\n",
       "0  Afghanistan  1990  Persons   12249114\n",
       "1  Afghanistan  1991  Persons   12993657\n",
       "2  Afghanistan  1992  Persons   13981231\n",
       "3  Afghanistan  1993  Persons   15095099\n",
       "4  Afghanistan  1994  Persons   16172719"
      ]
     },
     "execution_count": 7,
     "metadata": {},
     "output_type": "execute_result"
    }
   ],
   "source": [
    "population_data.head(5)"
   ]
  },
  {
   "cell_type": "code",
   "execution_count": 8,
   "metadata": {},
   "outputs": [
    {
     "data": {
      "text/plain": [
       "(5500, 4)"
      ]
     },
     "execution_count": 8,
     "metadata": {},
     "output_type": "execute_result"
    }
   ],
   "source": [
    "population_data.shape"
   ]
  },
  {
   "cell_type": "code",
   "execution_count": 9,
   "metadata": {},
   "outputs": [
    {
     "data": {
      "text/plain": [
       "Country/Area    object\n",
       "Year             int64\n",
       "Unit            object\n",
       "Population      object\n",
       "dtype: object"
      ]
     },
     "execution_count": 9,
     "metadata": {},
     "output_type": "execute_result"
    }
   ],
   "source": [
    "population_data.dtypes"
   ]
  },
  {
   "cell_type": "markdown",
   "metadata": {},
   "source": [
    "Population will need to be fixed in a similar manner."
   ]
  },
  {
   "cell_type": "code",
   "execution_count": 10,
   "metadata": {},
   "outputs": [
    {
     "data": {
      "text/html": [
       "<div>\n",
       "<style scoped>\n",
       "    .dataframe tbody tr th:only-of-type {\n",
       "        vertical-align: middle;\n",
       "    }\n",
       "\n",
       "    .dataframe tbody tr th {\n",
       "        vertical-align: top;\n",
       "    }\n",
       "\n",
       "    .dataframe thead th {\n",
       "        text-align: right;\n",
       "    }\n",
       "</style>\n",
       "<table border=\"1\" class=\"dataframe\">\n",
       "  <thead>\n",
       "    <tr style=\"text-align: right;\">\n",
       "      <th></th>\n",
       "      <th>Country</th>\n",
       "      <th>Data source</th>\n",
       "      <th>Sector</th>\n",
       "      <th>Gas</th>\n",
       "      <th>Unit</th>\n",
       "      <th>2014</th>\n",
       "      <th>2013</th>\n",
       "      <th>2012</th>\n",
       "      <th>2011</th>\n",
       "      <th>2010</th>\n",
       "      <th>...</th>\n",
       "      <th>1999</th>\n",
       "      <th>1998</th>\n",
       "      <th>1997</th>\n",
       "      <th>1996</th>\n",
       "      <th>1995</th>\n",
       "      <th>1994</th>\n",
       "      <th>1993</th>\n",
       "      <th>1992</th>\n",
       "      <th>1991</th>\n",
       "      <th>1990</th>\n",
       "    </tr>\n",
       "  </thead>\n",
       "  <tbody>\n",
       "    <tr>\n",
       "      <th>0</th>\n",
       "      <td>World</td>\n",
       "      <td>CAIT</td>\n",
       "      <td>Total including LUCF</td>\n",
       "      <td>All GHG</td>\n",
       "      <td>MtCO₂e</td>\n",
       "      <td>48892.37</td>\n",
       "      <td>48257.30</td>\n",
       "      <td>47583.61</td>\n",
       "      <td>47025.97</td>\n",
       "      <td>45760.96</td>\n",
       "      <td>...</td>\n",
       "      <td>36212.69</td>\n",
       "      <td>36299.09</td>\n",
       "      <td>36626.68</td>\n",
       "      <td>35376.05</td>\n",
       "      <td>34922.08</td>\n",
       "      <td>34231.54</td>\n",
       "      <td>34051.21</td>\n",
       "      <td>33927.96</td>\n",
       "      <td>34008.49</td>\n",
       "      <td>33823.47</td>\n",
       "    </tr>\n",
       "    <tr>\n",
       "      <th>1</th>\n",
       "      <td>China</td>\n",
       "      <td>CAIT</td>\n",
       "      <td>Total including LUCF</td>\n",
       "      <td>All GHG</td>\n",
       "      <td>MtCO₂e</td>\n",
       "      <td>11600.63</td>\n",
       "      <td>11420.44</td>\n",
       "      <td>10938.67</td>\n",
       "      <td>10701.13</td>\n",
       "      <td>9712.78</td>\n",
       "      <td>...</td>\n",
       "      <td>3972.81</td>\n",
       "      <td>4038.55</td>\n",
       "      <td>3931.79</td>\n",
       "      <td>3900.32</td>\n",
       "      <td>3884.03</td>\n",
       "      <td>3498.95</td>\n",
       "      <td>3344.47</td>\n",
       "      <td>3117.42</td>\n",
       "      <td>2980.93</td>\n",
       "      <td>2833.49</td>\n",
       "    </tr>\n",
       "    <tr>\n",
       "      <th>2</th>\n",
       "      <td>United States</td>\n",
       "      <td>CAIT</td>\n",
       "      <td>Total including LUCF</td>\n",
       "      <td>All GHG</td>\n",
       "      <td>MtCO₂e</td>\n",
       "      <td>6319.02</td>\n",
       "      <td>6213.27</td>\n",
       "      <td>6132.14</td>\n",
       "      <td>6305.16</td>\n",
       "      <td>6115.68</td>\n",
       "      <td>...</td>\n",
       "      <td>6222.57</td>\n",
       "      <td>6178.27</td>\n",
       "      <td>6160.30</td>\n",
       "      <td>6013.18</td>\n",
       "      <td>5863.02</td>\n",
       "      <td>5805.98</td>\n",
       "      <td>5725.24</td>\n",
       "      <td>5598.11</td>\n",
       "      <td>5514.88</td>\n",
       "      <td>5550.04</td>\n",
       "    </tr>\n",
       "    <tr>\n",
       "      <th>3</th>\n",
       "      <td>India</td>\n",
       "      <td>CAIT</td>\n",
       "      <td>Total including LUCF</td>\n",
       "      <td>All GHG</td>\n",
       "      <td>MtCO₂e</td>\n",
       "      <td>3202.31</td>\n",
       "      <td>3031.34</td>\n",
       "      <td>2956.22</td>\n",
       "      <td>2821.64</td>\n",
       "      <td>2469.00</td>\n",
       "      <td>...</td>\n",
       "      <td>1594.49</td>\n",
       "      <td>1516.44</td>\n",
       "      <td>1485.84</td>\n",
       "      <td>1429.29</td>\n",
       "      <td>1375.25</td>\n",
       "      <td>1311.29</td>\n",
       "      <td>1263.72</td>\n",
       "      <td>1230.04</td>\n",
       "      <td>1197.94</td>\n",
       "      <td>1142.43</td>\n",
       "    </tr>\n",
       "    <tr>\n",
       "      <th>4</th>\n",
       "      <td>Indonesia</td>\n",
       "      <td>CAIT</td>\n",
       "      <td>Total including LUCF</td>\n",
       "      <td>All GHG</td>\n",
       "      <td>MtCO₂e</td>\n",
       "      <td>2471.64</td>\n",
       "      <td>2160.98</td>\n",
       "      <td>2156.54</td>\n",
       "      <td>2135.19</td>\n",
       "      <td>1994.78</td>\n",
       "      <td>...</td>\n",
       "      <td>1393.40</td>\n",
       "      <td>1498.99</td>\n",
       "      <td>2259.06</td>\n",
       "      <td>1308.49</td>\n",
       "      <td>1435.23</td>\n",
       "      <td>1401.19</td>\n",
       "      <td>1386.03</td>\n",
       "      <td>1371.11</td>\n",
       "      <td>1352.78</td>\n",
       "      <td>1336.74</td>\n",
       "    </tr>\n",
       "  </tbody>\n",
       "</table>\n",
       "<p>5 rows × 30 columns</p>\n",
       "</div>"
      ],
      "text/plain": [
       "         Country Data source                Sector      Gas    Unit      2014  \\\n",
       "0          World        CAIT  Total including LUCF  All GHG  MtCO₂e  48892.37   \n",
       "1          China        CAIT  Total including LUCF  All GHG  MtCO₂e  11600.63   \n",
       "2  United States        CAIT  Total including LUCF  All GHG  MtCO₂e   6319.02   \n",
       "3          India        CAIT  Total including LUCF  All GHG  MtCO₂e   3202.31   \n",
       "4      Indonesia        CAIT  Total including LUCF  All GHG  MtCO₂e   2471.64   \n",
       "\n",
       "       2013      2012      2011      2010  ...      1999      1998      1997  \\\n",
       "0  48257.30  47583.61  47025.97  45760.96  ...  36212.69  36299.09  36626.68   \n",
       "1  11420.44  10938.67  10701.13   9712.78  ...   3972.81   4038.55   3931.79   \n",
       "2   6213.27   6132.14   6305.16   6115.68  ...   6222.57   6178.27   6160.30   \n",
       "3   3031.34   2956.22   2821.64   2469.00  ...   1594.49   1516.44   1485.84   \n",
       "4   2160.98   2156.54   2135.19   1994.78  ...   1393.40   1498.99   2259.06   \n",
       "\n",
       "       1996      1995      1994      1993      1992      1991      1990  \n",
       "0  35376.05  34922.08  34231.54  34051.21  33927.96  34008.49  33823.47  \n",
       "1   3900.32   3884.03   3498.95   3344.47   3117.42   2980.93   2833.49  \n",
       "2   6013.18   5863.02   5805.98   5725.24   5598.11   5514.88   5550.04  \n",
       "3   1429.29   1375.25   1311.29   1263.72   1230.04   1197.94   1142.43  \n",
       "4   1308.49   1435.23   1401.19   1386.03   1371.11   1352.78   1336.74  \n",
       "\n",
       "[5 rows x 30 columns]"
      ]
     },
     "execution_count": 10,
     "metadata": {},
     "output_type": "execute_result"
    }
   ],
   "source": [
    "ghg_emissions_data.head()"
   ]
  },
  {
   "cell_type": "code",
   "execution_count": 11,
   "metadata": {},
   "outputs": [
    {
     "data": {
      "text/plain": [
       "(192, 30)"
      ]
     },
     "execution_count": 11,
     "metadata": {},
     "output_type": "execute_result"
    }
   ],
   "source": [
    "ghg_emissions_data.shape"
   ]
  },
  {
   "cell_type": "code",
   "execution_count": 12,
   "metadata": {},
   "outputs": [
    {
     "data": {
      "text/plain": [
       "Country         object\n",
       "Data source     object\n",
       "Sector          object\n",
       "Gas             object\n",
       "Unit            object\n",
       "2014           float64\n",
       "2013           float64\n",
       "2012           float64\n",
       "2011           float64\n",
       "2010           float64\n",
       "2009           float64\n",
       "2008           float64\n",
       "2007           float64\n",
       "2006           float64\n",
       "2005           float64\n",
       "2004           float64\n",
       "2003           float64\n",
       "2002           float64\n",
       "2001           float64\n",
       "2000           float64\n",
       "1999           float64\n",
       "1998           float64\n",
       "1997           float64\n",
       "1996           float64\n",
       "1995           float64\n",
       "1994           float64\n",
       "1993           float64\n",
       "1992           float64\n",
       "1991           float64\n",
       "1990           float64\n",
       "dtype: object"
      ]
     },
     "execution_count": 12,
     "metadata": {},
     "output_type": "execute_result"
    }
   ],
   "source": [
    "ghg_emissions_data.dtypes"
   ]
  },
  {
   "cell_type": "code",
   "execution_count": 13,
   "metadata": {},
   "outputs": [
    {
     "data": {
      "text/html": [
       "<div>\n",
       "<style scoped>\n",
       "    .dataframe tbody tr th:only-of-type {\n",
       "        vertical-align: middle;\n",
       "    }\n",
       "\n",
       "    .dataframe tbody tr th {\n",
       "        vertical-align: top;\n",
       "    }\n",
       "\n",
       "    .dataframe thead th {\n",
       "        text-align: right;\n",
       "    }\n",
       "</style>\n",
       "<table border=\"1\" class=\"dataframe\">\n",
       "  <thead>\n",
       "    <tr style=\"text-align: right;\">\n",
       "      <th></th>\n",
       "      <th>Unnamed: 0</th>\n",
       "      <th>country_or_area</th>\n",
       "      <th>commodity_transaction</th>\n",
       "      <th>year</th>\n",
       "      <th>unit</th>\n",
       "      <th>quantity</th>\n",
       "      <th>quantity_footnotes</th>\n",
       "      <th>category</th>\n",
       "    </tr>\n",
       "  </thead>\n",
       "  <tbody>\n",
       "    <tr>\n",
       "      <th>0</th>\n",
       "      <td>536037</td>\n",
       "      <td>Estonia</td>\n",
       "      <td>From combustible fuels – Main activity</td>\n",
       "      <td>2002</td>\n",
       "      <td>Terajoules</td>\n",
       "      <td>24717.0</td>\n",
       "      <td>NaN</td>\n",
       "      <td>heat</td>\n",
       "    </tr>\n",
       "    <tr>\n",
       "      <th>1</th>\n",
       "      <td>705920</td>\n",
       "      <td>Hungary</td>\n",
       "      <td>Lubricants - Transfers and recycled products</td>\n",
       "      <td>2005</td>\n",
       "      <td>Metric tons,  thousand</td>\n",
       "      <td>0.0</td>\n",
       "      <td>NaN</td>\n",
       "      <td>lubricants</td>\n",
       "    </tr>\n",
       "    <tr>\n",
       "      <th>2</th>\n",
       "      <td>313067</td>\n",
       "      <td>Uzbekistan</td>\n",
       "      <td>Fuel oil - production from refineries</td>\n",
       "      <td>1994</td>\n",
       "      <td>Metric tons,  thousand</td>\n",
       "      <td>1314.0</td>\n",
       "      <td>NaN</td>\n",
       "      <td>fuel_oil</td>\n",
       "    </tr>\n",
       "    <tr>\n",
       "      <th>3</th>\n",
       "      <td>1178585</td>\n",
       "      <td>Brazil</td>\n",
       "      <td>White spirit and special boiling point industr...</td>\n",
       "      <td>1991</td>\n",
       "      <td>Metric tons,  thousand</td>\n",
       "      <td>0.0</td>\n",
       "      <td>NaN</td>\n",
       "      <td>white_spirit_and_special_boiling_point_industr...</td>\n",
       "    </tr>\n",
       "    <tr>\n",
       "      <th>4</th>\n",
       "      <td>575575</td>\n",
       "      <td>Germany</td>\n",
       "      <td>Industrial Waste - Transformation in heat plan...</td>\n",
       "      <td>2008</td>\n",
       "      <td>Terajoules</td>\n",
       "      <td>10057.0</td>\n",
       "      <td>NaN</td>\n",
       "      <td>industrial_waste</td>\n",
       "    </tr>\n",
       "  </tbody>\n",
       "</table>\n",
       "</div>"
      ],
      "text/plain": [
       "   Unnamed: 0 country_or_area  \\\n",
       "0      536037         Estonia   \n",
       "1      705920         Hungary   \n",
       "2      313067      Uzbekistan   \n",
       "3     1178585          Brazil   \n",
       "4      575575         Germany   \n",
       "\n",
       "                               commodity_transaction  year  \\\n",
       "0             From combustible fuels – Main activity  2002   \n",
       "1       Lubricants - Transfers and recycled products  2005   \n",
       "2              Fuel oil - production from refineries  1994   \n",
       "3  White spirit and special boiling point industr...  1991   \n",
       "4  Industrial Waste - Transformation in heat plan...  2008   \n",
       "\n",
       "                     unit  quantity  quantity_footnotes  \\\n",
       "0              Terajoules   24717.0                 NaN   \n",
       "1  Metric tons,  thousand       0.0                 NaN   \n",
       "2  Metric tons,  thousand    1314.0                 NaN   \n",
       "3  Metric tons,  thousand       0.0                 NaN   \n",
       "4              Terajoules   10057.0                 NaN   \n",
       "\n",
       "                                            category  \n",
       "0                                               heat  \n",
       "1                                         lubricants  \n",
       "2                                           fuel_oil  \n",
       "3  white_spirit_and_special_boiling_point_industr...  \n",
       "4                                   industrial_waste  "
      ]
     },
     "execution_count": 13,
     "metadata": {},
     "output_type": "execute_result"
    }
   ],
   "source": [
    "world_energy_stats.head()"
   ]
  },
  {
   "cell_type": "code",
   "execution_count": 14,
   "metadata": {},
   "outputs": [
    {
     "data": {
      "text/plain": [
       "(1000, 8)"
      ]
     },
     "execution_count": 14,
     "metadata": {},
     "output_type": "execute_result"
    }
   ],
   "source": [
    "world_energy_stats.shape"
   ]
  },
  {
   "cell_type": "code",
   "execution_count": 15,
   "metadata": {},
   "outputs": [
    {
     "data": {
      "text/plain": [
       "Unnamed: 0                 int64\n",
       "country_or_area           object\n",
       "commodity_transaction     object\n",
       "year                       int64\n",
       "unit                      object\n",
       "quantity                 float64\n",
       "quantity_footnotes       float64\n",
       "category                  object\n",
       "dtype: object"
      ]
     },
     "execution_count": 15,
     "metadata": {},
     "output_type": "execute_result"
    }
   ],
   "source": [
    "world_energy_stats.dtypes"
   ]
  },
  {
   "cell_type": "markdown",
   "metadata": {},
   "source": [
    "Quantity_footnotes will have to be investigater further."
   ]
  },
  {
   "cell_type": "markdown",
   "metadata": {},
   "source": [
    "## 3. Data Preprocessing"
   ]
  },
  {
   "cell_type": "markdown",
   "metadata": {},
   "source": [
    "### 3.1 Cleaninig and choosing columns to work with"
   ]
  },
  {
   "cell_type": "markdown",
   "metadata": {},
   "source": [
    "For the GDP data I'd like to change the name of the GDP column. But first I'm going to check if all units are in US$ and check the GDP column for missing data. But first will do some renaming."
   ]
  },
  {
   "cell_type": "code",
   "execution_count": 16,
   "metadata": {},
   "outputs": [],
   "source": [
    "gdp_data.rename(columns={\"Country/Area\":\"country_or_area\", \"Year\":\"year\", \"Unit\":\"unit\",\n",
    "                         \"Gross Domestic Product (GDP)\":\"gdp_usd\"}, inplace = True)"
   ]
  },
  {
   "cell_type": "code",
   "execution_count": 17,
   "metadata": {},
   "outputs": [
    {
     "data": {
      "text/plain": [
       "array(['US$', '...'], dtype=object)"
      ]
     },
     "execution_count": 17,
     "metadata": {},
     "output_type": "execute_result"
    }
   ],
   "source": [
    "gdp_data.unit.unique()"
   ]
  },
  {
   "cell_type": "code",
   "execution_count": 18,
   "metadata": {},
   "outputs": [
    {
     "data": {
      "text/html": [
       "<div>\n",
       "<style scoped>\n",
       "    .dataframe tbody tr th:only-of-type {\n",
       "        vertical-align: middle;\n",
       "    }\n",
       "\n",
       "    .dataframe tbody tr th {\n",
       "        vertical-align: top;\n",
       "    }\n",
       "\n",
       "    .dataframe thead th {\n",
       "        text-align: right;\n",
       "    }\n",
       "</style>\n",
       "<table border=\"1\" class=\"dataframe\">\n",
       "  <thead>\n",
       "    <tr style=\"text-align: right;\">\n",
       "      <th></th>\n",
       "      <th>country_or_area</th>\n",
       "      <th>year</th>\n",
       "      <th>unit</th>\n",
       "      <th>gdp_usd</th>\n",
       "    </tr>\n",
       "  </thead>\n",
       "  <tbody>\n",
       "    <tr>\n",
       "      <th>1425</th>\n",
       "      <td>Curaçao</td>\n",
       "      <td>1990</td>\n",
       "      <td>...</td>\n",
       "      <td>...</td>\n",
       "    </tr>\n",
       "    <tr>\n",
       "      <th>1426</th>\n",
       "      <td>Curaçao</td>\n",
       "      <td>1991</td>\n",
       "      <td>...</td>\n",
       "      <td>...</td>\n",
       "    </tr>\n",
       "    <tr>\n",
       "      <th>1427</th>\n",
       "      <td>Curaçao</td>\n",
       "      <td>1992</td>\n",
       "      <td>...</td>\n",
       "      <td>...</td>\n",
       "    </tr>\n",
       "    <tr>\n",
       "      <th>1428</th>\n",
       "      <td>Curaçao</td>\n",
       "      <td>1993</td>\n",
       "      <td>...</td>\n",
       "      <td>...</td>\n",
       "    </tr>\n",
       "    <tr>\n",
       "      <th>1429</th>\n",
       "      <td>Curaçao</td>\n",
       "      <td>1994</td>\n",
       "      <td>...</td>\n",
       "      <td>...</td>\n",
       "    </tr>\n",
       "    <tr>\n",
       "      <th>...</th>\n",
       "      <td>...</td>\n",
       "      <td>...</td>\n",
       "      <td>...</td>\n",
       "      <td>...</td>\n",
       "    </tr>\n",
       "    <tr>\n",
       "      <th>6195</th>\n",
       "      <td>Yemen: Former Yemen Arab Republic</td>\n",
       "      <td>2010</td>\n",
       "      <td>...</td>\n",
       "      <td>...</td>\n",
       "    </tr>\n",
       "    <tr>\n",
       "      <th>6196</th>\n",
       "      <td>Yemen: Former Yemen Arab Republic</td>\n",
       "      <td>2011</td>\n",
       "      <td>...</td>\n",
       "      <td>...</td>\n",
       "    </tr>\n",
       "    <tr>\n",
       "      <th>6197</th>\n",
       "      <td>Yemen: Former Yemen Arab Republic</td>\n",
       "      <td>2012</td>\n",
       "      <td>...</td>\n",
       "      <td>...</td>\n",
       "    </tr>\n",
       "    <tr>\n",
       "      <th>6198</th>\n",
       "      <td>Yemen: Former Yemen Arab Republic</td>\n",
       "      <td>2013</td>\n",
       "      <td>...</td>\n",
       "      <td>...</td>\n",
       "    </tr>\n",
       "    <tr>\n",
       "      <th>6199</th>\n",
       "      <td>Yemen: Former Yemen Arab Republic</td>\n",
       "      <td>2014</td>\n",
       "      <td>...</td>\n",
       "      <td>...</td>\n",
       "    </tr>\n",
       "  </tbody>\n",
       "</table>\n",
       "<p>219 rows × 4 columns</p>\n",
       "</div>"
      ],
      "text/plain": [
       "                        country_or_area  year unit gdp_usd\n",
       "1425                            Curaçao  1990  ...     ...\n",
       "1426                            Curaçao  1991  ...     ...\n",
       "1427                            Curaçao  1992  ...     ...\n",
       "1428                            Curaçao  1993  ...     ...\n",
       "1429                            Curaçao  1994  ...     ...\n",
       "...                                 ...   ...  ...     ...\n",
       "6195  Yemen: Former Yemen Arab Republic  2010  ...     ...\n",
       "6196  Yemen: Former Yemen Arab Republic  2011  ...     ...\n",
       "6197  Yemen: Former Yemen Arab Republic  2012  ...     ...\n",
       "6198  Yemen: Former Yemen Arab Republic  2013  ...     ...\n",
       "6199  Yemen: Former Yemen Arab Republic  2014  ...     ...\n",
       "\n",
       "[219 rows x 4 columns]"
      ]
     },
     "execution_count": 18,
     "metadata": {},
     "output_type": "execute_result"
    }
   ],
   "source": [
    "gdp_data[gdp_data.unit == \"...\"]"
   ]
  },
  {
   "cell_type": "markdown",
   "metadata": {},
   "source": [
    "It appears we have missing values so I'm curious to see for which countries."
   ]
  },
  {
   "cell_type": "code",
   "execution_count": 19,
   "metadata": {},
   "outputs": [],
   "source": [
    "missing_gdp_data = gdp_data[gdp_data.unit == '...']"
   ]
  },
  {
   "cell_type": "code",
   "execution_count": 20,
   "metadata": {},
   "outputs": [
    {
     "data": {
      "text/plain": [
       "array(['Curaçao', 'Former Czechoslovakia', 'Former Ethiopia',\n",
       "       'Former Netherlands Antilles', 'Former Sudan', 'Former USSR',\n",
       "       'Former Yugoslavia', 'Sint Maarten (Dutch part)', 'South Sudan',\n",
       "       'Sudan', 'Yemen: Former Democratic Yemen',\n",
       "       'Yemen: Former Yemen Arab Republic'], dtype=object)"
      ]
     },
     "execution_count": 20,
     "metadata": {},
     "output_type": "execute_result"
    }
   ],
   "source": [
    "missing_gdp_data.country_or_area.unique()"
   ]
  },
  {
   "cell_type": "markdown",
   "metadata": {},
   "source": [
    "Since I can see the major of those are former states I will check if there are any current equivalents in the original gdp_data."
   ]
  },
  {
   "cell_type": "code",
   "execution_count": 21,
   "metadata": {},
   "outputs": [
    {
     "data": {
      "text/plain": [
       "array(['Afghanistan', 'Africa', 'Albania', 'Algeria', 'Americas',\n",
       "       'Andorra', 'Angola', 'Anguilla', 'Antigua and Barbuda',\n",
       "       'Argentina', 'Armenia', 'Aruba', 'Asia', 'Australia',\n",
       "       'Australia and New Zealand', 'Austria', 'Azerbaijan', 'Bahamas',\n",
       "       'Bahrain', 'Bangladesh', 'Barbados', 'Belarus', 'Belgium',\n",
       "       'Belize', 'Benin', 'Bermuda', 'Bhutan',\n",
       "       'Bolivia (Plurinational State of)', 'Bosnia and Herzegovina',\n",
       "       'Botswana', 'Brazil', 'British Virgin Islands',\n",
       "       'Brunei Darussalam', 'Bulgaria', 'Burkina Faso', 'Burundi',\n",
       "       'Cabo Verde', 'Cambodia', 'Cameroon', 'Canada', 'Caribbean',\n",
       "       'Cayman Islands', 'Central African Republic', 'Central America',\n",
       "       'Central Asia', 'Chad', 'Chile', 'China, Hong Kong SAR',\n",
       "       'China, Macao Special Administrative Region',\n",
       "       \"China, People's Republic of\", 'Colombia', 'Comoros', 'Congo',\n",
       "       'Cook Islands', 'Costa Rica', 'Croatia', 'Cuba', 'Curaçao',\n",
       "       'Cyprus', 'Czechia', \"Côte d'Ivoire\",\n",
       "       \"Democratic People's Republic of Korea\",\n",
       "       'Democratic Republic of the Congo', 'Denmark', 'Djibouti',\n",
       "       'Dominica', 'Dominican Republic', 'Eastern Africa', 'Eastern Asia',\n",
       "       'Eastern Europe', 'Ecuador', 'Egypt', 'El Salvador',\n",
       "       'Equatorial Guinea', 'Eritrea', 'Estonia', 'Ethiopia', 'Europe',\n",
       "       'Fiji', 'Finland', 'Former Czechoslovakia', 'Former Ethiopia',\n",
       "       'Former Netherlands Antilles', 'Former Sudan', 'Former USSR',\n",
       "       'Former Yugoslavia', 'France', 'French Polynesia', 'Gabon',\n",
       "       'Gambia', 'Georgia', 'Germany', 'Ghana', 'Greece', 'Greenland',\n",
       "       'Grenada', 'Guatemala', 'Guinea', 'Guinea-Bissau', 'Guyana',\n",
       "       'Haiti', 'Honduras', 'Hungary', 'Iceland', 'India', 'Indonesia',\n",
       "       'Iran, Islamic Republic of', 'Iraq', 'Ireland', 'Israel', 'Italy',\n",
       "       'Jamaica', 'Japan', 'Jordan', 'Kazakhstan', 'Kenya',\n",
       "       'Kingdom of Eswatini', 'Kiribati', 'Kosovo', 'Kuwait',\n",
       "       'Kyrgyzstan', \"Lao People's Democratic Republic\",\n",
       "       'Latin America and the Caribbean', 'Latvia', 'Lebanon', 'Lesotho',\n",
       "       'Liberia', 'Libya', 'Liechtenstein', 'Lithuania', 'Luxembourg',\n",
       "       'Madagascar', 'Malawi', 'Malaysia', 'Maldives', 'Mali', 'Malta',\n",
       "       'Marshall Islands', 'Mauritania', 'Mauritius', 'Melanesia',\n",
       "       'Mexico', 'Micronesia', 'Micronesia (Federated States of)',\n",
       "       'Middle Africa', 'Monaco', 'Mongolia', 'Montenegro', 'Montserrat',\n",
       "       'Morocco', 'Mozambique', 'Myanmar', 'Namibia', 'Nauru', 'Nepal',\n",
       "       'Netherlands', 'New Caledonia', 'New Zealand', 'Nicaragua',\n",
       "       'Niger', 'Nigeria', 'Northern Africa', 'Northern America',\n",
       "       'Northern Europe', 'Norway', 'Oceania', 'Oman', 'Pakistan',\n",
       "       'Palau', 'Panama', 'Papua New Guinea', 'Paraguay', 'Peru',\n",
       "       'Philippines', 'Poland', 'Polynesia', 'Portugal', 'Puerto Rico',\n",
       "       'Qatar', 'Republic of Korea', 'Republic of Moldova', 'Romania',\n",
       "       'Russian Federation', 'Rwanda', 'Saint Kitts and Nevis',\n",
       "       'Saint Lucia', 'Saint Vincent and the Grenadines', 'Samoa',\n",
       "       'San Marino', 'Sao Tome and Principe', 'Saudi Arabia', 'Senegal',\n",
       "       'Serbia', 'Seychelles', 'Sierra Leone', 'Singapore',\n",
       "       'Sint Maarten (Dutch part)', 'Slovakia', 'Slovenia',\n",
       "       'Solomon Islands', 'Somalia', 'South Africa', 'South America',\n",
       "       'South Sudan', 'South-Eastern Asia', 'Southern Africa',\n",
       "       'Southern Asia', 'Southern Europe', 'Spain', 'Sri Lanka',\n",
       "       'State of Palestine', 'Sub-Saharan Africa', 'Sudan', 'Suriname',\n",
       "       'Sweden', 'Switzerland', 'Syrian Arab Republic', 'Tajikistan',\n",
       "       'Thailand', 'The former Yugoslav Republic of Macedonia',\n",
       "       'Timor-Leste', 'Togo', 'Tonga', 'Trinidad and Tobago', 'Tunisia',\n",
       "       'Turkey', 'Turkmenistan', 'Turks and Caicos Islands', 'Tuvalu',\n",
       "       'Uganda', 'Ukraine', 'United Arab Emirates',\n",
       "       'United Kingdom of Great Britain and Northern Ireland',\n",
       "       'United Republic of Tanzania: Mainland',\n",
       "       'United Republic of Tanzania: Zanzibar', 'United States',\n",
       "       'Uruguay', 'Uzbekistan', 'Vanuatu',\n",
       "       'Venezuela (Bolivarian Republic of)', 'Viet Nam', 'Western Africa',\n",
       "       'Western Asia', 'Western Europe', 'World', 'Yemen',\n",
       "       'Yemen: Former Democratic Yemen',\n",
       "       'Yemen: Former Yemen Arab Republic', 'Zambia', 'Zimbabwe'],\n",
       "      dtype=object)"
      ]
     },
     "execution_count": 21,
     "metadata": {},
     "output_type": "execute_result"
    }
   ],
   "source": [
    "gdp_data.country_or_area.unique()"
   ]
  },
  {
   "cell_type": "markdown",
   "metadata": {},
   "source": [
    "Curaçao, Former Netherlands Antilles, Sint Maarten (Dutch part) are small island nations/autonomous regions with insignificant population/GDP (after quick google check).\n",
    "Czechoslovakia and Former Yemen exist as current countries(Czechia and Yemen). USSR doesn't.\n",
    "For Sudan the case is a bit more interesting - in 2005 the civil war ended and in 2008 the GPD calculations for Former Sudan were split between Sudan and South Sudan, therefore till 2008 the country is \"Former Sudan\" while 2008 onwards there are South Sudan and Sudan (as shown below). Interestingly enough official independence was gained in 2011 (after quick google search) and this has a result for next dataset - the one for the population."
   ]
  },
  {
   "cell_type": "code",
   "execution_count": 22,
   "metadata": {},
   "outputs": [
    {
     "data": {
      "text/html": [
       "<div>\n",
       "<style scoped>\n",
       "    .dataframe tbody tr th:only-of-type {\n",
       "        vertical-align: middle;\n",
       "    }\n",
       "\n",
       "    .dataframe tbody tr th {\n",
       "        vertical-align: top;\n",
       "    }\n",
       "\n",
       "    .dataframe thead th {\n",
       "        text-align: right;\n",
       "    }\n",
       "</style>\n",
       "<table border=\"1\" class=\"dataframe\">\n",
       "  <thead>\n",
       "    <tr style=\"text-align: right;\">\n",
       "      <th></th>\n",
       "      <th>country_or_area</th>\n",
       "      <th>year</th>\n",
       "      <th>unit</th>\n",
       "      <th>gdp_usd</th>\n",
       "    </tr>\n",
       "  </thead>\n",
       "  <tbody>\n",
       "    <tr>\n",
       "      <th>2075</th>\n",
       "      <td>Former Sudan</td>\n",
       "      <td>1990</td>\n",
       "      <td>US$</td>\n",
       "      <td>12637465293.584476</td>\n",
       "    </tr>\n",
       "    <tr>\n",
       "      <th>2076</th>\n",
       "      <td>Former Sudan</td>\n",
       "      <td>1991</td>\n",
       "      <td>US$</td>\n",
       "      <td>11327849239.141048</td>\n",
       "    </tr>\n",
       "    <tr>\n",
       "      <th>2077</th>\n",
       "      <td>Former Sudan</td>\n",
       "      <td>1992</td>\n",
       "      <td>US$</td>\n",
       "      <td>12115514608.798815</td>\n",
       "    </tr>\n",
       "    <tr>\n",
       "      <th>2078</th>\n",
       "      <td>Former Sudan</td>\n",
       "      <td>1993</td>\n",
       "      <td>US$</td>\n",
       "      <td>12528649867.897085</td>\n",
       "    </tr>\n",
       "    <tr>\n",
       "      <th>2079</th>\n",
       "      <td>Former Sudan</td>\n",
       "      <td>1994</td>\n",
       "      <td>US$</td>\n",
       "      <td>11884304301.173971</td>\n",
       "    </tr>\n",
       "    <tr>\n",
       "      <th>2080</th>\n",
       "      <td>Former Sudan</td>\n",
       "      <td>1995</td>\n",
       "      <td>US$</td>\n",
       "      <td>12847187343.20496</td>\n",
       "    </tr>\n",
       "    <tr>\n",
       "      <th>2081</th>\n",
       "      <td>Former Sudan</td>\n",
       "      <td>1996</td>\n",
       "      <td>US$</td>\n",
       "      <td>8377204018.255106</td>\n",
       "    </tr>\n",
       "    <tr>\n",
       "      <th>2082</th>\n",
       "      <td>Former Sudan</td>\n",
       "      <td>1997</td>\n",
       "      <td>US$</td>\n",
       "      <td>10241121411.017347</td>\n",
       "    </tr>\n",
       "    <tr>\n",
       "      <th>2083</th>\n",
       "      <td>Former Sudan</td>\n",
       "      <td>1998</td>\n",
       "      <td>US$</td>\n",
       "      <td>10924153611.249563</td>\n",
       "    </tr>\n",
       "    <tr>\n",
       "      <th>2084</th>\n",
       "      <td>Former Sudan</td>\n",
       "      <td>1999</td>\n",
       "      <td>US$</td>\n",
       "      <td>10714222610.732826</td>\n",
       "    </tr>\n",
       "    <tr>\n",
       "      <th>2085</th>\n",
       "      <td>Former Sudan</td>\n",
       "      <td>2000</td>\n",
       "      <td>US$</td>\n",
       "      <td>13092089677.488356</td>\n",
       "    </tr>\n",
       "    <tr>\n",
       "      <th>2086</th>\n",
       "      <td>Former Sudan</td>\n",
       "      <td>2001</td>\n",
       "      <td>US$</td>\n",
       "      <td>15716361226.73591</td>\n",
       "    </tr>\n",
       "    <tr>\n",
       "      <th>2087</th>\n",
       "      <td>Former Sudan</td>\n",
       "      <td>2002</td>\n",
       "      <td>US$</td>\n",
       "      <td>18137125704.899586</td>\n",
       "    </tr>\n",
       "    <tr>\n",
       "      <th>2088</th>\n",
       "      <td>Former Sudan</td>\n",
       "      <td>2003</td>\n",
       "      <td>US$</td>\n",
       "      <td>21355295464.98676</td>\n",
       "    </tr>\n",
       "    <tr>\n",
       "      <th>2089</th>\n",
       "      <td>Former Sudan</td>\n",
       "      <td>2004</td>\n",
       "      <td>US$</td>\n",
       "      <td>26646006923.867313</td>\n",
       "    </tr>\n",
       "    <tr>\n",
       "      <th>2090</th>\n",
       "      <td>Former Sudan</td>\n",
       "      <td>2005</td>\n",
       "      <td>US$</td>\n",
       "      <td>35182655040.417114</td>\n",
       "    </tr>\n",
       "    <tr>\n",
       "      <th>2091</th>\n",
       "      <td>Former Sudan</td>\n",
       "      <td>2006</td>\n",
       "      <td>US$</td>\n",
       "      <td>45263776747.61312</td>\n",
       "    </tr>\n",
       "    <tr>\n",
       "      <th>2092</th>\n",
       "      <td>Former Sudan</td>\n",
       "      <td>2007</td>\n",
       "      <td>US$</td>\n",
       "      <td>59440603144.68529</td>\n",
       "    </tr>\n",
       "    <tr>\n",
       "      <th>5093</th>\n",
       "      <td>South Sudan</td>\n",
       "      <td>2008</td>\n",
       "      <td>US$</td>\n",
       "      <td>15299761574.949226</td>\n",
       "    </tr>\n",
       "    <tr>\n",
       "      <th>5094</th>\n",
       "      <td>South Sudan</td>\n",
       "      <td>2009</td>\n",
       "      <td>US$</td>\n",
       "      <td>12243937355.965607</td>\n",
       "    </tr>\n",
       "    <tr>\n",
       "      <th>5095</th>\n",
       "      <td>South Sudan</td>\n",
       "      <td>2010</td>\n",
       "      <td>US$</td>\n",
       "      <td>15205808427.199434</td>\n",
       "    </tr>\n",
       "    <tr>\n",
       "      <th>5096</th>\n",
       "      <td>South Sudan</td>\n",
       "      <td>2011</td>\n",
       "      <td>US$</td>\n",
       "      <td>17789202914.735943</td>\n",
       "    </tr>\n",
       "    <tr>\n",
       "      <th>5097</th>\n",
       "      <td>South Sudan</td>\n",
       "      <td>2012</td>\n",
       "      <td>US$</td>\n",
       "      <td>9569759200.338982</td>\n",
       "    </tr>\n",
       "    <tr>\n",
       "      <th>5098</th>\n",
       "      <td>South Sudan</td>\n",
       "      <td>2013</td>\n",
       "      <td>US$</td>\n",
       "      <td>13427818090.508474</td>\n",
       "    </tr>\n",
       "    <tr>\n",
       "      <th>5099</th>\n",
       "      <td>South Sudan</td>\n",
       "      <td>2014</td>\n",
       "      <td>US$</td>\n",
       "      <td>15847905196.949152</td>\n",
       "    </tr>\n",
       "    <tr>\n",
       "      <th>5318</th>\n",
       "      <td>Sudan</td>\n",
       "      <td>2008</td>\n",
       "      <td>US$</td>\n",
       "      <td>48662671475.62987</td>\n",
       "    </tr>\n",
       "    <tr>\n",
       "      <th>5319</th>\n",
       "      <td>Sudan</td>\n",
       "      <td>2009</td>\n",
       "      <td>US$</td>\n",
       "      <td>48318470314.2833</td>\n",
       "    </tr>\n",
       "    <tr>\n",
       "      <th>5320</th>\n",
       "      <td>Sudan</td>\n",
       "      <td>2010</td>\n",
       "      <td>US$</td>\n",
       "      <td>54458734459.62171</td>\n",
       "    </tr>\n",
       "    <tr>\n",
       "      <th>5321</th>\n",
       "      <td>Sudan</td>\n",
       "      <td>2011</td>\n",
       "      <td>US$</td>\n",
       "      <td>69515078921.01698</td>\n",
       "    </tr>\n",
       "    <tr>\n",
       "      <th>5322</th>\n",
       "      <td>Sudan</td>\n",
       "      <td>2012</td>\n",
       "      <td>US$</td>\n",
       "      <td>61878736935.26611</td>\n",
       "    </tr>\n",
       "    <tr>\n",
       "      <th>5323</th>\n",
       "      <td>Sudan</td>\n",
       "      <td>2013</td>\n",
       "      <td>US$</td>\n",
       "      <td>63911665939.353905</td>\n",
       "    </tr>\n",
       "    <tr>\n",
       "      <th>5324</th>\n",
       "      <td>Sudan</td>\n",
       "      <td>2014</td>\n",
       "      <td>US$</td>\n",
       "      <td>74357657774.85963</td>\n",
       "    </tr>\n",
       "  </tbody>\n",
       "</table>\n",
       "</div>"
      ],
      "text/plain": [
       "     country_or_area  year unit             gdp_usd\n",
       "2075    Former Sudan  1990  US$  12637465293.584476\n",
       "2076    Former Sudan  1991  US$  11327849239.141048\n",
       "2077    Former Sudan  1992  US$  12115514608.798815\n",
       "2078    Former Sudan  1993  US$  12528649867.897085\n",
       "2079    Former Sudan  1994  US$  11884304301.173971\n",
       "2080    Former Sudan  1995  US$   12847187343.20496\n",
       "2081    Former Sudan  1996  US$   8377204018.255106\n",
       "2082    Former Sudan  1997  US$  10241121411.017347\n",
       "2083    Former Sudan  1998  US$  10924153611.249563\n",
       "2084    Former Sudan  1999  US$  10714222610.732826\n",
       "2085    Former Sudan  2000  US$  13092089677.488356\n",
       "2086    Former Sudan  2001  US$   15716361226.73591\n",
       "2087    Former Sudan  2002  US$  18137125704.899586\n",
       "2088    Former Sudan  2003  US$   21355295464.98676\n",
       "2089    Former Sudan  2004  US$  26646006923.867313\n",
       "2090    Former Sudan  2005  US$  35182655040.417114\n",
       "2091    Former Sudan  2006  US$   45263776747.61312\n",
       "2092    Former Sudan  2007  US$   59440603144.68529\n",
       "5093     South Sudan  2008  US$  15299761574.949226\n",
       "5094     South Sudan  2009  US$  12243937355.965607\n",
       "5095     South Sudan  2010  US$  15205808427.199434\n",
       "5096     South Sudan  2011  US$  17789202914.735943\n",
       "5097     South Sudan  2012  US$   9569759200.338982\n",
       "5098     South Sudan  2013  US$  13427818090.508474\n",
       "5099     South Sudan  2014  US$  15847905196.949152\n",
       "5318           Sudan  2008  US$   48662671475.62987\n",
       "5319           Sudan  2009  US$    48318470314.2833\n",
       "5320           Sudan  2010  US$   54458734459.62171\n",
       "5321           Sudan  2011  US$   69515078921.01698\n",
       "5322           Sudan  2012  US$   61878736935.26611\n",
       "5323           Sudan  2013  US$  63911665939.353905\n",
       "5324           Sudan  2014  US$   74357657774.85963"
      ]
     },
     "execution_count": 22,
     "metadata": {},
     "output_type": "execute_result"
    }
   ],
   "source": [
    "gdp_data[(gdp_data[\"country_or_area\"].str.contains(\"Sudan\")) & (gdp_data[\"unit\"] == \"US$\")]"
   ]
  },
  {
   "cell_type": "markdown",
   "metadata": {},
   "source": [
    "I want to check if it's the same case for column gdp_usd."
   ]
  },
  {
   "cell_type": "code",
   "execution_count": 23,
   "metadata": {},
   "outputs": [
    {
     "data": {
      "text/plain": [
       "array(['Curaçao', 'Former Czechoslovakia', 'Former Ethiopia',\n",
       "       'Former Netherlands Antilles', 'Former Sudan', 'Former USSR',\n",
       "       'Former Yugoslavia', 'Sint Maarten (Dutch part)', 'South Sudan',\n",
       "       'Sudan', 'Yemen: Former Democratic Yemen',\n",
       "       'Yemen: Former Yemen Arab Republic'], dtype=object)"
      ]
     },
     "execution_count": 23,
     "metadata": {},
     "output_type": "execute_result"
    }
   ],
   "source": [
    "gdp_data[gdp_data.gdp_usd == \"...\"].country_or_area.unique()"
   ]
  },
  {
   "cell_type": "markdown",
   "metadata": {},
   "source": [
    "It's exactly the same countries. So the \"...\" fields are irrelevant and can be disregarded. Just a quick check if it's the same shape as well."
   ]
  },
  {
   "cell_type": "code",
   "execution_count": 24,
   "metadata": {},
   "outputs": [
    {
     "data": {
      "text/plain": [
       "(219, 4)"
      ]
     },
     "execution_count": 24,
     "metadata": {},
     "output_type": "execute_result"
    }
   ],
   "source": [
    "gdp_data[gdp_data.gdp_usd == \"...\"].shape"
   ]
  },
  {
   "cell_type": "code",
   "execution_count": 25,
   "metadata": {},
   "outputs": [],
   "source": [
    "gdp_data = gdp_data[gdp_data.gdp_usd != \"...\"]"
   ]
  },
  {
   "cell_type": "markdown",
   "metadata": {},
   "source": [
    "Let's check if there's anything left."
   ]
  },
  {
   "cell_type": "code",
   "execution_count": 26,
   "metadata": {},
   "outputs": [
    {
     "data": {
      "text/html": [
       "<div>\n",
       "<style scoped>\n",
       "    .dataframe tbody tr th:only-of-type {\n",
       "        vertical-align: middle;\n",
       "    }\n",
       "\n",
       "    .dataframe tbody tr th {\n",
       "        vertical-align: top;\n",
       "    }\n",
       "\n",
       "    .dataframe thead th {\n",
       "        text-align: right;\n",
       "    }\n",
       "</style>\n",
       "<table border=\"1\" class=\"dataframe\">\n",
       "  <thead>\n",
       "    <tr style=\"text-align: right;\">\n",
       "      <th></th>\n",
       "      <th>country_or_area</th>\n",
       "      <th>year</th>\n",
       "      <th>unit</th>\n",
       "      <th>gdp_usd</th>\n",
       "    </tr>\n",
       "  </thead>\n",
       "  <tbody>\n",
       "  </tbody>\n",
       "</table>\n",
       "</div>"
      ],
      "text/plain": [
       "Empty DataFrame\n",
       "Columns: [country_or_area, year, unit, gdp_usd]\n",
       "Index: []"
      ]
     },
     "execution_count": 26,
     "metadata": {},
     "output_type": "execute_result"
    }
   ],
   "source": [
    "gdp_data[gdp_data.gdp_usd == \"...\"]"
   ]
  },
  {
   "cell_type": "code",
   "execution_count": 27,
   "metadata": {},
   "outputs": [
    {
     "data": {
      "text/plain": [
       "(6031, 4)"
      ]
     },
     "execution_count": 27,
     "metadata": {},
     "output_type": "execute_result"
    }
   ],
   "source": [
    "gdp_data.shape"
   ]
  },
  {
   "cell_type": "code",
   "execution_count": 28,
   "metadata": {},
   "outputs": [
    {
     "data": {
      "text/plain": [
       "country_or_area    object\n",
       "year                int64\n",
       "unit               object\n",
       "gdp_usd            object\n",
       "dtype: object"
      ]
     },
     "execution_count": 28,
     "metadata": {},
     "output_type": "execute_result"
    }
   ],
   "source": [
    "gdp_data.dtypes"
   ]
  },
  {
   "cell_type": "markdown",
   "metadata": {},
   "source": [
    "The only thing left is to correct the type of gdp_usd."
   ]
  },
  {
   "cell_type": "code",
   "execution_count": 29,
   "metadata": {},
   "outputs": [],
   "source": [
    "gdp_data[\"gdp_usd\"] = gdp_data[\"gdp_usd\"].astype(float)"
   ]
  },
  {
   "cell_type": "code",
   "execution_count": 30,
   "metadata": {},
   "outputs": [
    {
     "data": {
      "text/plain": [
       "country_or_area     object\n",
       "year                 int64\n",
       "unit                object\n",
       "gdp_usd            float64\n",
       "dtype: object"
      ]
     },
     "execution_count": 30,
     "metadata": {},
     "output_type": "execute_result"
    }
   ],
   "source": [
    "gdp_data.dtypes"
   ]
  },
  {
   "cell_type": "markdown",
   "metadata": {},
   "source": [
    "A quick sense check below."
   ]
  },
  {
   "cell_type": "code",
   "execution_count": 31,
   "metadata": {},
   "outputs": [
    {
     "data": {
      "text/plain": [
       "704325494756.2268"
      ]
     },
     "execution_count": 31,
     "metadata": {},
     "output_type": "execute_result"
    }
   ],
   "source": [
    "gdp_data[gdp_data.country_or_area == \"Bulgaria\"].gdp_usd.sum()"
   ]
  },
  {
   "cell_type": "markdown",
   "metadata": {},
   "source": [
    "Now let's see how we can manage the second data set for the population. Again we start with the column names."
   ]
  },
  {
   "cell_type": "code",
   "execution_count": 32,
   "metadata": {},
   "outputs": [
    {
     "data": {
      "text/html": [
       "<div>\n",
       "<style scoped>\n",
       "    .dataframe tbody tr th:only-of-type {\n",
       "        vertical-align: middle;\n",
       "    }\n",
       "\n",
       "    .dataframe tbody tr th {\n",
       "        vertical-align: top;\n",
       "    }\n",
       "\n",
       "    .dataframe thead th {\n",
       "        text-align: right;\n",
       "    }\n",
       "</style>\n",
       "<table border=\"1\" class=\"dataframe\">\n",
       "  <thead>\n",
       "    <tr style=\"text-align: right;\">\n",
       "      <th></th>\n",
       "      <th>Country/Area</th>\n",
       "      <th>Year</th>\n",
       "      <th>Unit</th>\n",
       "      <th>Population</th>\n",
       "    </tr>\n",
       "  </thead>\n",
       "  <tbody>\n",
       "    <tr>\n",
       "      <th>0</th>\n",
       "      <td>Afghanistan</td>\n",
       "      <td>1990</td>\n",
       "      <td>Persons</td>\n",
       "      <td>12249114</td>\n",
       "    </tr>\n",
       "    <tr>\n",
       "      <th>1</th>\n",
       "      <td>Afghanistan</td>\n",
       "      <td>1991</td>\n",
       "      <td>Persons</td>\n",
       "      <td>12993657</td>\n",
       "    </tr>\n",
       "    <tr>\n",
       "      <th>2</th>\n",
       "      <td>Afghanistan</td>\n",
       "      <td>1992</td>\n",
       "      <td>Persons</td>\n",
       "      <td>13981231</td>\n",
       "    </tr>\n",
       "    <tr>\n",
       "      <th>3</th>\n",
       "      <td>Afghanistan</td>\n",
       "      <td>1993</td>\n",
       "      <td>Persons</td>\n",
       "      <td>15095099</td>\n",
       "    </tr>\n",
       "    <tr>\n",
       "      <th>4</th>\n",
       "      <td>Afghanistan</td>\n",
       "      <td>1994</td>\n",
       "      <td>Persons</td>\n",
       "      <td>16172719</td>\n",
       "    </tr>\n",
       "  </tbody>\n",
       "</table>\n",
       "</div>"
      ],
      "text/plain": [
       "  Country/Area  Year     Unit Population\n",
       "0  Afghanistan  1990  Persons   12249114\n",
       "1  Afghanistan  1991  Persons   12993657\n",
       "2  Afghanistan  1992  Persons   13981231\n",
       "3  Afghanistan  1993  Persons   15095099\n",
       "4  Afghanistan  1994  Persons   16172719"
      ]
     },
     "execution_count": 32,
     "metadata": {},
     "output_type": "execute_result"
    }
   ],
   "source": [
    "population_data.head()"
   ]
  },
  {
   "cell_type": "code",
   "execution_count": 33,
   "metadata": {},
   "outputs": [],
   "source": [
    "population_data.rename(columns={\"Country/Area\":\"country_or_area\", \"Year\":\"year\", \"Unit\":\"unit\",\n",
    "                         \"Population\":\"population\"}, inplace = True)"
   ]
  },
  {
   "cell_type": "markdown",
   "metadata": {},
   "source": [
    "Since the dataset is donwloaded from the same database I expect the same trend of missing data. Let's check it."
   ]
  },
  {
   "cell_type": "code",
   "execution_count": 34,
   "metadata": {},
   "outputs": [
    {
     "data": {
      "text/plain": [
       "array(['Former Czechoslovakia', 'Former Ethiopia',\n",
       "       'Former Netherlands Antilles', 'Former Sudan', 'Former USSR',\n",
       "       'Former Yugoslavia', 'Yemen: Former Democratic Yemen',\n",
       "       'Yemen: Former Yemen Arab Republic'], dtype=object)"
      ]
     },
     "execution_count": 34,
     "metadata": {},
     "output_type": "execute_result"
    }
   ],
   "source": [
    "population_data[population_data.population == \"...\"].country_or_area.unique()"
   ]
  },
  {
   "cell_type": "markdown",
   "metadata": {},
   "source": [
    "Intrestingly enough there are no missing values for Sint Maarten (Dutch part) and for some of the Sudans... Let's see."
   ]
  },
  {
   "cell_type": "code",
   "execution_count": 35,
   "metadata": {},
   "outputs": [
    {
     "data": {
      "text/html": [
       "<div>\n",
       "<style scoped>\n",
       "    .dataframe tbody tr th:only-of-type {\n",
       "        vertical-align: middle;\n",
       "    }\n",
       "\n",
       "    .dataframe tbody tr th {\n",
       "        vertical-align: top;\n",
       "    }\n",
       "\n",
       "    .dataframe thead th {\n",
       "        text-align: right;\n",
       "    }\n",
       "</style>\n",
       "<table border=\"1\" class=\"dataframe\">\n",
       "  <thead>\n",
       "    <tr style=\"text-align: right;\">\n",
       "      <th></th>\n",
       "      <th>country_or_area</th>\n",
       "      <th>year</th>\n",
       "      <th>unit</th>\n",
       "      <th>population</th>\n",
       "    </tr>\n",
       "  </thead>\n",
       "  <tbody>\n",
       "    <tr>\n",
       "      <th>1800</th>\n",
       "      <td>Former Sudan</td>\n",
       "      <td>1990</td>\n",
       "      <td>Persons</td>\n",
       "      <td>25916071</td>\n",
       "    </tr>\n",
       "    <tr>\n",
       "      <th>1801</th>\n",
       "      <td>Former Sudan</td>\n",
       "      <td>1991</td>\n",
       "      <td>Persons</td>\n",
       "      <td>26599003</td>\n",
       "    </tr>\n",
       "    <tr>\n",
       "      <th>1802</th>\n",
       "      <td>Former Sudan</td>\n",
       "      <td>1992</td>\n",
       "      <td>Persons</td>\n",
       "      <td>27301290</td>\n",
       "    </tr>\n",
       "    <tr>\n",
       "      <th>1803</th>\n",
       "      <td>Former Sudan</td>\n",
       "      <td>1993</td>\n",
       "      <td>Persons</td>\n",
       "      <td>28026852</td>\n",
       "    </tr>\n",
       "    <tr>\n",
       "      <th>1804</th>\n",
       "      <td>Former Sudan</td>\n",
       "      <td>1994</td>\n",
       "      <td>Persons</td>\n",
       "      <td>28779623</td>\n",
       "    </tr>\n",
       "    <tr>\n",
       "      <th>...</th>\n",
       "      <td>...</td>\n",
       "      <td>...</td>\n",
       "      <td>...</td>\n",
       "      <td>...</td>\n",
       "    </tr>\n",
       "    <tr>\n",
       "      <th>4670</th>\n",
       "      <td>Sudan</td>\n",
       "      <td>2010</td>\n",
       "      <td>Persons</td>\n",
       "      <td>34385963</td>\n",
       "    </tr>\n",
       "    <tr>\n",
       "      <th>4671</th>\n",
       "      <td>Sudan</td>\n",
       "      <td>2011</td>\n",
       "      <td>Persons</td>\n",
       "      <td>35167314</td>\n",
       "    </tr>\n",
       "    <tr>\n",
       "      <th>4672</th>\n",
       "      <td>Sudan</td>\n",
       "      <td>2012</td>\n",
       "      <td>Persons</td>\n",
       "      <td>35990192</td>\n",
       "    </tr>\n",
       "    <tr>\n",
       "      <th>4673</th>\n",
       "      <td>Sudan</td>\n",
       "      <td>2013</td>\n",
       "      <td>Persons</td>\n",
       "      <td>36849918</td>\n",
       "    </tr>\n",
       "    <tr>\n",
       "      <th>4674</th>\n",
       "      <td>Sudan</td>\n",
       "      <td>2014</td>\n",
       "      <td>Persons</td>\n",
       "      <td>37737913</td>\n",
       "    </tr>\n",
       "  </tbody>\n",
       "</table>\n",
       "<p>71 rows × 4 columns</p>\n",
       "</div>"
      ],
      "text/plain": [
       "     country_or_area  year     unit population\n",
       "1800    Former Sudan  1990  Persons   25916071\n",
       "1801    Former Sudan  1991  Persons   26599003\n",
       "1802    Former Sudan  1992  Persons   27301290\n",
       "1803    Former Sudan  1993  Persons   28026852\n",
       "1804    Former Sudan  1994  Persons   28779623\n",
       "...              ...   ...      ...        ...\n",
       "4670           Sudan  2010  Persons   34385963\n",
       "4671           Sudan  2011  Persons   35167314\n",
       "4672           Sudan  2012  Persons   35990192\n",
       "4673           Sudan  2013  Persons   36849918\n",
       "4674           Sudan  2014  Persons   37737913\n",
       "\n",
       "[71 rows x 4 columns]"
      ]
     },
     "execution_count": 35,
     "metadata": {},
     "output_type": "execute_result"
    }
   ],
   "source": [
    "population_data[(population_data[\"country_or_area\"].str.contains(\"Sudan\")) & (population_data[\"unit\"] == \"Persons\")]"
   ]
  },
  {
   "cell_type": "markdown",
   "metadata": {},
   "source": [
    "It appears it's way easier to split the census data regionally than the GDP. Apparently after the independence of South Sudan in the beginnig of 2011 they managed go back and split the population retroactively."
   ]
  },
  {
   "cell_type": "code",
   "execution_count": 36,
   "metadata": {},
   "outputs": [
    {
     "data": {
      "text/html": [
       "<div>\n",
       "<style scoped>\n",
       "    .dataframe tbody tr th:only-of-type {\n",
       "        vertical-align: middle;\n",
       "    }\n",
       "\n",
       "    .dataframe tbody tr th {\n",
       "        vertical-align: top;\n",
       "    }\n",
       "\n",
       "    .dataframe thead th {\n",
       "        text-align: right;\n",
       "    }\n",
       "</style>\n",
       "<table border=\"1\" class=\"dataframe\">\n",
       "  <thead>\n",
       "    <tr style=\"text-align: right;\">\n",
       "      <th></th>\n",
       "      <th>country_or_area</th>\n",
       "      <th>year</th>\n",
       "      <th>unit</th>\n",
       "      <th>population</th>\n",
       "    </tr>\n",
       "  </thead>\n",
       "  <tbody>\n",
       "    <tr>\n",
       "      <th>4400</th>\n",
       "      <td>Sint Maarten (Dutch part)</td>\n",
       "      <td>1990</td>\n",
       "      <td>Persons</td>\n",
       "      <td>28549</td>\n",
       "    </tr>\n",
       "    <tr>\n",
       "      <th>4401</th>\n",
       "      <td>Sint Maarten (Dutch part)</td>\n",
       "      <td>1991</td>\n",
       "      <td>Persons</td>\n",
       "      <td>29534</td>\n",
       "    </tr>\n",
       "    <tr>\n",
       "      <th>4402</th>\n",
       "      <td>Sint Maarten (Dutch part)</td>\n",
       "      <td>1992</td>\n",
       "      <td>Persons</td>\n",
       "      <td>30090</td>\n",
       "    </tr>\n",
       "    <tr>\n",
       "      <th>4403</th>\n",
       "      <td>Sint Maarten (Dutch part)</td>\n",
       "      <td>1993</td>\n",
       "      <td>Persons</td>\n",
       "      <td>30339</td>\n",
       "    </tr>\n",
       "    <tr>\n",
       "      <th>4404</th>\n",
       "      <td>Sint Maarten (Dutch part)</td>\n",
       "      <td>1994</td>\n",
       "      <td>Persons</td>\n",
       "      <td>30471</td>\n",
       "    </tr>\n",
       "    <tr>\n",
       "      <th>4405</th>\n",
       "      <td>Sint Maarten (Dutch part)</td>\n",
       "      <td>1995</td>\n",
       "      <td>Persons</td>\n",
       "      <td>30633</td>\n",
       "    </tr>\n",
       "    <tr>\n",
       "      <th>4406</th>\n",
       "      <td>Sint Maarten (Dutch part)</td>\n",
       "      <td>1996</td>\n",
       "      <td>Persons</td>\n",
       "      <td>30853</td>\n",
       "    </tr>\n",
       "    <tr>\n",
       "      <th>4407</th>\n",
       "      <td>Sint Maarten (Dutch part)</td>\n",
       "      <td>1997</td>\n",
       "      <td>Persons</td>\n",
       "      <td>31110</td>\n",
       "    </tr>\n",
       "    <tr>\n",
       "      <th>4408</th>\n",
       "      <td>Sint Maarten (Dutch part)</td>\n",
       "      <td>1998</td>\n",
       "      <td>Persons</td>\n",
       "      <td>31374</td>\n",
       "    </tr>\n",
       "    <tr>\n",
       "      <th>4409</th>\n",
       "      <td>Sint Maarten (Dutch part)</td>\n",
       "      <td>1999</td>\n",
       "      <td>Persons</td>\n",
       "      <td>31615</td>\n",
       "    </tr>\n",
       "    <tr>\n",
       "      <th>4410</th>\n",
       "      <td>Sint Maarten (Dutch part)</td>\n",
       "      <td>2000</td>\n",
       "      <td>Persons</td>\n",
       "      <td>31819</td>\n",
       "    </tr>\n",
       "    <tr>\n",
       "      <th>4411</th>\n",
       "      <td>Sint Maarten (Dutch part)</td>\n",
       "      <td>2001</td>\n",
       "      <td>Persons</td>\n",
       "      <td>32000</td>\n",
       "    </tr>\n",
       "    <tr>\n",
       "      <th>4412</th>\n",
       "      <td>Sint Maarten (Dutch part)</td>\n",
       "      <td>2002</td>\n",
       "      <td>Persons</td>\n",
       "      <td>32182</td>\n",
       "    </tr>\n",
       "    <tr>\n",
       "      <th>4413</th>\n",
       "      <td>Sint Maarten (Dutch part)</td>\n",
       "      <td>2003</td>\n",
       "      <td>Persons</td>\n",
       "      <td>32346</td>\n",
       "    </tr>\n",
       "    <tr>\n",
       "      <th>4414</th>\n",
       "      <td>Sint Maarten (Dutch part)</td>\n",
       "      <td>2004</td>\n",
       "      <td>Persons</td>\n",
       "      <td>32464</td>\n",
       "    </tr>\n",
       "    <tr>\n",
       "      <th>4415</th>\n",
       "      <td>Sint Maarten (Dutch part)</td>\n",
       "      <td>2005</td>\n",
       "      <td>Persons</td>\n",
       "      <td>32531</td>\n",
       "    </tr>\n",
       "    <tr>\n",
       "      <th>4416</th>\n",
       "      <td>Sint Maarten (Dutch part)</td>\n",
       "      <td>2006</td>\n",
       "      <td>Persons</td>\n",
       "      <td>32517</td>\n",
       "    </tr>\n",
       "    <tr>\n",
       "      <th>4417</th>\n",
       "      <td>Sint Maarten (Dutch part)</td>\n",
       "      <td>2007</td>\n",
       "      <td>Persons</td>\n",
       "      <td>32439</td>\n",
       "    </tr>\n",
       "    <tr>\n",
       "      <th>4418</th>\n",
       "      <td>Sint Maarten (Dutch part)</td>\n",
       "      <td>2008</td>\n",
       "      <td>Persons</td>\n",
       "      <td>32437</td>\n",
       "    </tr>\n",
       "    <tr>\n",
       "      <th>4419</th>\n",
       "      <td>Sint Maarten (Dutch part)</td>\n",
       "      <td>2009</td>\n",
       "      <td>Persons</td>\n",
       "      <td>32632</td>\n",
       "    </tr>\n",
       "    <tr>\n",
       "      <th>4420</th>\n",
       "      <td>Sint Maarten (Dutch part)</td>\n",
       "      <td>2010</td>\n",
       "      <td>Persons</td>\n",
       "      <td>33124</td>\n",
       "    </tr>\n",
       "    <tr>\n",
       "      <th>4421</th>\n",
       "      <td>Sint Maarten (Dutch part)</td>\n",
       "      <td>2011</td>\n",
       "      <td>Persons</td>\n",
       "      <td>33976</td>\n",
       "    </tr>\n",
       "    <tr>\n",
       "      <th>4422</th>\n",
       "      <td>Sint Maarten (Dutch part)</td>\n",
       "      <td>2012</td>\n",
       "      <td>Persons</td>\n",
       "      <td>35133</td>\n",
       "    </tr>\n",
       "    <tr>\n",
       "      <th>4423</th>\n",
       "      <td>Sint Maarten (Dutch part)</td>\n",
       "      <td>2013</td>\n",
       "      <td>Persons</td>\n",
       "      <td>36439</td>\n",
       "    </tr>\n",
       "    <tr>\n",
       "      <th>4424</th>\n",
       "      <td>Sint Maarten (Dutch part)</td>\n",
       "      <td>2014</td>\n",
       "      <td>Persons</td>\n",
       "      <td>37697</td>\n",
       "    </tr>\n",
       "  </tbody>\n",
       "</table>\n",
       "</div>"
      ],
      "text/plain": [
       "                country_or_area  year     unit population\n",
       "4400  Sint Maarten (Dutch part)  1990  Persons      28549\n",
       "4401  Sint Maarten (Dutch part)  1991  Persons      29534\n",
       "4402  Sint Maarten (Dutch part)  1992  Persons      30090\n",
       "4403  Sint Maarten (Dutch part)  1993  Persons      30339\n",
       "4404  Sint Maarten (Dutch part)  1994  Persons      30471\n",
       "4405  Sint Maarten (Dutch part)  1995  Persons      30633\n",
       "4406  Sint Maarten (Dutch part)  1996  Persons      30853\n",
       "4407  Sint Maarten (Dutch part)  1997  Persons      31110\n",
       "4408  Sint Maarten (Dutch part)  1998  Persons      31374\n",
       "4409  Sint Maarten (Dutch part)  1999  Persons      31615\n",
       "4410  Sint Maarten (Dutch part)  2000  Persons      31819\n",
       "4411  Sint Maarten (Dutch part)  2001  Persons      32000\n",
       "4412  Sint Maarten (Dutch part)  2002  Persons      32182\n",
       "4413  Sint Maarten (Dutch part)  2003  Persons      32346\n",
       "4414  Sint Maarten (Dutch part)  2004  Persons      32464\n",
       "4415  Sint Maarten (Dutch part)  2005  Persons      32531\n",
       "4416  Sint Maarten (Dutch part)  2006  Persons      32517\n",
       "4417  Sint Maarten (Dutch part)  2007  Persons      32439\n",
       "4418  Sint Maarten (Dutch part)  2008  Persons      32437\n",
       "4419  Sint Maarten (Dutch part)  2009  Persons      32632\n",
       "4420  Sint Maarten (Dutch part)  2010  Persons      33124\n",
       "4421  Sint Maarten (Dutch part)  2011  Persons      33976\n",
       "4422  Sint Maarten (Dutch part)  2012  Persons      35133\n",
       "4423  Sint Maarten (Dutch part)  2013  Persons      36439\n",
       "4424  Sint Maarten (Dutch part)  2014  Persons      37697"
      ]
     },
     "execution_count": 36,
     "metadata": {},
     "output_type": "execute_result"
    }
   ],
   "source": [
    "population_data[(population_data[\"country_or_area\"].str.contains(\"Sint\")) & (population_data[\"unit\"] == \"Persons\")]"
   ]
  },
  {
   "cell_type": "markdown",
   "metadata": {},
   "source": [
    "Out of curiosity I've checked Sint Maarten. As mentioned before - insignificant amounts and since we don't have GDP data for it so the population data will be removed as well."
   ]
  },
  {
   "cell_type": "code",
   "execution_count": 37,
   "metadata": {},
   "outputs": [],
   "source": [
    "population_data = population_data[(population_data.population != \"...\") \n",
    "                                  & (population_data.country_or_area != \"Sint Maarten (Dutch part)\")]"
   ]
  },
  {
   "cell_type": "code",
   "execution_count": 38,
   "metadata": {},
   "outputs": [
    {
     "data": {
      "text/plain": [
       "(5328, 4)"
      ]
     },
     "execution_count": 38,
     "metadata": {},
     "output_type": "execute_result"
    }
   ],
   "source": [
    "population_data.shape"
   ]
  },
  {
   "cell_type": "markdown",
   "metadata": {},
   "source": [
    "Quick check if there's anything missed."
   ]
  },
  {
   "cell_type": "code",
   "execution_count": 39,
   "metadata": {},
   "outputs": [
    {
     "data": {
      "text/plain": [
       "array(['Persons'], dtype=object)"
      ]
     },
     "execution_count": 39,
     "metadata": {},
     "output_type": "execute_result"
    }
   ],
   "source": [
    "population_data.unit.unique()"
   ]
  },
  {
   "cell_type": "markdown",
   "metadata": {},
   "source": [
    "Now let's change the data type of the population column."
   ]
  },
  {
   "cell_type": "code",
   "execution_count": 40,
   "metadata": {},
   "outputs": [],
   "source": [
    "population_data[\"population\"] = pd.to_numeric(population_data[\"population\"])"
   ]
  },
  {
   "cell_type": "code",
   "execution_count": 41,
   "metadata": {},
   "outputs": [
    {
     "data": {
      "text/plain": [
       "country_or_area    object\n",
       "year                int64\n",
       "unit               object\n",
       "population          int64\n",
       "dtype: object"
      ]
     },
     "execution_count": 41,
     "metadata": {},
     "output_type": "execute_result"
    }
   ],
   "source": [
    "population_data.dtypes"
   ]
  },
  {
   "cell_type": "markdown",
   "metadata": {},
   "source": [
    "And a quick head to see how things are looking.\n",
    "\n",
    "\n"
   ]
  },
  {
   "cell_type": "code",
   "execution_count": 42,
   "metadata": {},
   "outputs": [
    {
     "data": {
      "text/html": [
       "<div>\n",
       "<style scoped>\n",
       "    .dataframe tbody tr th:only-of-type {\n",
       "        vertical-align: middle;\n",
       "    }\n",
       "\n",
       "    .dataframe tbody tr th {\n",
       "        vertical-align: top;\n",
       "    }\n",
       "\n",
       "    .dataframe thead th {\n",
       "        text-align: right;\n",
       "    }\n",
       "</style>\n",
       "<table border=\"1\" class=\"dataframe\">\n",
       "  <thead>\n",
       "    <tr style=\"text-align: right;\">\n",
       "      <th></th>\n",
       "      <th>country_or_area</th>\n",
       "      <th>year</th>\n",
       "      <th>unit</th>\n",
       "      <th>population</th>\n",
       "    </tr>\n",
       "  </thead>\n",
       "  <tbody>\n",
       "    <tr>\n",
       "      <th>0</th>\n",
       "      <td>Afghanistan</td>\n",
       "      <td>1990</td>\n",
       "      <td>Persons</td>\n",
       "      <td>12249114</td>\n",
       "    </tr>\n",
       "    <tr>\n",
       "      <th>1</th>\n",
       "      <td>Afghanistan</td>\n",
       "      <td>1991</td>\n",
       "      <td>Persons</td>\n",
       "      <td>12993657</td>\n",
       "    </tr>\n",
       "    <tr>\n",
       "      <th>2</th>\n",
       "      <td>Afghanistan</td>\n",
       "      <td>1992</td>\n",
       "      <td>Persons</td>\n",
       "      <td>13981231</td>\n",
       "    </tr>\n",
       "    <tr>\n",
       "      <th>3</th>\n",
       "      <td>Afghanistan</td>\n",
       "      <td>1993</td>\n",
       "      <td>Persons</td>\n",
       "      <td>15095099</td>\n",
       "    </tr>\n",
       "    <tr>\n",
       "      <th>4</th>\n",
       "      <td>Afghanistan</td>\n",
       "      <td>1994</td>\n",
       "      <td>Persons</td>\n",
       "      <td>16172719</td>\n",
       "    </tr>\n",
       "  </tbody>\n",
       "</table>\n",
       "</div>"
      ],
      "text/plain": [
       "  country_or_area  year     unit  population\n",
       "0     Afghanistan  1990  Persons    12249114\n",
       "1     Afghanistan  1991  Persons    12993657\n",
       "2     Afghanistan  1992  Persons    13981231\n",
       "3     Afghanistan  1993  Persons    15095099\n",
       "4     Afghanistan  1994  Persons    16172719"
      ]
     },
     "execution_count": 42,
     "metadata": {},
     "output_type": "execute_result"
    }
   ],
   "source": [
    "population_data.head()"
   ]
  },
  {
   "cell_type": "markdown",
   "metadata": {},
   "source": [
    "Now let's continue with the greenhouse gas emissions dataset."
   ]
  },
  {
   "cell_type": "code",
   "execution_count": 43,
   "metadata": {},
   "outputs": [
    {
     "data": {
      "text/html": [
       "<div>\n",
       "<style scoped>\n",
       "    .dataframe tbody tr th:only-of-type {\n",
       "        vertical-align: middle;\n",
       "    }\n",
       "\n",
       "    .dataframe tbody tr th {\n",
       "        vertical-align: top;\n",
       "    }\n",
       "\n",
       "    .dataframe thead th {\n",
       "        text-align: right;\n",
       "    }\n",
       "</style>\n",
       "<table border=\"1\" class=\"dataframe\">\n",
       "  <thead>\n",
       "    <tr style=\"text-align: right;\">\n",
       "      <th></th>\n",
       "      <th>Country</th>\n",
       "      <th>Data source</th>\n",
       "      <th>Sector</th>\n",
       "      <th>Gas</th>\n",
       "      <th>Unit</th>\n",
       "      <th>2014</th>\n",
       "      <th>2013</th>\n",
       "      <th>2012</th>\n",
       "      <th>2011</th>\n",
       "      <th>2010</th>\n",
       "      <th>...</th>\n",
       "      <th>1999</th>\n",
       "      <th>1998</th>\n",
       "      <th>1997</th>\n",
       "      <th>1996</th>\n",
       "      <th>1995</th>\n",
       "      <th>1994</th>\n",
       "      <th>1993</th>\n",
       "      <th>1992</th>\n",
       "      <th>1991</th>\n",
       "      <th>1990</th>\n",
       "    </tr>\n",
       "  </thead>\n",
       "  <tbody>\n",
       "    <tr>\n",
       "      <th>0</th>\n",
       "      <td>World</td>\n",
       "      <td>CAIT</td>\n",
       "      <td>Total including LUCF</td>\n",
       "      <td>All GHG</td>\n",
       "      <td>MtCO₂e</td>\n",
       "      <td>48892.37</td>\n",
       "      <td>48257.30</td>\n",
       "      <td>47583.61</td>\n",
       "      <td>47025.97</td>\n",
       "      <td>45760.96</td>\n",
       "      <td>...</td>\n",
       "      <td>36212.69</td>\n",
       "      <td>36299.09</td>\n",
       "      <td>36626.68</td>\n",
       "      <td>35376.05</td>\n",
       "      <td>34922.08</td>\n",
       "      <td>34231.54</td>\n",
       "      <td>34051.21</td>\n",
       "      <td>33927.96</td>\n",
       "      <td>34008.49</td>\n",
       "      <td>33823.47</td>\n",
       "    </tr>\n",
       "    <tr>\n",
       "      <th>1</th>\n",
       "      <td>China</td>\n",
       "      <td>CAIT</td>\n",
       "      <td>Total including LUCF</td>\n",
       "      <td>All GHG</td>\n",
       "      <td>MtCO₂e</td>\n",
       "      <td>11600.63</td>\n",
       "      <td>11420.44</td>\n",
       "      <td>10938.67</td>\n",
       "      <td>10701.13</td>\n",
       "      <td>9712.78</td>\n",
       "      <td>...</td>\n",
       "      <td>3972.81</td>\n",
       "      <td>4038.55</td>\n",
       "      <td>3931.79</td>\n",
       "      <td>3900.32</td>\n",
       "      <td>3884.03</td>\n",
       "      <td>3498.95</td>\n",
       "      <td>3344.47</td>\n",
       "      <td>3117.42</td>\n",
       "      <td>2980.93</td>\n",
       "      <td>2833.49</td>\n",
       "    </tr>\n",
       "    <tr>\n",
       "      <th>2</th>\n",
       "      <td>United States</td>\n",
       "      <td>CAIT</td>\n",
       "      <td>Total including LUCF</td>\n",
       "      <td>All GHG</td>\n",
       "      <td>MtCO₂e</td>\n",
       "      <td>6319.02</td>\n",
       "      <td>6213.27</td>\n",
       "      <td>6132.14</td>\n",
       "      <td>6305.16</td>\n",
       "      <td>6115.68</td>\n",
       "      <td>...</td>\n",
       "      <td>6222.57</td>\n",
       "      <td>6178.27</td>\n",
       "      <td>6160.30</td>\n",
       "      <td>6013.18</td>\n",
       "      <td>5863.02</td>\n",
       "      <td>5805.98</td>\n",
       "      <td>5725.24</td>\n",
       "      <td>5598.11</td>\n",
       "      <td>5514.88</td>\n",
       "      <td>5550.04</td>\n",
       "    </tr>\n",
       "    <tr>\n",
       "      <th>3</th>\n",
       "      <td>India</td>\n",
       "      <td>CAIT</td>\n",
       "      <td>Total including LUCF</td>\n",
       "      <td>All GHG</td>\n",
       "      <td>MtCO₂e</td>\n",
       "      <td>3202.31</td>\n",
       "      <td>3031.34</td>\n",
       "      <td>2956.22</td>\n",
       "      <td>2821.64</td>\n",
       "      <td>2469.00</td>\n",
       "      <td>...</td>\n",
       "      <td>1594.49</td>\n",
       "      <td>1516.44</td>\n",
       "      <td>1485.84</td>\n",
       "      <td>1429.29</td>\n",
       "      <td>1375.25</td>\n",
       "      <td>1311.29</td>\n",
       "      <td>1263.72</td>\n",
       "      <td>1230.04</td>\n",
       "      <td>1197.94</td>\n",
       "      <td>1142.43</td>\n",
       "    </tr>\n",
       "    <tr>\n",
       "      <th>4</th>\n",
       "      <td>Indonesia</td>\n",
       "      <td>CAIT</td>\n",
       "      <td>Total including LUCF</td>\n",
       "      <td>All GHG</td>\n",
       "      <td>MtCO₂e</td>\n",
       "      <td>2471.64</td>\n",
       "      <td>2160.98</td>\n",
       "      <td>2156.54</td>\n",
       "      <td>2135.19</td>\n",
       "      <td>1994.78</td>\n",
       "      <td>...</td>\n",
       "      <td>1393.40</td>\n",
       "      <td>1498.99</td>\n",
       "      <td>2259.06</td>\n",
       "      <td>1308.49</td>\n",
       "      <td>1435.23</td>\n",
       "      <td>1401.19</td>\n",
       "      <td>1386.03</td>\n",
       "      <td>1371.11</td>\n",
       "      <td>1352.78</td>\n",
       "      <td>1336.74</td>\n",
       "    </tr>\n",
       "  </tbody>\n",
       "</table>\n",
       "<p>5 rows × 30 columns</p>\n",
       "</div>"
      ],
      "text/plain": [
       "         Country Data source                Sector      Gas    Unit      2014  \\\n",
       "0          World        CAIT  Total including LUCF  All GHG  MtCO₂e  48892.37   \n",
       "1          China        CAIT  Total including LUCF  All GHG  MtCO₂e  11600.63   \n",
       "2  United States        CAIT  Total including LUCF  All GHG  MtCO₂e   6319.02   \n",
       "3          India        CAIT  Total including LUCF  All GHG  MtCO₂e   3202.31   \n",
       "4      Indonesia        CAIT  Total including LUCF  All GHG  MtCO₂e   2471.64   \n",
       "\n",
       "       2013      2012      2011      2010  ...      1999      1998      1997  \\\n",
       "0  48257.30  47583.61  47025.97  45760.96  ...  36212.69  36299.09  36626.68   \n",
       "1  11420.44  10938.67  10701.13   9712.78  ...   3972.81   4038.55   3931.79   \n",
       "2   6213.27   6132.14   6305.16   6115.68  ...   6222.57   6178.27   6160.30   \n",
       "3   3031.34   2956.22   2821.64   2469.00  ...   1594.49   1516.44   1485.84   \n",
       "4   2160.98   2156.54   2135.19   1994.78  ...   1393.40   1498.99   2259.06   \n",
       "\n",
       "       1996      1995      1994      1993      1992      1991      1990  \n",
       "0  35376.05  34922.08  34231.54  34051.21  33927.96  34008.49  33823.47  \n",
       "1   3900.32   3884.03   3498.95   3344.47   3117.42   2980.93   2833.49  \n",
       "2   6013.18   5863.02   5805.98   5725.24   5598.11   5514.88   5550.04  \n",
       "3   1429.29   1375.25   1311.29   1263.72   1230.04   1197.94   1142.43  \n",
       "4   1308.49   1435.23   1401.19   1386.03   1371.11   1352.78   1336.74  \n",
       "\n",
       "[5 rows x 30 columns]"
      ]
     },
     "execution_count": 43,
     "metadata": {},
     "output_type": "execute_result"
    }
   ],
   "source": [
    "ghg_emissions_data.head()"
   ]
  },
  {
   "cell_type": "markdown",
   "metadata": {},
   "source": [
    "First Data Source, Sector, Gas and Unit columns will be checked and if those do not bring any additional value will be removed. They don't bring any additional value since MtCO2e is million tons of carbon dioxide equivalent and LUCF means Land Use Change and Forestry. But before that the columns need some modifications."
   ]
  },
  {
   "cell_type": "code",
   "execution_count": 44,
   "metadata": {},
   "outputs": [],
   "source": [
    "ghg_emissions_data.rename(columns={\"Country\":\"country_or_area\", \"Data source\":\"data_source\", \"Sector\":\"sector\", \"Gas\":\"gas\", \n",
    "                                   \"Unit\":\"unit\"}, inplace = True)"
   ]
  },
  {
   "cell_type": "code",
   "execution_count": 45,
   "metadata": {},
   "outputs": [
    {
     "data": {
      "text/html": [
       "<div>\n",
       "<style scoped>\n",
       "    .dataframe tbody tr th:only-of-type {\n",
       "        vertical-align: middle;\n",
       "    }\n",
       "\n",
       "    .dataframe tbody tr th {\n",
       "        vertical-align: top;\n",
       "    }\n",
       "\n",
       "    .dataframe thead th {\n",
       "        text-align: right;\n",
       "    }\n",
       "</style>\n",
       "<table border=\"1\" class=\"dataframe\">\n",
       "  <thead>\n",
       "    <tr style=\"text-align: right;\">\n",
       "      <th></th>\n",
       "      <th>country_or_area</th>\n",
       "      <th>data_source</th>\n",
       "      <th>sector</th>\n",
       "      <th>gas</th>\n",
       "      <th>unit</th>\n",
       "      <th>2014</th>\n",
       "      <th>2013</th>\n",
       "      <th>2012</th>\n",
       "      <th>2011</th>\n",
       "      <th>2010</th>\n",
       "      <th>...</th>\n",
       "      <th>1999</th>\n",
       "      <th>1998</th>\n",
       "      <th>1997</th>\n",
       "      <th>1996</th>\n",
       "      <th>1995</th>\n",
       "      <th>1994</th>\n",
       "      <th>1993</th>\n",
       "      <th>1992</th>\n",
       "      <th>1991</th>\n",
       "      <th>1990</th>\n",
       "    </tr>\n",
       "  </thead>\n",
       "  <tbody>\n",
       "    <tr>\n",
       "      <th>0</th>\n",
       "      <td>World</td>\n",
       "      <td>CAIT</td>\n",
       "      <td>Total including LUCF</td>\n",
       "      <td>All GHG</td>\n",
       "      <td>MtCO₂e</td>\n",
       "      <td>48892.37</td>\n",
       "      <td>48257.30</td>\n",
       "      <td>47583.61</td>\n",
       "      <td>47025.97</td>\n",
       "      <td>45760.96</td>\n",
       "      <td>...</td>\n",
       "      <td>36212.69</td>\n",
       "      <td>36299.09</td>\n",
       "      <td>36626.68</td>\n",
       "      <td>35376.05</td>\n",
       "      <td>34922.08</td>\n",
       "      <td>34231.54</td>\n",
       "      <td>34051.21</td>\n",
       "      <td>33927.96</td>\n",
       "      <td>34008.49</td>\n",
       "      <td>33823.47</td>\n",
       "    </tr>\n",
       "    <tr>\n",
       "      <th>1</th>\n",
       "      <td>China</td>\n",
       "      <td>CAIT</td>\n",
       "      <td>Total including LUCF</td>\n",
       "      <td>All GHG</td>\n",
       "      <td>MtCO₂e</td>\n",
       "      <td>11600.63</td>\n",
       "      <td>11420.44</td>\n",
       "      <td>10938.67</td>\n",
       "      <td>10701.13</td>\n",
       "      <td>9712.78</td>\n",
       "      <td>...</td>\n",
       "      <td>3972.81</td>\n",
       "      <td>4038.55</td>\n",
       "      <td>3931.79</td>\n",
       "      <td>3900.32</td>\n",
       "      <td>3884.03</td>\n",
       "      <td>3498.95</td>\n",
       "      <td>3344.47</td>\n",
       "      <td>3117.42</td>\n",
       "      <td>2980.93</td>\n",
       "      <td>2833.49</td>\n",
       "    </tr>\n",
       "    <tr>\n",
       "      <th>2</th>\n",
       "      <td>United States</td>\n",
       "      <td>CAIT</td>\n",
       "      <td>Total including LUCF</td>\n",
       "      <td>All GHG</td>\n",
       "      <td>MtCO₂e</td>\n",
       "      <td>6319.02</td>\n",
       "      <td>6213.27</td>\n",
       "      <td>6132.14</td>\n",
       "      <td>6305.16</td>\n",
       "      <td>6115.68</td>\n",
       "      <td>...</td>\n",
       "      <td>6222.57</td>\n",
       "      <td>6178.27</td>\n",
       "      <td>6160.30</td>\n",
       "      <td>6013.18</td>\n",
       "      <td>5863.02</td>\n",
       "      <td>5805.98</td>\n",
       "      <td>5725.24</td>\n",
       "      <td>5598.11</td>\n",
       "      <td>5514.88</td>\n",
       "      <td>5550.04</td>\n",
       "    </tr>\n",
       "    <tr>\n",
       "      <th>3</th>\n",
       "      <td>India</td>\n",
       "      <td>CAIT</td>\n",
       "      <td>Total including LUCF</td>\n",
       "      <td>All GHG</td>\n",
       "      <td>MtCO₂e</td>\n",
       "      <td>3202.31</td>\n",
       "      <td>3031.34</td>\n",
       "      <td>2956.22</td>\n",
       "      <td>2821.64</td>\n",
       "      <td>2469.00</td>\n",
       "      <td>...</td>\n",
       "      <td>1594.49</td>\n",
       "      <td>1516.44</td>\n",
       "      <td>1485.84</td>\n",
       "      <td>1429.29</td>\n",
       "      <td>1375.25</td>\n",
       "      <td>1311.29</td>\n",
       "      <td>1263.72</td>\n",
       "      <td>1230.04</td>\n",
       "      <td>1197.94</td>\n",
       "      <td>1142.43</td>\n",
       "    </tr>\n",
       "    <tr>\n",
       "      <th>4</th>\n",
       "      <td>Indonesia</td>\n",
       "      <td>CAIT</td>\n",
       "      <td>Total including LUCF</td>\n",
       "      <td>All GHG</td>\n",
       "      <td>MtCO₂e</td>\n",
       "      <td>2471.64</td>\n",
       "      <td>2160.98</td>\n",
       "      <td>2156.54</td>\n",
       "      <td>2135.19</td>\n",
       "      <td>1994.78</td>\n",
       "      <td>...</td>\n",
       "      <td>1393.40</td>\n",
       "      <td>1498.99</td>\n",
       "      <td>2259.06</td>\n",
       "      <td>1308.49</td>\n",
       "      <td>1435.23</td>\n",
       "      <td>1401.19</td>\n",
       "      <td>1386.03</td>\n",
       "      <td>1371.11</td>\n",
       "      <td>1352.78</td>\n",
       "      <td>1336.74</td>\n",
       "    </tr>\n",
       "  </tbody>\n",
       "</table>\n",
       "<p>5 rows × 30 columns</p>\n",
       "</div>"
      ],
      "text/plain": [
       "  country_or_area data_source                sector      gas    unit  \\\n",
       "0           World        CAIT  Total including LUCF  All GHG  MtCO₂e   \n",
       "1           China        CAIT  Total including LUCF  All GHG  MtCO₂e   \n",
       "2   United States        CAIT  Total including LUCF  All GHG  MtCO₂e   \n",
       "3           India        CAIT  Total including LUCF  All GHG  MtCO₂e   \n",
       "4       Indonesia        CAIT  Total including LUCF  All GHG  MtCO₂e   \n",
       "\n",
       "       2014      2013      2012      2011      2010  ...      1999      1998  \\\n",
       "0  48892.37  48257.30  47583.61  47025.97  45760.96  ...  36212.69  36299.09   \n",
       "1  11600.63  11420.44  10938.67  10701.13   9712.78  ...   3972.81   4038.55   \n",
       "2   6319.02   6213.27   6132.14   6305.16   6115.68  ...   6222.57   6178.27   \n",
       "3   3202.31   3031.34   2956.22   2821.64   2469.00  ...   1594.49   1516.44   \n",
       "4   2471.64   2160.98   2156.54   2135.19   1994.78  ...   1393.40   1498.99   \n",
       "\n",
       "       1997      1996      1995      1994      1993      1992      1991  \\\n",
       "0  36626.68  35376.05  34922.08  34231.54  34051.21  33927.96  34008.49   \n",
       "1   3931.79   3900.32   3884.03   3498.95   3344.47   3117.42   2980.93   \n",
       "2   6160.30   6013.18   5863.02   5805.98   5725.24   5598.11   5514.88   \n",
       "3   1485.84   1429.29   1375.25   1311.29   1263.72   1230.04   1197.94   \n",
       "4   2259.06   1308.49   1435.23   1401.19   1386.03   1371.11   1352.78   \n",
       "\n",
       "       1990  \n",
       "0  33823.47  \n",
       "1   2833.49  \n",
       "2   5550.04  \n",
       "3   1142.43  \n",
       "4   1336.74  \n",
       "\n",
       "[5 rows x 30 columns]"
      ]
     },
     "execution_count": 45,
     "metadata": {},
     "output_type": "execute_result"
    }
   ],
   "source": [
    "ghg_emissions_data.head()"
   ]
  },
  {
   "cell_type": "code",
   "execution_count": 46,
   "metadata": {},
   "outputs": [
    {
     "data": {
      "text/plain": [
       "array(['CAIT'], dtype=object)"
      ]
     },
     "execution_count": 46,
     "metadata": {},
     "output_type": "execute_result"
    }
   ],
   "source": [
    "ghg_emissions_data.data_source.unique()"
   ]
  },
  {
   "cell_type": "code",
   "execution_count": 47,
   "metadata": {},
   "outputs": [
    {
     "data": {
      "text/plain": [
       "array(['Total including LUCF'], dtype=object)"
      ]
     },
     "execution_count": 47,
     "metadata": {},
     "output_type": "execute_result"
    }
   ],
   "source": [
    "ghg_emissions_data.sector.unique()"
   ]
  },
  {
   "cell_type": "code",
   "execution_count": 48,
   "metadata": {},
   "outputs": [
    {
     "data": {
      "text/plain": [
       "array(['MtCO₂e'], dtype=object)"
      ]
     },
     "execution_count": 48,
     "metadata": {},
     "output_type": "execute_result"
    }
   ],
   "source": [
    "ghg_emissions_data.unit.unique()"
   ]
  },
  {
   "cell_type": "code",
   "execution_count": 49,
   "metadata": {},
   "outputs": [
    {
     "data": {
      "text/plain": [
       "array(['All GHG'], dtype=object)"
      ]
     },
     "execution_count": 49,
     "metadata": {},
     "output_type": "execute_result"
    }
   ],
   "source": [
    "ghg_emissions_data.gas.unique()"
   ]
  },
  {
   "cell_type": "code",
   "execution_count": 50,
   "metadata": {},
   "outputs": [],
   "source": [
    "ghg_emissions_data = ghg_emissions_data.drop([\"data_source\", \"sector\", \"gas\", \"unit\"], axis = 1)"
   ]
  },
  {
   "cell_type": "code",
   "execution_count": 51,
   "metadata": {},
   "outputs": [
    {
     "data": {
      "text/html": [
       "<div>\n",
       "<style scoped>\n",
       "    .dataframe tbody tr th:only-of-type {\n",
       "        vertical-align: middle;\n",
       "    }\n",
       "\n",
       "    .dataframe tbody tr th {\n",
       "        vertical-align: top;\n",
       "    }\n",
       "\n",
       "    .dataframe thead th {\n",
       "        text-align: right;\n",
       "    }\n",
       "</style>\n",
       "<table border=\"1\" class=\"dataframe\">\n",
       "  <thead>\n",
       "    <tr style=\"text-align: right;\">\n",
       "      <th></th>\n",
       "      <th>country_or_area</th>\n",
       "      <th>2014</th>\n",
       "      <th>2013</th>\n",
       "      <th>2012</th>\n",
       "      <th>2011</th>\n",
       "      <th>2010</th>\n",
       "      <th>2009</th>\n",
       "      <th>2008</th>\n",
       "      <th>2007</th>\n",
       "      <th>2006</th>\n",
       "      <th>...</th>\n",
       "      <th>1999</th>\n",
       "      <th>1998</th>\n",
       "      <th>1997</th>\n",
       "      <th>1996</th>\n",
       "      <th>1995</th>\n",
       "      <th>1994</th>\n",
       "      <th>1993</th>\n",
       "      <th>1992</th>\n",
       "      <th>1991</th>\n",
       "      <th>1990</th>\n",
       "    </tr>\n",
       "  </thead>\n",
       "  <tbody>\n",
       "    <tr>\n",
       "      <th>0</th>\n",
       "      <td>World</td>\n",
       "      <td>48892.37</td>\n",
       "      <td>48257.30</td>\n",
       "      <td>47583.61</td>\n",
       "      <td>47025.97</td>\n",
       "      <td>45760.96</td>\n",
       "      <td>44091.45</td>\n",
       "      <td>44206.56</td>\n",
       "      <td>43822.88</td>\n",
       "      <td>42805.12</td>\n",
       "      <td>...</td>\n",
       "      <td>36212.69</td>\n",
       "      <td>36299.09</td>\n",
       "      <td>36626.68</td>\n",
       "      <td>35376.05</td>\n",
       "      <td>34922.08</td>\n",
       "      <td>34231.54</td>\n",
       "      <td>34051.21</td>\n",
       "      <td>33927.96</td>\n",
       "      <td>34008.49</td>\n",
       "      <td>33823.47</td>\n",
       "    </tr>\n",
       "    <tr>\n",
       "      <th>1</th>\n",
       "      <td>China</td>\n",
       "      <td>11600.63</td>\n",
       "      <td>11420.44</td>\n",
       "      <td>10938.67</td>\n",
       "      <td>10701.13</td>\n",
       "      <td>9712.78</td>\n",
       "      <td>8919.70</td>\n",
       "      <td>8359.26</td>\n",
       "      <td>8176.56</td>\n",
       "      <td>7537.67</td>\n",
       "      <td>...</td>\n",
       "      <td>3972.81</td>\n",
       "      <td>4038.55</td>\n",
       "      <td>3931.79</td>\n",
       "      <td>3900.32</td>\n",
       "      <td>3884.03</td>\n",
       "      <td>3498.95</td>\n",
       "      <td>3344.47</td>\n",
       "      <td>3117.42</td>\n",
       "      <td>2980.93</td>\n",
       "      <td>2833.49</td>\n",
       "    </tr>\n",
       "    <tr>\n",
       "      <th>2</th>\n",
       "      <td>United States</td>\n",
       "      <td>6319.02</td>\n",
       "      <td>6213.27</td>\n",
       "      <td>6132.14</td>\n",
       "      <td>6305.16</td>\n",
       "      <td>6115.68</td>\n",
       "      <td>5893.98</td>\n",
       "      <td>6253.79</td>\n",
       "      <td>6531.52</td>\n",
       "      <td>6330.06</td>\n",
       "      <td>...</td>\n",
       "      <td>6222.57</td>\n",
       "      <td>6178.27</td>\n",
       "      <td>6160.30</td>\n",
       "      <td>6013.18</td>\n",
       "      <td>5863.02</td>\n",
       "      <td>5805.98</td>\n",
       "      <td>5725.24</td>\n",
       "      <td>5598.11</td>\n",
       "      <td>5514.88</td>\n",
       "      <td>5550.04</td>\n",
       "    </tr>\n",
       "    <tr>\n",
       "      <th>3</th>\n",
       "      <td>India</td>\n",
       "      <td>3202.31</td>\n",
       "      <td>3031.34</td>\n",
       "      <td>2956.22</td>\n",
       "      <td>2821.64</td>\n",
       "      <td>2469.00</td>\n",
       "      <td>2363.59</td>\n",
       "      <td>2183.33</td>\n",
       "      <td>2083.95</td>\n",
       "      <td>1942.63</td>\n",
       "      <td>...</td>\n",
       "      <td>1594.49</td>\n",
       "      <td>1516.44</td>\n",
       "      <td>1485.84</td>\n",
       "      <td>1429.29</td>\n",
       "      <td>1375.25</td>\n",
       "      <td>1311.29</td>\n",
       "      <td>1263.72</td>\n",
       "      <td>1230.04</td>\n",
       "      <td>1197.94</td>\n",
       "      <td>1142.43</td>\n",
       "    </tr>\n",
       "    <tr>\n",
       "      <th>4</th>\n",
       "      <td>Indonesia</td>\n",
       "      <td>2471.64</td>\n",
       "      <td>2160.98</td>\n",
       "      <td>2156.54</td>\n",
       "      <td>2135.19</td>\n",
       "      <td>1994.78</td>\n",
       "      <td>2285.21</td>\n",
       "      <td>1968.89</td>\n",
       "      <td>1974.67</td>\n",
       "      <td>2399.72</td>\n",
       "      <td>...</td>\n",
       "      <td>1393.40</td>\n",
       "      <td>1498.99</td>\n",
       "      <td>2259.06</td>\n",
       "      <td>1308.49</td>\n",
       "      <td>1435.23</td>\n",
       "      <td>1401.19</td>\n",
       "      <td>1386.03</td>\n",
       "      <td>1371.11</td>\n",
       "      <td>1352.78</td>\n",
       "      <td>1336.74</td>\n",
       "    </tr>\n",
       "  </tbody>\n",
       "</table>\n",
       "<p>5 rows × 26 columns</p>\n",
       "</div>"
      ],
      "text/plain": [
       "  country_or_area      2014      2013      2012      2011      2010      2009  \\\n",
       "0           World  48892.37  48257.30  47583.61  47025.97  45760.96  44091.45   \n",
       "1           China  11600.63  11420.44  10938.67  10701.13   9712.78   8919.70   \n",
       "2   United States   6319.02   6213.27   6132.14   6305.16   6115.68   5893.98   \n",
       "3           India   3202.31   3031.34   2956.22   2821.64   2469.00   2363.59   \n",
       "4       Indonesia   2471.64   2160.98   2156.54   2135.19   1994.78   2285.21   \n",
       "\n",
       "       2008      2007      2006  ...      1999      1998      1997      1996  \\\n",
       "0  44206.56  43822.88  42805.12  ...  36212.69  36299.09  36626.68  35376.05   \n",
       "1   8359.26   8176.56   7537.67  ...   3972.81   4038.55   3931.79   3900.32   \n",
       "2   6253.79   6531.52   6330.06  ...   6222.57   6178.27   6160.30   6013.18   \n",
       "3   2183.33   2083.95   1942.63  ...   1594.49   1516.44   1485.84   1429.29   \n",
       "4   1968.89   1974.67   2399.72  ...   1393.40   1498.99   2259.06   1308.49   \n",
       "\n",
       "       1995      1994      1993      1992      1991      1990  \n",
       "0  34922.08  34231.54  34051.21  33927.96  34008.49  33823.47  \n",
       "1   3884.03   3498.95   3344.47   3117.42   2980.93   2833.49  \n",
       "2   5863.02   5805.98   5725.24   5598.11   5514.88   5550.04  \n",
       "3   1375.25   1311.29   1263.72   1230.04   1197.94   1142.43  \n",
       "4   1435.23   1401.19   1386.03   1371.11   1352.78   1336.74  \n",
       "\n",
       "[5 rows x 26 columns]"
      ]
     },
     "execution_count": 51,
     "metadata": {},
     "output_type": "execute_result"
    }
   ],
   "source": [
    "ghg_emissions_data.head()"
   ]
  },
  {
   "cell_type": "code",
   "execution_count": 52,
   "metadata": {},
   "outputs": [],
   "source": [
    "# Will create melt function in case it's needed more than once and will remove not available values.\n",
    "def melt_df(dataframe, value_name):\n",
    "    dataframe.dropna(axis=0, inplace= True)\n",
    "    melted_df = pd.melt(dataframe,\n",
    "                       id_vars= \"country_or_area\",\n",
    "                       var_name= \"year\",\n",
    "                       value_name= value_name)\n",
    "    return melted_df"
   ]
  },
  {
   "cell_type": "code",
   "execution_count": 53,
   "metadata": {},
   "outputs": [],
   "source": [
    "emissions = melt_df(ghg_emissions_data, \"mtco2e\")"
   ]
  },
  {
   "cell_type": "code",
   "execution_count": 54,
   "metadata": {
    "scrolled": true
   },
   "outputs": [
    {
     "data": {
      "text/html": [
       "<div>\n",
       "<style scoped>\n",
       "    .dataframe tbody tr th:only-of-type {\n",
       "        vertical-align: middle;\n",
       "    }\n",
       "\n",
       "    .dataframe tbody tr th {\n",
       "        vertical-align: top;\n",
       "    }\n",
       "\n",
       "    .dataframe thead th {\n",
       "        text-align: right;\n",
       "    }\n",
       "</style>\n",
       "<table border=\"1\" class=\"dataframe\">\n",
       "  <thead>\n",
       "    <tr style=\"text-align: right;\">\n",
       "      <th></th>\n",
       "      <th>country_or_area</th>\n",
       "      <th>year</th>\n",
       "      <th>mtco2e</th>\n",
       "    </tr>\n",
       "  </thead>\n",
       "  <tbody>\n",
       "    <tr>\n",
       "      <th>0</th>\n",
       "      <td>World</td>\n",
       "      <td>2014</td>\n",
       "      <td>48892.37</td>\n",
       "    </tr>\n",
       "    <tr>\n",
       "      <th>1</th>\n",
       "      <td>China</td>\n",
       "      <td>2014</td>\n",
       "      <td>11600.63</td>\n",
       "    </tr>\n",
       "    <tr>\n",
       "      <th>2</th>\n",
       "      <td>United States</td>\n",
       "      <td>2014</td>\n",
       "      <td>6319.02</td>\n",
       "    </tr>\n",
       "    <tr>\n",
       "      <th>3</th>\n",
       "      <td>India</td>\n",
       "      <td>2014</td>\n",
       "      <td>3202.31</td>\n",
       "    </tr>\n",
       "    <tr>\n",
       "      <th>4</th>\n",
       "      <td>Indonesia</td>\n",
       "      <td>2014</td>\n",
       "      <td>2471.64</td>\n",
       "    </tr>\n",
       "  </tbody>\n",
       "</table>\n",
       "</div>"
      ],
      "text/plain": [
       "  country_or_area  year    mtco2e\n",
       "0           World  2014  48892.37\n",
       "1           China  2014  11600.63\n",
       "2   United States  2014   6319.02\n",
       "3           India  2014   3202.31\n",
       "4       Indonesia  2014   2471.64"
      ]
     },
     "execution_count": 54,
     "metadata": {},
     "output_type": "execute_result"
    }
   ],
   "source": [
    "emissions.head()"
   ]
  },
  {
   "cell_type": "code",
   "execution_count": 55,
   "metadata": {},
   "outputs": [
    {
     "data": {
      "text/plain": [
       "country_or_area     object\n",
       "year                object\n",
       "mtco2e             float64\n",
       "dtype: object"
      ]
     },
     "execution_count": 55,
     "metadata": {},
     "output_type": "execute_result"
    }
   ],
   "source": [
    "emissions.dtypes"
   ]
  },
  {
   "cell_type": "code",
   "execution_count": 56,
   "metadata": {},
   "outputs": [
    {
     "data": {
      "text/plain": [
       "array(['World', 'China', 'United States', 'India', 'Indonesia', 'Russia',\n",
       "       'Brazil', 'Japan', 'Canada', 'Germany', 'Iran', 'Mexico',\n",
       "       'South Korea', 'Saudi Arabia', 'South Africa', 'Australia',\n",
       "       'United Kingdom', 'Nigeria', 'Argentina', 'Zambia', 'Thailand',\n",
       "       'Italy', 'Turkey', 'Pakistan', 'Ukraine', 'Venezuela', 'France',\n",
       "       'Poland', 'Iraq', 'Kazakhstan', 'Tanzania', 'Spain', 'Egypt',\n",
       "       'Angola', 'Vietnam', 'Sudan', 'United Arab Emirates', 'Uzbekistan',\n",
       "       'Myanmar', 'Democratic Republic of the Congo', 'Algeria', 'Kuwait',\n",
       "       'Bangladesh', 'Cameroon', 'Malaysia', 'Paraguay', 'Colombia',\n",
       "       'Netherlands', 'Peru', 'Ethiopia', 'Bolivia', 'Libya',\n",
       "       'Philippines', 'Turkmenistan', 'Oman', 'Belgium', 'Czech Republic',\n",
       "       'Ecuador', 'Belarus', 'Qatar', 'Israel', 'Greece', 'North Korea',\n",
       "       'Morocco', 'Papua New Guinea', 'Austria', 'Mozambique', 'Mongolia',\n",
       "       'Finland', 'Azerbaijan', 'Zimbabwe', 'Portugal', 'Syria',\n",
       "       'Central African Republic', 'Hungary', 'New Zealand', 'Uganda',\n",
       "       'Ireland', 'Chad', 'Cambodia', 'Singapore', 'Serbia', 'Honduras',\n",
       "       'Madagascar', 'Denmark', 'Bulgaria', 'Sweden', 'Switzerland',\n",
       "       'Sri Lanka', 'Nepal', \"Côte d'Ivoire\", 'Mali', 'Ghana',\n",
       "       'Guatemala', 'Tunisia', 'Botswana', 'Somalia', 'Bahrain', 'Yemen',\n",
       "       'Afghanistan', 'Slovakia', 'Cuba', 'Burkina Faso', 'Jordan',\n",
       "       'Senegal', 'Guinea', 'Laos', 'Niger', 'Kenya',\n",
       "       'Bosnia and Herzegovina', 'Lebanon', 'Estonia', 'Panama',\n",
       "       'Equatorial Guinea', 'Guyana', 'Norway', 'Trinidad and Tobago',\n",
       "       'Dominican Republic', 'Benin', 'Uruguay', 'Brunei', 'Namibia',\n",
       "       'Lithuania', 'Republic of Congo', 'Croatia', 'Georgia',\n",
       "       'Nicaragua', 'Malawi', 'Kyrgyzstan', 'Togo', 'Sierra Leone',\n",
       "       'El Salvador', 'Belize', 'Tajikistan', 'Macedonia', 'Moldova',\n",
       "       'Luxembourg', 'Slovenia', 'Jamaica', 'Mauritania', 'Haiti',\n",
       "       'Albania', 'Armenia', 'Suriname', 'Rwanda', 'Gambia', 'Cyprus',\n",
       "       'Mauritius', 'Burundi', 'Lesotho', 'Liberia', 'Guinea-Bissau',\n",
       "       'Barbados', 'Eswatini', 'Bahamas', 'Malta', 'Iceland',\n",
       "       'Solomon Islands', 'Costa Rica', 'Grenada', 'Latvia', 'Djibouti',\n",
       "       'Maldives', 'Saint Lucia', 'Antigua and Barbuda', 'Vanuatu',\n",
       "       'Seychelles', 'Andorra', 'Cape Verde', 'Samoa', 'Comoros',\n",
       "       'Saint Kitts and Nevis', 'Dominica', 'Tonga',\n",
       "       'Saint Vincent and the Grenadines', 'Sao Tome and Principe',\n",
       "       'Niue', 'Cook Islands', 'Kiribati', 'Nauru', 'Tuvalu', 'Fiji',\n",
       "       'Bhutan', 'Chile', 'Romania', 'Gabon'], dtype=object)"
      ]
     },
     "execution_count": 56,
     "metadata": {},
     "output_type": "execute_result"
    }
   ],
   "source": [
    "emissions.country_or_area.unique()"
   ]
  },
  {
   "cell_type": "code",
   "execution_count": 57,
   "metadata": {},
   "outputs": [],
   "source": [
    "# Correction for the data type of \"year\".\n",
    "emissions[\"year\"] = pd.to_numeric(emissions[\"year\"])"
   ]
  },
  {
   "cell_type": "markdown",
   "metadata": {},
   "source": [
    "Let's see the last dataframe. Since we're interested in the energy consumption according to the Energy-Questionnaire-Guidelines the column which we first need to go to is commodity_transaction column and filter to \"Total energy supply\"."
   ]
  },
  {
   "cell_type": "code",
   "execution_count": 58,
   "metadata": {},
   "outputs": [],
   "source": [
    "world_energy_stats = world_energy_stats[world_energy_stats[\"commodity_transaction\"].str.contains(\"Final energy consumption\")]"
   ]
  },
  {
   "cell_type": "code",
   "execution_count": 59,
   "metadata": {},
   "outputs": [
    {
     "data": {
      "text/plain": [
       "(53, 8)"
      ]
     },
     "execution_count": 59,
     "metadata": {},
     "output_type": "execute_result"
    }
   ],
   "source": [
    "world_energy_stats.shape"
   ]
  },
  {
   "cell_type": "code",
   "execution_count": 60,
   "metadata": {},
   "outputs": [
    {
     "data": {
      "text/plain": [
       "array(['Metric tons,  thousand', 'Cubic metres, thousand', 'Terajoules',\n",
       "       'Kilowatt-hours, million'], dtype=object)"
      ]
     },
     "execution_count": 60,
     "metadata": {},
     "output_type": "execute_result"
    }
   ],
   "source": [
    "#Since the data is combined from multiple dataset I expect it not to have a common unit of energy. Let's check it.\n",
    "world_energy_stats.unit.unique()"
   ]
  },
  {
   "cell_type": "code",
   "execution_count": 61,
   "metadata": {},
   "outputs": [
    {
     "data": {
      "text/html": [
       "<div>\n",
       "<style scoped>\n",
       "    .dataframe tbody tr th:only-of-type {\n",
       "        vertical-align: middle;\n",
       "    }\n",
       "\n",
       "    .dataframe tbody tr th {\n",
       "        vertical-align: top;\n",
       "    }\n",
       "\n",
       "    .dataframe thead th {\n",
       "        text-align: right;\n",
       "    }\n",
       "</style>\n",
       "<table border=\"1\" class=\"dataframe\">\n",
       "  <thead>\n",
       "    <tr style=\"text-align: right;\">\n",
       "      <th></th>\n",
       "      <th>Unnamed: 0</th>\n",
       "      <th>country_or_area</th>\n",
       "      <th>commodity_transaction</th>\n",
       "      <th>year</th>\n",
       "      <th>unit</th>\n",
       "      <th>quantity</th>\n",
       "      <th>quantity_footnotes</th>\n",
       "      <th>category</th>\n",
       "    </tr>\n",
       "  </thead>\n",
       "  <tbody>\n",
       "    <tr>\n",
       "      <th>13</th>\n",
       "      <td>297620</td>\n",
       "      <td>United Rep. of Tanzania</td>\n",
       "      <td>Fuel oil - Final energy consumption</td>\n",
       "      <td>1995</td>\n",
       "      <td>Metric tons,  thousand</td>\n",
       "      <td>117.00</td>\n",
       "      <td>NaN</td>\n",
       "      <td>fuel_oil</td>\n",
       "    </tr>\n",
       "    <tr>\n",
       "      <th>32</th>\n",
       "      <td>680036</td>\n",
       "      <td>Bhutan</td>\n",
       "      <td>Liquified Petroleum Gas (LPG) - Final energy c...</td>\n",
       "      <td>2009</td>\n",
       "      <td>Metric tons,  thousand</td>\n",
       "      <td>6.17</td>\n",
       "      <td>1.0</td>\n",
       "      <td>liquified_petroleum_gas</td>\n",
       "    </tr>\n",
       "    <tr>\n",
       "      <th>64</th>\n",
       "      <td>34299</td>\n",
       "      <td>Jamaica</td>\n",
       "      <td>Bagasse - Final energy consumption</td>\n",
       "      <td>2010</td>\n",
       "      <td>Metric tons,  thousand</td>\n",
       "      <td>318.70</td>\n",
       "      <td>NaN</td>\n",
       "      <td>bagasse</td>\n",
       "    </tr>\n",
       "    <tr>\n",
       "      <th>108</th>\n",
       "      <td>439338</td>\n",
       "      <td>Gabon</td>\n",
       "      <td>Gas Oil/ Diesel Oil - Final energy consumption</td>\n",
       "      <td>1999</td>\n",
       "      <td>Metric tons,  thousand</td>\n",
       "      <td>221.00</td>\n",
       "      <td>NaN</td>\n",
       "      <td>gas_oil_diesel_oil</td>\n",
       "    </tr>\n",
       "    <tr>\n",
       "      <th>190</th>\n",
       "      <td>34051</td>\n",
       "      <td>Fiji</td>\n",
       "      <td>Bagasse - Final energy consumption</td>\n",
       "      <td>1990</td>\n",
       "      <td>Metric tons,  thousand</td>\n",
       "      <td>1050.00</td>\n",
       "      <td>1.0</td>\n",
       "      <td>bagasse</td>\n",
       "    </tr>\n",
       "  </tbody>\n",
       "</table>\n",
       "</div>"
      ],
      "text/plain": [
       "     Unnamed: 0          country_or_area  \\\n",
       "13       297620  United Rep. of Tanzania   \n",
       "32       680036                   Bhutan   \n",
       "64        34299                  Jamaica   \n",
       "108      439338                    Gabon   \n",
       "190       34051                     Fiji   \n",
       "\n",
       "                                 commodity_transaction  year  \\\n",
       "13                 Fuel oil - Final energy consumption  1995   \n",
       "32   Liquified Petroleum Gas (LPG) - Final energy c...  2009   \n",
       "64                  Bagasse - Final energy consumption  2010   \n",
       "108     Gas Oil/ Diesel Oil - Final energy consumption  1999   \n",
       "190                 Bagasse - Final energy consumption  1990   \n",
       "\n",
       "                       unit  quantity  quantity_footnotes  \\\n",
       "13   Metric tons,  thousand    117.00                 NaN   \n",
       "32   Metric tons,  thousand      6.17                 1.0   \n",
       "64   Metric tons,  thousand    318.70                 NaN   \n",
       "108  Metric tons,  thousand    221.00                 NaN   \n",
       "190  Metric tons,  thousand   1050.00                 1.0   \n",
       "\n",
       "                    category  \n",
       "13                  fuel_oil  \n",
       "32   liquified_petroleum_gas  \n",
       "64                   bagasse  \n",
       "108       gas_oil_diesel_oil  \n",
       "190                  bagasse  "
      ]
     },
     "execution_count": 61,
     "metadata": {},
     "output_type": "execute_result"
    }
   ],
   "source": [
    "world_energy_stats[world_energy_stats[\"unit\"].str.contains(\"Metric tons\")].head()"
   ]
  },
  {
   "cell_type": "code",
   "execution_count": 62,
   "metadata": {},
   "outputs": [
    {
     "data": {
      "text/html": [
       "<div>\n",
       "<style scoped>\n",
       "    .dataframe tbody tr th:only-of-type {\n",
       "        vertical-align: middle;\n",
       "    }\n",
       "\n",
       "    .dataframe tbody tr th {\n",
       "        vertical-align: top;\n",
       "    }\n",
       "\n",
       "    .dataframe thead th {\n",
       "        text-align: right;\n",
       "    }\n",
       "</style>\n",
       "<table border=\"1\" class=\"dataframe\">\n",
       "  <thead>\n",
       "    <tr style=\"text-align: right;\">\n",
       "      <th></th>\n",
       "      <th>Unnamed: 0</th>\n",
       "      <th>country_or_area</th>\n",
       "      <th>commodity_transaction</th>\n",
       "      <th>year</th>\n",
       "      <th>unit</th>\n",
       "      <th>quantity</th>\n",
       "      <th>quantity_footnotes</th>\n",
       "      <th>category</th>\n",
       "    </tr>\n",
       "  </thead>\n",
       "  <tbody>\n",
       "    <tr>\n",
       "      <th>13</th>\n",
       "      <td>297620</td>\n",
       "      <td>United Rep. of Tanzania</td>\n",
       "      <td>Fuel oil - Final energy consumption</td>\n",
       "      <td>1995</td>\n",
       "      <td>Metric tons,  thousand</td>\n",
       "      <td>117.000000</td>\n",
       "      <td>NaN</td>\n",
       "      <td>fuel_oil</td>\n",
       "    </tr>\n",
       "    <tr>\n",
       "      <th>32</th>\n",
       "      <td>680036</td>\n",
       "      <td>Bhutan</td>\n",
       "      <td>Liquified Petroleum Gas (LPG) - Final energy c...</td>\n",
       "      <td>2009</td>\n",
       "      <td>Metric tons,  thousand</td>\n",
       "      <td>6.170000</td>\n",
       "      <td>1.0</td>\n",
       "      <td>liquified_petroleum_gas</td>\n",
       "    </tr>\n",
       "    <tr>\n",
       "      <th>44</th>\n",
       "      <td>361289</td>\n",
       "      <td>Portugal</td>\n",
       "      <td>Fuelwood - Final energy consumption</td>\n",
       "      <td>1990</td>\n",
       "      <td>Cubic metres, thousand</td>\n",
       "      <td>5173.026492</td>\n",
       "      <td>1.0</td>\n",
       "      <td>fuelwood</td>\n",
       "    </tr>\n",
       "    <tr>\n",
       "      <th>64</th>\n",
       "      <td>34299</td>\n",
       "      <td>Jamaica</td>\n",
       "      <td>Bagasse - Final energy consumption</td>\n",
       "      <td>2010</td>\n",
       "      <td>Metric tons,  thousand</td>\n",
       "      <td>318.700000</td>\n",
       "      <td>NaN</td>\n",
       "      <td>bagasse</td>\n",
       "    </tr>\n",
       "    <tr>\n",
       "      <th>67</th>\n",
       "      <td>200704</td>\n",
       "      <td>United Kingdom</td>\n",
       "      <td>Direct use of geothermal heat - Final energy c...</td>\n",
       "      <td>2009</td>\n",
       "      <td>Terajoules</td>\n",
       "      <td>33.000000</td>\n",
       "      <td>NaN</td>\n",
       "      <td>direct_use_of_geothermal_heat</td>\n",
       "    </tr>\n",
       "  </tbody>\n",
       "</table>\n",
       "</div>"
      ],
      "text/plain": [
       "    Unnamed: 0          country_or_area  \\\n",
       "13      297620  United Rep. of Tanzania   \n",
       "32      680036                   Bhutan   \n",
       "44      361289                 Portugal   \n",
       "64       34299                  Jamaica   \n",
       "67      200704           United Kingdom   \n",
       "\n",
       "                                commodity_transaction  year  \\\n",
       "13                Fuel oil - Final energy consumption  1995   \n",
       "32  Liquified Petroleum Gas (LPG) - Final energy c...  2009   \n",
       "44                Fuelwood - Final energy consumption  1990   \n",
       "64                 Bagasse - Final energy consumption  2010   \n",
       "67  Direct use of geothermal heat - Final energy c...  2009   \n",
       "\n",
       "                      unit     quantity  quantity_footnotes  \\\n",
       "13  Metric tons,  thousand   117.000000                 NaN   \n",
       "32  Metric tons,  thousand     6.170000                 1.0   \n",
       "44  Cubic metres, thousand  5173.026492                 1.0   \n",
       "64  Metric tons,  thousand   318.700000                 NaN   \n",
       "67              Terajoules    33.000000                 NaN   \n",
       "\n",
       "                         category  \n",
       "13                       fuel_oil  \n",
       "32        liquified_petroleum_gas  \n",
       "44                       fuelwood  \n",
       "64                        bagasse  \n",
       "67  direct_use_of_geothermal_heat  "
      ]
     },
     "execution_count": 62,
     "metadata": {},
     "output_type": "execute_result"
    }
   ],
   "source": [
    "world_energy_stats.head()"
   ]
  },
  {
   "cell_type": "code",
   "execution_count": 63,
   "metadata": {},
   "outputs": [
    {
     "data": {
      "text/plain": [
       "41863.322484"
      ]
     },
     "execution_count": 63,
     "metadata": {},
     "output_type": "execute_result"
    }
   ],
   "source": [
    "#A quick sense check.\n",
    "world_energy_stats.quantity[world_energy_stats[\"unit\"].str.contains(\"Metric tons\")].sum()"
   ]
  },
  {
   "cell_type": "code",
   "execution_count": 64,
   "metadata": {},
   "outputs": [],
   "source": [
    "new_data_fr = world_energy_stats[world_energy_stats[\"unit\"].str.contains(\"Metric tons\")]"
   ]
  },
  {
   "cell_type": "code",
   "execution_count": 65,
   "metadata": {},
   "outputs": [
    {
     "data": {
      "text/html": [
       "<div>\n",
       "<style scoped>\n",
       "    .dataframe tbody tr th:only-of-type {\n",
       "        vertical-align: middle;\n",
       "    }\n",
       "\n",
       "    .dataframe tbody tr th {\n",
       "        vertical-align: top;\n",
       "    }\n",
       "\n",
       "    .dataframe thead th {\n",
       "        text-align: right;\n",
       "    }\n",
       "</style>\n",
       "<table border=\"1\" class=\"dataframe\">\n",
       "  <thead>\n",
       "    <tr style=\"text-align: right;\">\n",
       "      <th></th>\n",
       "      <th>Unnamed: 0</th>\n",
       "      <th>country_or_area</th>\n",
       "      <th>commodity_transaction</th>\n",
       "      <th>year</th>\n",
       "      <th>unit</th>\n",
       "      <th>quantity</th>\n",
       "      <th>quantity_footnotes</th>\n",
       "      <th>category</th>\n",
       "    </tr>\n",
       "  </thead>\n",
       "  <tbody>\n",
       "    <tr>\n",
       "      <th>13</th>\n",
       "      <td>297620</td>\n",
       "      <td>United Rep. of Tanzania</td>\n",
       "      <td>Fuel oil - Final energy consumption</td>\n",
       "      <td>1995</td>\n",
       "      <td>Metric tons,  thousand</td>\n",
       "      <td>117.00</td>\n",
       "      <td>NaN</td>\n",
       "      <td>fuel_oil</td>\n",
       "    </tr>\n",
       "    <tr>\n",
       "      <th>32</th>\n",
       "      <td>680036</td>\n",
       "      <td>Bhutan</td>\n",
       "      <td>Liquified Petroleum Gas (LPG) - Final energy c...</td>\n",
       "      <td>2009</td>\n",
       "      <td>Metric tons,  thousand</td>\n",
       "      <td>6.17</td>\n",
       "      <td>1.0</td>\n",
       "      <td>liquified_petroleum_gas</td>\n",
       "    </tr>\n",
       "    <tr>\n",
       "      <th>64</th>\n",
       "      <td>34299</td>\n",
       "      <td>Jamaica</td>\n",
       "      <td>Bagasse - Final energy consumption</td>\n",
       "      <td>2010</td>\n",
       "      <td>Metric tons,  thousand</td>\n",
       "      <td>318.70</td>\n",
       "      <td>NaN</td>\n",
       "      <td>bagasse</td>\n",
       "    </tr>\n",
       "    <tr>\n",
       "      <th>108</th>\n",
       "      <td>439338</td>\n",
       "      <td>Gabon</td>\n",
       "      <td>Gas Oil/ Diesel Oil - Final energy consumption</td>\n",
       "      <td>1999</td>\n",
       "      <td>Metric tons,  thousand</td>\n",
       "      <td>221.00</td>\n",
       "      <td>NaN</td>\n",
       "      <td>gas_oil_diesel_oil</td>\n",
       "    </tr>\n",
       "    <tr>\n",
       "      <th>190</th>\n",
       "      <td>34051</td>\n",
       "      <td>Fiji</td>\n",
       "      <td>Bagasse - Final energy consumption</td>\n",
       "      <td>1990</td>\n",
       "      <td>Metric tons,  thousand</td>\n",
       "      <td>1050.00</td>\n",
       "      <td>1.0</td>\n",
       "      <td>bagasse</td>\n",
       "    </tr>\n",
       "  </tbody>\n",
       "</table>\n",
       "</div>"
      ],
      "text/plain": [
       "     Unnamed: 0          country_or_area  \\\n",
       "13       297620  United Rep. of Tanzania   \n",
       "32       680036                   Bhutan   \n",
       "64        34299                  Jamaica   \n",
       "108      439338                    Gabon   \n",
       "190       34051                     Fiji   \n",
       "\n",
       "                                 commodity_transaction  year  \\\n",
       "13                 Fuel oil - Final energy consumption  1995   \n",
       "32   Liquified Petroleum Gas (LPG) - Final energy c...  2009   \n",
       "64                  Bagasse - Final energy consumption  2010   \n",
       "108     Gas Oil/ Diesel Oil - Final energy consumption  1999   \n",
       "190                 Bagasse - Final energy consumption  1990   \n",
       "\n",
       "                       unit  quantity  quantity_footnotes  \\\n",
       "13   Metric tons,  thousand    117.00                 NaN   \n",
       "32   Metric tons,  thousand      6.17                 1.0   \n",
       "64   Metric tons,  thousand    318.70                 NaN   \n",
       "108  Metric tons,  thousand    221.00                 NaN   \n",
       "190  Metric tons,  thousand   1050.00                 1.0   \n",
       "\n",
       "                    category  \n",
       "13                  fuel_oil  \n",
       "32   liquified_petroleum_gas  \n",
       "64                   bagasse  \n",
       "108       gas_oil_diesel_oil  \n",
       "190                  bagasse  "
      ]
     },
     "execution_count": 65,
     "metadata": {},
     "output_type": "execute_result"
    }
   ],
   "source": [
    "new_data_fr.head()"
   ]
  },
  {
   "cell_type": "code",
   "execution_count": 66,
   "metadata": {},
   "outputs": [
    {
     "data": {
      "text/plain": [
       "category\n",
       "gas_oil_diesel_oil         38.475207\n",
       "lignite                    29.902070\n",
       "fuel_oil                   11.067922\n",
       "bagasse                     8.333344\n",
       "motor_gasoline              7.032409\n",
       "liquified_petroleum_gas     2.281639\n",
       "brown_coal                  1.108369\n",
       "brown_coal_briquettes       0.649733\n",
       "biogasoline                 0.496855\n",
       "other_kerosene              0.415939\n",
       "petroleum_coke              0.224540\n",
       "Name: quantity, dtype: float64"
      ]
     },
     "execution_count": 66,
     "metadata": {},
     "output_type": "execute_result"
    }
   ],
   "source": [
    "#Check biggest categories for the unit Metric ton in order to eventually convert it into a common energy unit.\n",
    "((new_data_fr.groupby(\"category\")[\"quantity\"].sum()/\n",
    "world_energy_stats.quantity[world_energy_stats[\"unit\"].str.contains(\"Metric tons\")].sum())*100).nlargest(11)"
   ]
  },
  {
   "cell_type": "code",
   "execution_count": 67,
   "metadata": {},
   "outputs": [
    {
     "data": {
      "text/plain": [
       "99.98802770610975"
      ]
     },
     "execution_count": 67,
     "metadata": {},
     "output_type": "execute_result"
    }
   ],
   "source": [
    "((new_data_fr.groupby(\"category\")[\"quantity\"].sum()/\n",
    "world_energy_stats.quantity[world_energy_stats[\"unit\"].str.contains(\"Metric tons\")].sum())*100).nlargest(11).sum()"
   ]
  },
  {
   "cell_type": "code",
   "execution_count": 68,
   "metadata": {
    "scrolled": false
   },
   "outputs": [
    {
     "data": {
      "text/html": [
       "<div>\n",
       "<style scoped>\n",
       "    .dataframe tbody tr th:only-of-type {\n",
       "        vertical-align: middle;\n",
       "    }\n",
       "\n",
       "    .dataframe tbody tr th {\n",
       "        vertical-align: top;\n",
       "    }\n",
       "\n",
       "    .dataframe thead th {\n",
       "        text-align: right;\n",
       "    }\n",
       "</style>\n",
       "<table border=\"1\" class=\"dataframe\">\n",
       "  <thead>\n",
       "    <tr style=\"text-align: right;\">\n",
       "      <th></th>\n",
       "      <th>Unnamed: 0</th>\n",
       "      <th>country_or_area</th>\n",
       "      <th>commodity_transaction</th>\n",
       "      <th>year</th>\n",
       "      <th>unit</th>\n",
       "      <th>quantity</th>\n",
       "      <th>quantity_footnotes</th>\n",
       "      <th>category</th>\n",
       "    </tr>\n",
       "  </thead>\n",
       "  <tbody>\n",
       "    <tr>\n",
       "      <th>108</th>\n",
       "      <td>439338</td>\n",
       "      <td>Gabon</td>\n",
       "      <td>Gas Oil/ Diesel Oil - Final energy consumption</td>\n",
       "      <td>1999</td>\n",
       "      <td>Metric tons,  thousand</td>\n",
       "      <td>221.0</td>\n",
       "      <td>NaN</td>\n",
       "      <td>gas_oil_diesel_oil</td>\n",
       "    </tr>\n",
       "    <tr>\n",
       "      <th>471</th>\n",
       "      <td>441758</td>\n",
       "      <td>Slovenia</td>\n",
       "      <td>Gas Oil/ Diesel Oil - Final energy consumption</td>\n",
       "      <td>1999</td>\n",
       "      <td>Metric tons,  thousand</td>\n",
       "      <td>1256.0</td>\n",
       "      <td>NaN</td>\n",
       "      <td>gas_oil_diesel_oil</td>\n",
       "    </tr>\n",
       "    <tr>\n",
       "      <th>719</th>\n",
       "      <td>441278</td>\n",
       "      <td>Peru</td>\n",
       "      <td>Gas Oil/ Diesel Oil - Final energy consumption</td>\n",
       "      <td>2014</td>\n",
       "      <td>Metric tons,  thousand</td>\n",
       "      <td>4509.0</td>\n",
       "      <td>NaN</td>\n",
       "      <td>gas_oil_diesel_oil</td>\n",
       "    </tr>\n",
       "    <tr>\n",
       "      <th>821</th>\n",
       "      <td>437732</td>\n",
       "      <td>Argentina</td>\n",
       "      <td>Gas Oil/ Diesel Oil - Final energy consumption</td>\n",
       "      <td>2013</td>\n",
       "      <td>Metric tons,  thousand</td>\n",
       "      <td>10121.0</td>\n",
       "      <td>1.0</td>\n",
       "      <td>gas_oil_diesel_oil</td>\n",
       "    </tr>\n",
       "  </tbody>\n",
       "</table>\n",
       "</div>"
      ],
      "text/plain": [
       "     Unnamed: 0 country_or_area  \\\n",
       "108      439338           Gabon   \n",
       "471      441758        Slovenia   \n",
       "719      441278            Peru   \n",
       "821      437732       Argentina   \n",
       "\n",
       "                              commodity_transaction  year  \\\n",
       "108  Gas Oil/ Diesel Oil - Final energy consumption  1999   \n",
       "471  Gas Oil/ Diesel Oil - Final energy consumption  1999   \n",
       "719  Gas Oil/ Diesel Oil - Final energy consumption  2014   \n",
       "821  Gas Oil/ Diesel Oil - Final energy consumption  2013   \n",
       "\n",
       "                       unit  quantity  quantity_footnotes            category  \n",
       "108  Metric tons,  thousand     221.0                 NaN  gas_oil_diesel_oil  \n",
       "471  Metric tons,  thousand    1256.0                 NaN  gas_oil_diesel_oil  \n",
       "719  Metric tons,  thousand    4509.0                 NaN  gas_oil_diesel_oil  \n",
       "821  Metric tons,  thousand   10121.0                 1.0  gas_oil_diesel_oil  "
      ]
     },
     "execution_count": 68,
     "metadata": {},
     "output_type": "execute_result"
    }
   ],
   "source": [
    "world_energy_stats[world_energy_stats[\"category\"].str.contains(\"gas_oil_diesel_oil\")].head()"
   ]
  },
  {
   "cell_type": "markdown",
   "metadata": {},
   "source": [
    "Conclusion about the world_energy_stats dataframe: It's a rich dataset but after more than half a day scrambling on the UN website trying to find conversion rates for more than 30 categories (the unit \"Terajoules\" as well has around 10 categories) oddly enough there isn't anything which might be useful. I can not believe how hard is to get to information such as total energy supply in one and the same unit (petajoules) for example."
   ]
  },
  {
   "cell_type": "markdown",
   "metadata": {},
   "source": [
    "<img src=\"mind_blown.jpeg\">"
   ]
  },
  {
   "cell_type": "markdown",
   "metadata": {},
   "source": [
    "I will delete new_data_fr but will leave world_energy_stats in case later it might be used. Fortunately for me I've managed to uncover a dataset which has the necessary information while I was browsing the UN Statistical data website. So I will go back and add it in the read section and check it in the cells below."
   ]
  },
  {
   "cell_type": "code",
   "execution_count": 69,
   "metadata": {},
   "outputs": [],
   "source": [
    "del new_data_fr"
   ]
  },
  {
   "cell_type": "code",
   "execution_count": 70,
   "metadata": {},
   "outputs": [
    {
     "data": {
      "text/html": [
       "<div>\n",
       "<style scoped>\n",
       "    .dataframe tbody tr th:only-of-type {\n",
       "        vertical-align: middle;\n",
       "    }\n",
       "\n",
       "    .dataframe tbody tr th {\n",
       "        vertical-align: top;\n",
       "    }\n",
       "\n",
       "    .dataframe thead th {\n",
       "        text-align: right;\n",
       "    }\n",
       "</style>\n",
       "<table border=\"1\" class=\"dataframe\">\n",
       "  <thead>\n",
       "    <tr style=\"text-align: right;\">\n",
       "      <th></th>\n",
       "      <th>T23</th>\n",
       "      <th>Production, trade and supply of energy</th>\n",
       "      <th>Unnamed: 2</th>\n",
       "      <th>Unnamed: 3</th>\n",
       "      <th>Unnamed: 4</th>\n",
       "      <th>Unnamed: 5</th>\n",
       "      <th>Unnamed: 6</th>\n",
       "    </tr>\n",
       "  </thead>\n",
       "  <tbody>\n",
       "    <tr>\n",
       "      <th>0</th>\n",
       "      <td>Region/Country/Area</td>\n",
       "      <td>NaN</td>\n",
       "      <td>Year</td>\n",
       "      <td>Series</td>\n",
       "      <td>Value</td>\n",
       "      <td>Footnotes</td>\n",
       "      <td>Source</td>\n",
       "    </tr>\n",
       "    <tr>\n",
       "      <th>1</th>\n",
       "      <td>1</td>\n",
       "      <td>Total, all countries or areas</td>\n",
       "      <td>1990</td>\n",
       "      <td>Primary energy production (petajoules)</td>\n",
       "      <td>360,903</td>\n",
       "      <td>NaN</td>\n",
       "      <td>United Nations Statistics Division, New York, ...</td>\n",
       "    </tr>\n",
       "    <tr>\n",
       "      <th>2</th>\n",
       "      <td>1</td>\n",
       "      <td>Total, all countries or areas</td>\n",
       "      <td>1995</td>\n",
       "      <td>Primary energy production (petajoules)</td>\n",
       "      <td>380,713</td>\n",
       "      <td>NaN</td>\n",
       "      <td>United Nations Statistics Division, New York, ...</td>\n",
       "    </tr>\n",
       "    <tr>\n",
       "      <th>3</th>\n",
       "      <td>1</td>\n",
       "      <td>Total, all countries or areas</td>\n",
       "      <td>2000</td>\n",
       "      <td>Primary energy production (petajoules)</td>\n",
       "      <td>412,155</td>\n",
       "      <td>NaN</td>\n",
       "      <td>United Nations Statistics Division, New York, ...</td>\n",
       "    </tr>\n",
       "    <tr>\n",
       "      <th>4</th>\n",
       "      <td>1</td>\n",
       "      <td>Total, all countries or areas</td>\n",
       "      <td>2005</td>\n",
       "      <td>Primary energy production (petajoules)</td>\n",
       "      <td>476,738</td>\n",
       "      <td>NaN</td>\n",
       "      <td>United Nations Statistics Division, New York, ...</td>\n",
       "    </tr>\n",
       "  </tbody>\n",
       "</table>\n",
       "</div>"
      ],
      "text/plain": [
       "                   T23 Production, trade and supply of energy Unnamed: 2  \\\n",
       "0  Region/Country/Area                                    NaN       Year   \n",
       "1                    1          Total, all countries or areas       1990   \n",
       "2                    1          Total, all countries or areas       1995   \n",
       "3                    1          Total, all countries or areas       2000   \n",
       "4                    1          Total, all countries or areas       2005   \n",
       "\n",
       "                               Unnamed: 3 Unnamed: 4 Unnamed: 5  \\\n",
       "0                                  Series      Value  Footnotes   \n",
       "1  Primary energy production (petajoules)    360,903        NaN   \n",
       "2  Primary energy production (petajoules)    380,713        NaN   \n",
       "3  Primary energy production (petajoules)    412,155        NaN   \n",
       "4  Primary energy production (petajoules)    476,738        NaN   \n",
       "\n",
       "                                          Unnamed: 6  \n",
       "0                                             Source  \n",
       "1  United Nations Statistics Division, New York, ...  \n",
       "2  United Nations Statistics Division, New York, ...  \n",
       "3  United Nations Statistics Division, New York, ...  \n",
       "4  United Nations Statistics Division, New York, ...  "
      ]
     },
     "execution_count": 70,
     "metadata": {},
     "output_type": "execute_result"
    }
   ],
   "source": [
    "energy_supply.head()"
   ]
  },
  {
   "cell_type": "code",
   "execution_count": 71,
   "metadata": {},
   "outputs": [],
   "source": [
    "#Seems that there was additional row above the column names. Let's fix this.\n",
    "energy_supply.columns = energy_supply.iloc[0]\n",
    "energy_supply.columns = energy_supply.columns.fillna('country_or_area')"
   ]
  },
  {
   "cell_type": "code",
   "execution_count": 72,
   "metadata": {},
   "outputs": [
    {
     "data": {
      "text/html": [
       "<div>\n",
       "<style scoped>\n",
       "    .dataframe tbody tr th:only-of-type {\n",
       "        vertical-align: middle;\n",
       "    }\n",
       "\n",
       "    .dataframe tbody tr th {\n",
       "        vertical-align: top;\n",
       "    }\n",
       "\n",
       "    .dataframe thead th {\n",
       "        text-align: right;\n",
       "    }\n",
       "</style>\n",
       "<table border=\"1\" class=\"dataframe\">\n",
       "  <thead>\n",
       "    <tr style=\"text-align: right;\">\n",
       "      <th></th>\n",
       "      <th>Region/Country/Area</th>\n",
       "      <th>country_or_area</th>\n",
       "      <th>Year</th>\n",
       "      <th>Series</th>\n",
       "      <th>Value</th>\n",
       "      <th>Footnotes</th>\n",
       "      <th>Source</th>\n",
       "    </tr>\n",
       "  </thead>\n",
       "  <tbody>\n",
       "    <tr>\n",
       "      <th>1</th>\n",
       "      <td>1</td>\n",
       "      <td>Total, all countries or areas</td>\n",
       "      <td>1990</td>\n",
       "      <td>Primary energy production (petajoules)</td>\n",
       "      <td>360,903</td>\n",
       "      <td>NaN</td>\n",
       "      <td>United Nations Statistics Division, New York, ...</td>\n",
       "    </tr>\n",
       "    <tr>\n",
       "      <th>2</th>\n",
       "      <td>1</td>\n",
       "      <td>Total, all countries or areas</td>\n",
       "      <td>1995</td>\n",
       "      <td>Primary energy production (petajoules)</td>\n",
       "      <td>380,713</td>\n",
       "      <td>NaN</td>\n",
       "      <td>United Nations Statistics Division, New York, ...</td>\n",
       "    </tr>\n",
       "    <tr>\n",
       "      <th>3</th>\n",
       "      <td>1</td>\n",
       "      <td>Total, all countries or areas</td>\n",
       "      <td>2000</td>\n",
       "      <td>Primary energy production (petajoules)</td>\n",
       "      <td>412,155</td>\n",
       "      <td>NaN</td>\n",
       "      <td>United Nations Statistics Division, New York, ...</td>\n",
       "    </tr>\n",
       "    <tr>\n",
       "      <th>4</th>\n",
       "      <td>1</td>\n",
       "      <td>Total, all countries or areas</td>\n",
       "      <td>2005</td>\n",
       "      <td>Primary energy production (petajoules)</td>\n",
       "      <td>476,738</td>\n",
       "      <td>NaN</td>\n",
       "      <td>United Nations Statistics Division, New York, ...</td>\n",
       "    </tr>\n",
       "    <tr>\n",
       "      <th>5</th>\n",
       "      <td>1</td>\n",
       "      <td>Total, all countries or areas</td>\n",
       "      <td>2010</td>\n",
       "      <td>Primary energy production (petajoules)</td>\n",
       "      <td>530,597</td>\n",
       "      <td>NaN</td>\n",
       "      <td>United Nations Statistics Division, New York, ...</td>\n",
       "    </tr>\n",
       "  </tbody>\n",
       "</table>\n",
       "</div>"
      ],
      "text/plain": [
       "0 Region/Country/Area                country_or_area  Year  \\\n",
       "1                   1  Total, all countries or areas  1990   \n",
       "2                   1  Total, all countries or areas  1995   \n",
       "3                   1  Total, all countries or areas  2000   \n",
       "4                   1  Total, all countries or areas  2005   \n",
       "5                   1  Total, all countries or areas  2010   \n",
       "\n",
       "0                                  Series    Value Footnotes  \\\n",
       "1  Primary energy production (petajoules)  360,903       NaN   \n",
       "2  Primary energy production (petajoules)  380,713       NaN   \n",
       "3  Primary energy production (petajoules)  412,155       NaN   \n",
       "4  Primary energy production (petajoules)  476,738       NaN   \n",
       "5  Primary energy production (petajoules)  530,597       NaN   \n",
       "\n",
       "0                                             Source  \n",
       "1  United Nations Statistics Division, New York, ...  \n",
       "2  United Nations Statistics Division, New York, ...  \n",
       "3  United Nations Statistics Division, New York, ...  \n",
       "4  United Nations Statistics Division, New York, ...  \n",
       "5  United Nations Statistics Division, New York, ...  "
      ]
     },
     "execution_count": 72,
     "metadata": {},
     "output_type": "execute_result"
    }
   ],
   "source": [
    "energy_supply = energy_supply.drop(energy_supply.index[0])\n",
    "energy_supply.head()"
   ]
  },
  {
   "cell_type": "code",
   "execution_count": 73,
   "metadata": {},
   "outputs": [],
   "source": [
    "#Now need to make some changes to the names of the columns.\n",
    "energy_supply.rename(columns={\"Region/Country/Area\":\"num_region\", \"Year\":\"year\", \n",
    "                              \"Series\":\"energy_type\", \"Value\":\"petajoules\", \"Footnotes\":\"footnotes\", \"Source\":\"source\"}, \n",
    "                     inplace = True)"
   ]
  },
  {
   "cell_type": "code",
   "execution_count": 74,
   "metadata": {},
   "outputs": [
    {
     "data": {
      "text/html": [
       "<div>\n",
       "<style scoped>\n",
       "    .dataframe tbody tr th:only-of-type {\n",
       "        vertical-align: middle;\n",
       "    }\n",
       "\n",
       "    .dataframe tbody tr th {\n",
       "        vertical-align: top;\n",
       "    }\n",
       "\n",
       "    .dataframe thead th {\n",
       "        text-align: right;\n",
       "    }\n",
       "</style>\n",
       "<table border=\"1\" class=\"dataframe\">\n",
       "  <thead>\n",
       "    <tr style=\"text-align: right;\">\n",
       "      <th></th>\n",
       "      <th>num_region</th>\n",
       "      <th>country_or_area</th>\n",
       "      <th>year</th>\n",
       "      <th>energy_type</th>\n",
       "      <th>petajoules</th>\n",
       "      <th>footnotes</th>\n",
       "      <th>source</th>\n",
       "    </tr>\n",
       "  </thead>\n",
       "  <tbody>\n",
       "    <tr>\n",
       "      <th>1</th>\n",
       "      <td>1</td>\n",
       "      <td>Total, all countries or areas</td>\n",
       "      <td>1990</td>\n",
       "      <td>Primary energy production (petajoules)</td>\n",
       "      <td>360,903</td>\n",
       "      <td>NaN</td>\n",
       "      <td>United Nations Statistics Division, New York, ...</td>\n",
       "    </tr>\n",
       "    <tr>\n",
       "      <th>2</th>\n",
       "      <td>1</td>\n",
       "      <td>Total, all countries or areas</td>\n",
       "      <td>1995</td>\n",
       "      <td>Primary energy production (petajoules)</td>\n",
       "      <td>380,713</td>\n",
       "      <td>NaN</td>\n",
       "      <td>United Nations Statistics Division, New York, ...</td>\n",
       "    </tr>\n",
       "    <tr>\n",
       "      <th>3</th>\n",
       "      <td>1</td>\n",
       "      <td>Total, all countries or areas</td>\n",
       "      <td>2000</td>\n",
       "      <td>Primary energy production (petajoules)</td>\n",
       "      <td>412,155</td>\n",
       "      <td>NaN</td>\n",
       "      <td>United Nations Statistics Division, New York, ...</td>\n",
       "    </tr>\n",
       "    <tr>\n",
       "      <th>4</th>\n",
       "      <td>1</td>\n",
       "      <td>Total, all countries or areas</td>\n",
       "      <td>2005</td>\n",
       "      <td>Primary energy production (petajoules)</td>\n",
       "      <td>476,738</td>\n",
       "      <td>NaN</td>\n",
       "      <td>United Nations Statistics Division, New York, ...</td>\n",
       "    </tr>\n",
       "    <tr>\n",
       "      <th>5</th>\n",
       "      <td>1</td>\n",
       "      <td>Total, all countries or areas</td>\n",
       "      <td>2010</td>\n",
       "      <td>Primary energy production (petajoules)</td>\n",
       "      <td>530,597</td>\n",
       "      <td>NaN</td>\n",
       "      <td>United Nations Statistics Division, New York, ...</td>\n",
       "    </tr>\n",
       "  </tbody>\n",
       "</table>\n",
       "</div>"
      ],
      "text/plain": [
       "0 num_region                country_or_area  year  \\\n",
       "1          1  Total, all countries or areas  1990   \n",
       "2          1  Total, all countries or areas  1995   \n",
       "3          1  Total, all countries or areas  2000   \n",
       "4          1  Total, all countries or areas  2005   \n",
       "5          1  Total, all countries or areas  2010   \n",
       "\n",
       "0                             energy_type petajoules footnotes  \\\n",
       "1  Primary energy production (petajoules)    360,903       NaN   \n",
       "2  Primary energy production (petajoules)    380,713       NaN   \n",
       "3  Primary energy production (petajoules)    412,155       NaN   \n",
       "4  Primary energy production (petajoules)    476,738       NaN   \n",
       "5  Primary energy production (petajoules)    530,597       NaN   \n",
       "\n",
       "0                                             source  \n",
       "1  United Nations Statistics Division, New York, ...  \n",
       "2  United Nations Statistics Division, New York, ...  \n",
       "3  United Nations Statistics Division, New York, ...  \n",
       "4  United Nations Statistics Division, New York, ...  \n",
       "5  United Nations Statistics Division, New York, ...  "
      ]
     },
     "execution_count": 74,
     "metadata": {},
     "output_type": "execute_result"
    }
   ],
   "source": [
    "energy_supply.head()"
   ]
  },
  {
   "cell_type": "code",
   "execution_count": 75,
   "metadata": {},
   "outputs": [
    {
     "data": {
      "text/plain": [
       "array(['1', '2', '3', '5', '142', '150', '9', '4', '8', '12', '20', '24',\n",
       "       '660', '28', '32', '51', '533', '36', '40', '31', '44', '48', '50',\n",
       "       '52', '112', '56', '84', '204', '60', '64', '68', '535', '70',\n",
       "       '72', '76', '92', '96', '100', '854', '108', '132', '116', '120',\n",
       "       '124', '136', '140', '148', '152', '156', '344', '446', '170',\n",
       "       '174', '178', '184', '188', '384', '191', '192', '531', '196',\n",
       "       '203', '408', '180', '208', '262', '212', '214', '218', '818',\n",
       "       '222', '226', '232', '233', '231', '238', '234', '242', '246',\n",
       "       '250', '254', '258', '266', '270', '268', '276', '288', '292',\n",
       "       '300', '304', '308', '312', '316', '320', '831', '324', '624',\n",
       "       '328', '332', '340', '348', '352', '356', '360', '364', '368',\n",
       "       '372', '833', '376', '380', '388', '392', '832', '400', '398',\n",
       "       '404', '296', '412', '414', '417', '418', '428', '422', '426',\n",
       "       '430', '434', '438', '440', '442', '450', '454', '458', '462',\n",
       "       '466', '470', '584', '474', '478', '480', '175', '484', '583',\n",
       "       '496', '499', '500', '504', '508', '104', '516', '520', '524',\n",
       "       '528', '530', '540', '554', '558', '562', '566', '570', '807',\n",
       "       '578', '512', '158', '586', '585', '591', '598', '600', '604',\n",
       "       '608', '616', '620', '630', '634', '410', '498', '638', '642',\n",
       "       '643', '646', '654', '659', '662', '666', '670', '882', '678',\n",
       "       '682', '686', '688', '891', '690', '694', '702', '534', '703',\n",
       "       '705', '90', '706', '710', '728', '724', '144', '275', '729',\n",
       "       '736', '740', '748', '752', '756', '760', '762', '764', '626',\n",
       "       '768', '776', '780', '788', '792', '795', '796', '798', '800',\n",
       "       '804', '784', '826', '834', '840', '850', '858', '860', '548',\n",
       "       '862', '704', '876', '887', '894', '716'], dtype=object)"
      ]
     },
     "execution_count": 75,
     "metadata": {},
     "output_type": "execute_result"
    }
   ],
   "source": [
    "# 2 columns can be removed as they don't bring any additional value but will quickly check them and if that's the case \n",
    "#- will drop them\n",
    "energy_supply.num_region.unique()"
   ]
  },
  {
   "cell_type": "code",
   "execution_count": 76,
   "metadata": {},
   "outputs": [
    {
     "data": {
      "text/plain": [
       "array(['United Nations Statistics Division, New York, Energy Statistics Yearbook 2016, last accessed January 2019.'],\n",
       "      dtype=object)"
      ]
     },
     "execution_count": 76,
     "metadata": {},
     "output_type": "execute_result"
    }
   ],
   "source": [
    "energy_supply.source.unique()"
   ]
  },
  {
   "cell_type": "code",
   "execution_count": 77,
   "metadata": {},
   "outputs": [],
   "source": [
    "energy_supply = energy_supply.drop([\"num_region\", \"source\"], axis = 1)"
   ]
  },
  {
   "cell_type": "code",
   "execution_count": 78,
   "metadata": {},
   "outputs": [
    {
     "data": {
      "text/html": [
       "<div>\n",
       "<style scoped>\n",
       "    .dataframe tbody tr th:only-of-type {\n",
       "        vertical-align: middle;\n",
       "    }\n",
       "\n",
       "    .dataframe tbody tr th {\n",
       "        vertical-align: top;\n",
       "    }\n",
       "\n",
       "    .dataframe thead th {\n",
       "        text-align: right;\n",
       "    }\n",
       "</style>\n",
       "<table border=\"1\" class=\"dataframe\">\n",
       "  <thead>\n",
       "    <tr style=\"text-align: right;\">\n",
       "      <th></th>\n",
       "      <th>country_or_area</th>\n",
       "      <th>year</th>\n",
       "      <th>energy_type</th>\n",
       "      <th>petajoules</th>\n",
       "      <th>footnotes</th>\n",
       "    </tr>\n",
       "  </thead>\n",
       "  <tbody>\n",
       "    <tr>\n",
       "      <th>1</th>\n",
       "      <td>Total, all countries or areas</td>\n",
       "      <td>1990</td>\n",
       "      <td>Primary energy production (petajoules)</td>\n",
       "      <td>360,903</td>\n",
       "      <td>NaN</td>\n",
       "    </tr>\n",
       "    <tr>\n",
       "      <th>2</th>\n",
       "      <td>Total, all countries or areas</td>\n",
       "      <td>1995</td>\n",
       "      <td>Primary energy production (petajoules)</td>\n",
       "      <td>380,713</td>\n",
       "      <td>NaN</td>\n",
       "    </tr>\n",
       "    <tr>\n",
       "      <th>3</th>\n",
       "      <td>Total, all countries or areas</td>\n",
       "      <td>2000</td>\n",
       "      <td>Primary energy production (petajoules)</td>\n",
       "      <td>412,155</td>\n",
       "      <td>NaN</td>\n",
       "    </tr>\n",
       "    <tr>\n",
       "      <th>4</th>\n",
       "      <td>Total, all countries or areas</td>\n",
       "      <td>2005</td>\n",
       "      <td>Primary energy production (petajoules)</td>\n",
       "      <td>476,738</td>\n",
       "      <td>NaN</td>\n",
       "    </tr>\n",
       "    <tr>\n",
       "      <th>5</th>\n",
       "      <td>Total, all countries or areas</td>\n",
       "      <td>2010</td>\n",
       "      <td>Primary energy production (petajoules)</td>\n",
       "      <td>530,597</td>\n",
       "      <td>NaN</td>\n",
       "    </tr>\n",
       "  </tbody>\n",
       "</table>\n",
       "</div>"
      ],
      "text/plain": [
       "0                country_or_area  year  \\\n",
       "1  Total, all countries or areas  1990   \n",
       "2  Total, all countries or areas  1995   \n",
       "3  Total, all countries or areas  2000   \n",
       "4  Total, all countries or areas  2005   \n",
       "5  Total, all countries or areas  2010   \n",
       "\n",
       "0                             energy_type petajoules footnotes  \n",
       "1  Primary energy production (petajoules)    360,903       NaN  \n",
       "2  Primary energy production (petajoules)    380,713       NaN  \n",
       "3  Primary energy production (petajoules)    412,155       NaN  \n",
       "4  Primary energy production (petajoules)    476,738       NaN  \n",
       "5  Primary energy production (petajoules)    530,597       NaN  "
      ]
     },
     "execution_count": 78,
     "metadata": {},
     "output_type": "execute_result"
    }
   ],
   "source": [
    "energy_supply.head()"
   ]
  },
  {
   "cell_type": "code",
   "execution_count": 79,
   "metadata": {},
   "outputs": [
    {
     "data": {
      "text/plain": [
       "array(['Primary energy production (petajoules)',\n",
       "       'Net imports [Imports - Exports - Bunkers] (petajoules)',\n",
       "       'Changes in stocks (petajoules)', 'Total supply (petajoules)',\n",
       "       'Supply per capita (gigajoules)'], dtype=object)"
      ]
     },
     "execution_count": 79,
     "metadata": {},
     "output_type": "execute_result"
    }
   ],
   "source": [
    "#Since I'm interested in the Total supply (petajoules) which is the energy left after accounting for net imports (exports) \n",
    "#and changes in stock, I will filter to that only.\n",
    "energy_supply.energy_type.unique()"
   ]
  },
  {
   "cell_type": "code",
   "execution_count": 80,
   "metadata": {},
   "outputs": [],
   "source": [
    "energy_supply = energy_supply[energy_supply.energy_type == \"Total supply (petajoules)\"]"
   ]
  },
  {
   "cell_type": "code",
   "execution_count": 81,
   "metadata": {},
   "outputs": [
    {
     "data": {
      "text/plain": [
       "0\n",
       "country_or_area    object\n",
       "year               object\n",
       "energy_type        object\n",
       "petajoules         object\n",
       "footnotes          object\n",
       "dtype: object"
      ]
     },
     "execution_count": 81,
     "metadata": {},
     "output_type": "execute_result"
    }
   ],
   "source": [
    "energy_supply.dtypes"
   ]
  },
  {
   "cell_type": "code",
   "execution_count": 82,
   "metadata": {},
   "outputs": [],
   "source": [
    "#Let's change the year and petajoules data types to something workable. Since there were some commas in petajoules \n",
    "#column will remove them first.\n",
    "energy_supply[\"year\"] = pd.to_numeric(energy_supply[\"year\"])\n",
    "energy_supply.petajoules = energy_supply.petajoules.apply(lambda x: x.replace(\",\",\"\"))\n",
    "energy_supply.petajoules = pd.to_numeric(energy_supply[\"petajoules\"])"
   ]
  },
  {
   "cell_type": "code",
   "execution_count": 83,
   "metadata": {},
   "outputs": [
    {
     "data": {
      "text/html": [
       "<div>\n",
       "<style scoped>\n",
       "    .dataframe tbody tr th:only-of-type {\n",
       "        vertical-align: middle;\n",
       "    }\n",
       "\n",
       "    .dataframe tbody tr th {\n",
       "        vertical-align: top;\n",
       "    }\n",
       "\n",
       "    .dataframe thead th {\n",
       "        text-align: right;\n",
       "    }\n",
       "</style>\n",
       "<table border=\"1\" class=\"dataframe\">\n",
       "  <thead>\n",
       "    <tr style=\"text-align: right;\">\n",
       "      <th></th>\n",
       "      <th>country_or_area</th>\n",
       "      <th>year</th>\n",
       "      <th>energy_type</th>\n",
       "      <th>petajoules</th>\n",
       "      <th>footnotes</th>\n",
       "    </tr>\n",
       "  </thead>\n",
       "  <tbody>\n",
       "    <tr>\n",
       "      <th>25</th>\n",
       "      <td>Total, all countries or areas</td>\n",
       "      <td>1990</td>\n",
       "      <td>Total supply (petajoules)</td>\n",
       "      <td>348256</td>\n",
       "      <td>NaN</td>\n",
       "    </tr>\n",
       "    <tr>\n",
       "      <th>26</th>\n",
       "      <td>Total, all countries or areas</td>\n",
       "      <td>1995</td>\n",
       "      <td>Total supply (petajoules)</td>\n",
       "      <td>371687</td>\n",
       "      <td>NaN</td>\n",
       "    </tr>\n",
       "    <tr>\n",
       "      <th>27</th>\n",
       "      <td>Total, all countries or areas</td>\n",
       "      <td>2000</td>\n",
       "      <td>Total supply (petajoules)</td>\n",
       "      <td>404363</td>\n",
       "      <td>NaN</td>\n",
       "    </tr>\n",
       "    <tr>\n",
       "      <th>28</th>\n",
       "      <td>Total, all countries or areas</td>\n",
       "      <td>2005</td>\n",
       "      <td>Total supply (petajoules)</td>\n",
       "      <td>463300</td>\n",
       "      <td>NaN</td>\n",
       "    </tr>\n",
       "    <tr>\n",
       "      <th>29</th>\n",
       "      <td>Total, all countries or areas</td>\n",
       "      <td>2010</td>\n",
       "      <td>Total supply (petajoules)</td>\n",
       "      <td>517492</td>\n",
       "      <td>NaN</td>\n",
       "    </tr>\n",
       "  </tbody>\n",
       "</table>\n",
       "</div>"
      ],
      "text/plain": [
       "0                 country_or_area  year                energy_type  \\\n",
       "25  Total, all countries or areas  1990  Total supply (petajoules)   \n",
       "26  Total, all countries or areas  1995  Total supply (petajoules)   \n",
       "27  Total, all countries or areas  2000  Total supply (petajoules)   \n",
       "28  Total, all countries or areas  2005  Total supply (petajoules)   \n",
       "29  Total, all countries or areas  2010  Total supply (petajoules)   \n",
       "\n",
       "0   petajoules footnotes  \n",
       "25      348256       NaN  \n",
       "26      371687       NaN  \n",
       "27      404363       NaN  \n",
       "28      463300       NaN  \n",
       "29      517492       NaN  "
      ]
     },
     "execution_count": 83,
     "metadata": {},
     "output_type": "execute_result"
    }
   ],
   "source": [
    "energy_supply.head()"
   ]
  },
  {
   "cell_type": "code",
   "execution_count": 84,
   "metadata": {},
   "outputs": [
    {
     "data": {
      "text/plain": [
       "0\n",
       "country_or_area    object\n",
       "year                int64\n",
       "energy_type        object\n",
       "petajoules          int64\n",
       "footnotes          object\n",
       "dtype: object"
      ]
     },
     "execution_count": 84,
     "metadata": {},
     "output_type": "execute_result"
    }
   ],
   "source": [
    "energy_supply.dtypes"
   ]
  },
  {
   "cell_type": "code",
   "execution_count": 85,
   "metadata": {},
   "outputs": [
    {
     "data": {
      "text/plain": [
       "array([1990, 1995, 2000, 2005, 2010, 2014, 2015, 2016], dtype=int64)"
      ]
     },
     "execution_count": 85,
     "metadata": {},
     "output_type": "execute_result"
    }
   ],
   "source": [
    "#I want to check the years.\n",
    "energy_supply.year.unique()"
   ]
  },
  {
   "cell_type": "markdown",
   "metadata": {},
   "source": [
    "There are missing years, but seems enough to observe a trend. For later calculations which include energy I might need to pick only those specific years."
   ]
  },
  {
   "cell_type": "code",
   "execution_count": 86,
   "metadata": {},
   "outputs": [
    {
     "data": {
      "text/plain": [
       "array(['Total, all countries or areas', 'Africa', 'North America',\n",
       "       'South America', 'Asia', 'Europe', 'Oceania', 'Afghanistan',\n",
       "       'Albania', 'Algeria', 'Andorra', 'Angola', 'Anguilla',\n",
       "       'Antigua and Barbuda', 'Argentina', 'Armenia', 'Aruba',\n",
       "       'Australia', 'Austria', 'Azerbaijan', 'Bahamas', 'Bahrain',\n",
       "       'Bangladesh', 'Barbados', 'Belarus', 'Belgium', 'Belize', 'Benin',\n",
       "       'Bermuda', 'Bhutan', 'Bolivia (Plurin. State of)',\n",
       "       'Bonaire, St. Eustatius & Saba', 'Bosnia and Herzegovina',\n",
       "       'Botswana', 'Brazil', 'British Virgin Islands',\n",
       "       'Brunei Darussalam', 'Bulgaria', 'Burkina Faso', 'Burundi',\n",
       "       'Cabo Verde', 'Cambodia', 'Cameroon', 'Canada', 'Cayman Islands',\n",
       "       'Central African Republic', 'Chad', 'Chile', 'China',\n",
       "       'China, Hong Kong SAR', 'China, Macao SAR', 'Colombia', 'Comoros',\n",
       "       'Congo', 'Cook Islands', 'Costa Rica', 'Côte d\\x92Ivoire',\n",
       "       'Croatia', 'Cuba', 'Curaçao', 'Cyprus', 'Czechia',\n",
       "       \"Dem. People's Rep. Korea\", 'Dem. Rep. of the Congo', 'Denmark',\n",
       "       'Djibouti', 'Dominica', 'Dominican Republic', 'Ecuador', 'Egypt',\n",
       "       'El Salvador', 'Equatorial Guinea', 'Eritrea', 'Estonia',\n",
       "       'Ethiopia', 'Falkland Islands (Malvinas)', 'Faroe Islands', 'Fiji',\n",
       "       'Finland', 'France', 'French Guiana', 'French Polynesia', 'Gabon',\n",
       "       'Gambia', 'Georgia', 'Germany', 'Ghana', 'Gibraltar', 'Greece',\n",
       "       'Greenland', 'Grenada', 'Guadeloupe', 'Guam', 'Guatemala',\n",
       "       'Guernsey', 'Guinea', 'Guinea-Bissau', 'Guyana', 'Haiti',\n",
       "       'Honduras', 'Hungary', 'Iceland', 'India', 'Indonesia',\n",
       "       'Iran (Islamic Republic of)', 'Iraq', 'Ireland', 'Isle of Man',\n",
       "       'Israel', 'Italy', 'Jamaica', 'Japan', 'Jersey', 'Jordan',\n",
       "       'Kazakhstan', 'Kenya', 'Kiribati', 'Kosovo', 'Kuwait',\n",
       "       'Kyrgyzstan', \"Lao People's Dem. Rep.\", 'Latvia', 'Lebanon',\n",
       "       'Lesotho', 'Liberia', 'Libya', 'Liechtenstein', 'Lithuania',\n",
       "       'Luxembourg', 'Madagascar', 'Malawi', 'Malaysia', 'Maldives',\n",
       "       'Mali', 'Malta', 'Marshall Islands', 'Martinique', 'Mauritania',\n",
       "       'Mauritius', 'Mayotte', 'Mexico', 'Micronesia (Fed. States of)',\n",
       "       'Mongolia', 'Montenegro', 'Montserrat', 'Morocco', 'Mozambique',\n",
       "       'Myanmar', 'Namibia', 'Nauru', 'Nepal', 'Netherlands',\n",
       "       'Netherlands Antilles [former]', 'New Caledonia', 'New Zealand',\n",
       "       'Nicaragua', 'Niger', 'Nigeria', 'Niue', 'North Macedonia',\n",
       "       'Norway', 'Oman', 'Other non-specified areas', 'Pakistan', 'Palau',\n",
       "       'Panama', 'Papua New Guinea', 'Paraguay', 'Peru', 'Philippines',\n",
       "       'Poland', 'Portugal', 'Puerto Rico', 'Qatar', 'Republic of Korea',\n",
       "       'Republic of Moldova', 'Réunion', 'Romania', 'Russian Federation',\n",
       "       'Rwanda', 'Saint Helena', 'Saint Kitts and Nevis', 'Saint Lucia',\n",
       "       'Saint Pierre and Miquelon', 'Saint Vincent & Grenadines', 'Samoa',\n",
       "       'Sao Tome and Principe', 'Saudi Arabia', 'Senegal', 'Serbia',\n",
       "       'Serbia and Monten. [former]', 'Seychelles', 'Sierra Leone',\n",
       "       'Singapore', 'Sint Maarten (Dutch part)', 'Slovakia', 'Slovenia',\n",
       "       'Solomon Islands', 'Somalia', 'South Africa', 'South Sudan',\n",
       "       'Spain', 'Sri Lanka', 'State of Palestine', 'Sudan',\n",
       "       'Sudan [former]', 'Suriname', 'Eswatini', 'Sweden', 'Switzerland',\n",
       "       'Syrian Arab Republic', 'Tajikistan', 'Thailand', 'Timor-Leste',\n",
       "       'Togo', 'Tonga', 'Trinidad and Tobago', 'Tunisia', 'Turkey',\n",
       "       'Turkmenistan', 'Turks and Caicos Islands', 'Tuvalu', 'Uganda',\n",
       "       'Ukraine', 'United Arab Emirates', 'United Kingdom',\n",
       "       'United Rep. of Tanzania', 'United States of America',\n",
       "       'United States Virgin Islands', 'Uruguay', 'Uzbekistan', 'Vanuatu',\n",
       "       'Venezuela (Boliv. Rep. of)', 'Viet Nam',\n",
       "       'Wallis and Futuna Islands', 'Yemen', 'Zambia', 'Zimbabwe'],\n",
       "      dtype=object)"
      ]
     },
     "execution_count": 86,
     "metadata": {},
     "output_type": "execute_result"
    }
   ],
   "source": [
    "#Let's check the country_or_area column.\n",
    "energy_supply.country_or_area.unique()"
   ]
  },
  {
   "cell_type": "code",
   "execution_count": 87,
   "metadata": {},
   "outputs": [],
   "source": [
    "# I'm going to replace \"Total, all countries or areas\" with \"World\" in this column.\n",
    "energy_supply.country_or_area = energy_supply.country_or_area.apply(lambda x: x.replace(\"Total, all countries or areas\",\"World\"))\n",
    "energy_supply.country_or_area = energy_supply.country_or_area.apply(lambda x: x.replace(\"Russian Federation\",\"Russia\"))\n",
    "energy_supply.country_or_area = energy_supply.country_or_area.apply(lambda x: x.replace(\"Republic of Korea\",\"South Korea\"))\n",
    "energy_supply.country_or_area = energy_supply.country_or_area.apply(lambda x: x.replace(\"China\",\"China, People's Republic of\"))"
   ]
  },
  {
   "cell_type": "code",
   "execution_count": 88,
   "metadata": {
    "scrolled": true
   },
   "outputs": [
    {
     "data": {
      "text/plain": [
       "array(['World', 'Africa', 'North America', 'South America', 'Asia',\n",
       "       'Europe', 'Oceania', 'Afghanistan', 'Albania', 'Algeria',\n",
       "       'Andorra', 'Angola', 'Anguilla', 'Antigua and Barbuda',\n",
       "       'Argentina', 'Armenia', 'Aruba', 'Australia', 'Austria',\n",
       "       'Azerbaijan', 'Bahamas', 'Bahrain', 'Bangladesh', 'Barbados',\n",
       "       'Belarus', 'Belgium', 'Belize', 'Benin', 'Bermuda', 'Bhutan',\n",
       "       'Bolivia (Plurin. State of)', 'Bonaire, St. Eustatius & Saba',\n",
       "       'Bosnia and Herzegovina', 'Botswana', 'Brazil',\n",
       "       'British Virgin Islands', 'Brunei Darussalam', 'Bulgaria',\n",
       "       'Burkina Faso', 'Burundi', 'Cabo Verde', 'Cambodia', 'Cameroon',\n",
       "       'Canada', 'Cayman Islands', 'Central African Republic', 'Chad',\n",
       "       'Chile', \"China, People's Republic of\",\n",
       "       \"China, People's Republic of, Hong Kong SAR\",\n",
       "       \"China, People's Republic of, Macao SAR\", 'Colombia', 'Comoros',\n",
       "       'Congo', 'Cook Islands', 'Costa Rica', 'Côte d\\x92Ivoire',\n",
       "       'Croatia', 'Cuba', 'Curaçao', 'Cyprus', 'Czechia',\n",
       "       \"Dem. People's Rep. Korea\", 'Dem. Rep. of the Congo', 'Denmark',\n",
       "       'Djibouti', 'Dominica', 'Dominican Republic', 'Ecuador', 'Egypt',\n",
       "       'El Salvador', 'Equatorial Guinea', 'Eritrea', 'Estonia',\n",
       "       'Ethiopia', 'Falkland Islands (Malvinas)', 'Faroe Islands', 'Fiji',\n",
       "       'Finland', 'France', 'French Guiana', 'French Polynesia', 'Gabon',\n",
       "       'Gambia', 'Georgia', 'Germany', 'Ghana', 'Gibraltar', 'Greece',\n",
       "       'Greenland', 'Grenada', 'Guadeloupe', 'Guam', 'Guatemala',\n",
       "       'Guernsey', 'Guinea', 'Guinea-Bissau', 'Guyana', 'Haiti',\n",
       "       'Honduras', 'Hungary', 'Iceland', 'India', 'Indonesia',\n",
       "       'Iran (Islamic Republic of)', 'Iraq', 'Ireland', 'Isle of Man',\n",
       "       'Israel', 'Italy', 'Jamaica', 'Japan', 'Jersey', 'Jordan',\n",
       "       'Kazakhstan', 'Kenya', 'Kiribati', 'Kosovo', 'Kuwait',\n",
       "       'Kyrgyzstan', \"Lao People's Dem. Rep.\", 'Latvia', 'Lebanon',\n",
       "       'Lesotho', 'Liberia', 'Libya', 'Liechtenstein', 'Lithuania',\n",
       "       'Luxembourg', 'Madagascar', 'Malawi', 'Malaysia', 'Maldives',\n",
       "       'Mali', 'Malta', 'Marshall Islands', 'Martinique', 'Mauritania',\n",
       "       'Mauritius', 'Mayotte', 'Mexico', 'Micronesia (Fed. States of)',\n",
       "       'Mongolia', 'Montenegro', 'Montserrat', 'Morocco', 'Mozambique',\n",
       "       'Myanmar', 'Namibia', 'Nauru', 'Nepal', 'Netherlands',\n",
       "       'Netherlands Antilles [former]', 'New Caledonia', 'New Zealand',\n",
       "       'Nicaragua', 'Niger', 'Nigeria', 'Niue', 'North Macedonia',\n",
       "       'Norway', 'Oman', 'Other non-specified areas', 'Pakistan', 'Palau',\n",
       "       'Panama', 'Papua New Guinea', 'Paraguay', 'Peru', 'Philippines',\n",
       "       'Poland', 'Portugal', 'Puerto Rico', 'Qatar', 'South Korea',\n",
       "       'Republic of Moldova', 'Réunion', 'Romania', 'Russia', 'Rwanda',\n",
       "       'Saint Helena', 'Saint Kitts and Nevis', 'Saint Lucia',\n",
       "       'Saint Pierre and Miquelon', 'Saint Vincent & Grenadines', 'Samoa',\n",
       "       'Sao Tome and Principe', 'Saudi Arabia', 'Senegal', 'Serbia',\n",
       "       'Serbia and Monten. [former]', 'Seychelles', 'Sierra Leone',\n",
       "       'Singapore', 'Sint Maarten (Dutch part)', 'Slovakia', 'Slovenia',\n",
       "       'Solomon Islands', 'Somalia', 'South Africa', 'South Sudan',\n",
       "       'Spain', 'Sri Lanka', 'State of Palestine', 'Sudan',\n",
       "       'Sudan [former]', 'Suriname', 'Eswatini', 'Sweden', 'Switzerland',\n",
       "       'Syrian Arab Republic', 'Tajikistan', 'Thailand', 'Timor-Leste',\n",
       "       'Togo', 'Tonga', 'Trinidad and Tobago', 'Tunisia', 'Turkey',\n",
       "       'Turkmenistan', 'Turks and Caicos Islands', 'Tuvalu', 'Uganda',\n",
       "       'Ukraine', 'United Arab Emirates', 'United Kingdom',\n",
       "       'United Rep. of Tanzania', 'United States of America',\n",
       "       'United States Virgin Islands', 'Uruguay', 'Uzbekistan', 'Vanuatu',\n",
       "       'Venezuela (Boliv. Rep. of)', 'Viet Nam',\n",
       "       'Wallis and Futuna Islands', 'Yemen', 'Zambia', 'Zimbabwe'],\n",
       "      dtype=object)"
      ]
     },
     "execution_count": 88,
     "metadata": {},
     "output_type": "execute_result"
    }
   ],
   "source": [
    "energy_supply.country_or_area.unique()"
   ]
  },
  {
   "cell_type": "markdown",
   "metadata": {},
   "source": [
    "## 3.2 Feature engineering"
   ]
  },
  {
   "cell_type": "code",
   "execution_count": 89,
   "metadata": {},
   "outputs": [
    {
     "data": {
      "text/plain": [
       "(6031, 9)"
      ]
     },
     "execution_count": 89,
     "metadata": {},
     "output_type": "execute_result"
    }
   ],
   "source": [
    "#Let's merge the first 3 datasets and then create a new column.\n",
    "merged_data = pd.merge(gdp_data, population_data, how = \"left\", on = [\"country_or_area\", \"year\"])\n",
    "merged_data = pd.merge(merged_data, emissions, how = \"left\", on = [\"country_or_area\", \"year\"])\n",
    "\n",
    "merged_data[\"gdp_pp_pco2\"] = merged_data[\"gdp_usd\"].divide(merged_data[\"population\"].divide(merged_data[\"mtco2e\"]))\n",
    "\n",
    "#And I will drop the N/A values.\n",
    "#merged_data.dropna(axis= 0, inplace= True)\n",
    "\n",
    "#Going to merge the total energy to a second df and again drop the N/A values.\n",
    "energy_merged_data = pd.merge(merged_data,energy_supply, how = \"left\", on = [\"country_or_area\", \"year\"])\n",
    "\n",
    "energy_merged_data[\"gdp_pp_pjoul_mtco2e\"] = energy_merged_data[\"gdp_usd\"].divide(energy_merged_data[\"population\"]\n",
    "                                                                          .divide(energy_merged_data[\"petajoules\"]\n",
    "                                                                                 .divide(energy_merged_data[\"mtco2e\"])))\n",
    "\n",
    "#energy_merged_data.dropna(axis= 0, inplace= True)- Here I will not drop NA as the missing values appear to be for the GHG gases\n",
    "#and naturaly for the gpd per person per millions of tons of CO2 equivalent which I already have in the merged_data. \n",
    "\n",
    "#And will drop some columns which do not bring any additional value\n",
    "energy_merged_data = energy_merged_data.drop([\"unit_x\", \"unit_y\", \"energy_type\"], axis = 1)\n",
    "energy_merged_data.shape"
   ]
  },
  {
   "cell_type": "code",
   "execution_count": 90,
   "metadata": {},
   "outputs": [
    {
     "data": {
      "text/plain": [
       "(6031, 8)"
      ]
     },
     "execution_count": 90,
     "metadata": {},
     "output_type": "execute_result"
    }
   ],
   "source": [
    "merged_data.shape"
   ]
  },
  {
   "cell_type": "code",
   "execution_count": 91,
   "metadata": {},
   "outputs": [
    {
     "data": {
      "text/plain": [
       "(6031, 9)"
      ]
     },
     "execution_count": 91,
     "metadata": {},
     "output_type": "execute_result"
    }
   ],
   "source": [
    "energy_merged_data.shape"
   ]
  },
  {
   "cell_type": "markdown",
   "metadata": {},
   "source": [
    "# 4. Exploratory Data Analysis (EDA)"
   ]
  },
  {
   "cell_type": "markdown",
   "metadata": {},
   "source": [
    "### 4.1 Correlation"
   ]
  },
  {
   "cell_type": "code",
   "execution_count": 92,
   "metadata": {},
   "outputs": [
    {
     "data": {
      "text/html": [
       "<div>\n",
       "<style scoped>\n",
       "    .dataframe tbody tr th:only-of-type {\n",
       "        vertical-align: middle;\n",
       "    }\n",
       "\n",
       "    .dataframe tbody tr th {\n",
       "        vertical-align: top;\n",
       "    }\n",
       "\n",
       "    .dataframe thead th {\n",
       "        text-align: right;\n",
       "    }\n",
       "</style>\n",
       "<table border=\"1\" class=\"dataframe\">\n",
       "  <thead>\n",
       "    <tr style=\"text-align: right;\">\n",
       "      <th></th>\n",
       "      <th>year</th>\n",
       "      <th>gdp_usd</th>\n",
       "      <th>population</th>\n",
       "      <th>mtco2e</th>\n",
       "      <th>gdp_pp_pco2</th>\n",
       "    </tr>\n",
       "  </thead>\n",
       "  <tbody>\n",
       "    <tr>\n",
       "      <th>year</th>\n",
       "      <td>1.000000</td>\n",
       "      <td>0.077761</td>\n",
       "      <td>0.021604</td>\n",
       "      <td>0.013027</td>\n",
       "      <td>0.045556</td>\n",
       "    </tr>\n",
       "    <tr>\n",
       "      <th>gdp_usd</th>\n",
       "      <td>0.077761</td>\n",
       "      <td>1.000000</td>\n",
       "      <td>0.365608</td>\n",
       "      <td>0.955484</td>\n",
       "      <td>0.959259</td>\n",
       "    </tr>\n",
       "    <tr>\n",
       "      <th>population</th>\n",
       "      <td>0.021604</td>\n",
       "      <td>0.365608</td>\n",
       "      <td>1.000000</td>\n",
       "      <td>0.550732</td>\n",
       "      <td>0.244955</td>\n",
       "    </tr>\n",
       "    <tr>\n",
       "      <th>mtco2e</th>\n",
       "      <td>0.013027</td>\n",
       "      <td>0.955484</td>\n",
       "      <td>0.550732</td>\n",
       "      <td>1.000000</td>\n",
       "      <td>0.874768</td>\n",
       "    </tr>\n",
       "    <tr>\n",
       "      <th>gdp_pp_pco2</th>\n",
       "      <td>0.045556</td>\n",
       "      <td>0.959259</td>\n",
       "      <td>0.244955</td>\n",
       "      <td>0.874768</td>\n",
       "      <td>1.000000</td>\n",
       "    </tr>\n",
       "  </tbody>\n",
       "</table>\n",
       "</div>"
      ],
      "text/plain": [
       "                 year   gdp_usd  population    mtco2e  gdp_pp_pco2\n",
       "year         1.000000  0.077761    0.021604  0.013027     0.045556\n",
       "gdp_usd      0.077761  1.000000    0.365608  0.955484     0.959259\n",
       "population   0.021604  0.365608    1.000000  0.550732     0.244955\n",
       "mtco2e       0.013027  0.955484    0.550732  1.000000     0.874768\n",
       "gdp_pp_pco2  0.045556  0.959259    0.244955  0.874768     1.000000"
      ]
     },
     "execution_count": 92,
     "metadata": {},
     "output_type": "execute_result"
    }
   ],
   "source": [
    "merged_data.corr()"
   ]
  },
  {
   "cell_type": "code",
   "execution_count": 93,
   "metadata": {},
   "outputs": [
    {
     "data": {
      "text/html": [
       "<div>\n",
       "<style scoped>\n",
       "    .dataframe tbody tr th:only-of-type {\n",
       "        vertical-align: middle;\n",
       "    }\n",
       "\n",
       "    .dataframe tbody tr th {\n",
       "        vertical-align: top;\n",
       "    }\n",
       "\n",
       "    .dataframe thead th {\n",
       "        text-align: right;\n",
       "    }\n",
       "</style>\n",
       "<table border=\"1\" class=\"dataframe\">\n",
       "  <thead>\n",
       "    <tr style=\"text-align: right;\">\n",
       "      <th></th>\n",
       "      <th>year</th>\n",
       "      <th>gdp_usd</th>\n",
       "      <th>population</th>\n",
       "      <th>mtco2e</th>\n",
       "      <th>gdp_pp_pco2</th>\n",
       "      <th>petajoules</th>\n",
       "      <th>gdp_pp_pjoul_mtco2e</th>\n",
       "    </tr>\n",
       "  </thead>\n",
       "  <tbody>\n",
       "    <tr>\n",
       "      <th>year</th>\n",
       "      <td>1.000000</td>\n",
       "      <td>0.077761</td>\n",
       "      <td>0.021604</td>\n",
       "      <td>0.013027</td>\n",
       "      <td>0.045556</td>\n",
       "      <td>0.023581</td>\n",
       "      <td>0.012489</td>\n",
       "    </tr>\n",
       "    <tr>\n",
       "      <th>gdp_usd</th>\n",
       "      <td>0.077761</td>\n",
       "      <td>1.000000</td>\n",
       "      <td>0.365608</td>\n",
       "      <td>0.955484</td>\n",
       "      <td>0.959259</td>\n",
       "      <td>0.959283</td>\n",
       "      <td>0.058683</td>\n",
       "    </tr>\n",
       "    <tr>\n",
       "      <th>population</th>\n",
       "      <td>0.021604</td>\n",
       "      <td>0.365608</td>\n",
       "      <td>1.000000</td>\n",
       "      <td>0.550732</td>\n",
       "      <td>0.244955</td>\n",
       "      <td>0.822359</td>\n",
       "      <td>-0.012518</td>\n",
       "    </tr>\n",
       "    <tr>\n",
       "      <th>mtco2e</th>\n",
       "      <td>0.013027</td>\n",
       "      <td>0.955484</td>\n",
       "      <td>0.550732</td>\n",
       "      <td>1.000000</td>\n",
       "      <td>0.874768</td>\n",
       "      <td>0.998513</td>\n",
       "      <td>-0.012586</td>\n",
       "    </tr>\n",
       "    <tr>\n",
       "      <th>gdp_pp_pco2</th>\n",
       "      <td>0.045556</td>\n",
       "      <td>0.959259</td>\n",
       "      <td>0.244955</td>\n",
       "      <td>0.874768</td>\n",
       "      <td>1.000000</td>\n",
       "      <td>0.717507</td>\n",
       "      <td>0.052279</td>\n",
       "    </tr>\n",
       "    <tr>\n",
       "      <th>petajoules</th>\n",
       "      <td>0.023581</td>\n",
       "      <td>0.959283</td>\n",
       "      <td>0.822359</td>\n",
       "      <td>0.998513</td>\n",
       "      <td>0.717507</td>\n",
       "      <td>1.000000</td>\n",
       "      <td>0.033818</td>\n",
       "    </tr>\n",
       "    <tr>\n",
       "      <th>gdp_pp_pjoul_mtco2e</th>\n",
       "      <td>0.012489</td>\n",
       "      <td>0.058683</td>\n",
       "      <td>-0.012518</td>\n",
       "      <td>-0.012586</td>\n",
       "      <td>0.052279</td>\n",
       "      <td>0.033818</td>\n",
       "      <td>1.000000</td>\n",
       "    </tr>\n",
       "  </tbody>\n",
       "</table>\n",
       "</div>"
      ],
      "text/plain": [
       "                         year   gdp_usd  population    mtco2e  gdp_pp_pco2  \\\n",
       "year                 1.000000  0.077761    0.021604  0.013027     0.045556   \n",
       "gdp_usd              0.077761  1.000000    0.365608  0.955484     0.959259   \n",
       "population           0.021604  0.365608    1.000000  0.550732     0.244955   \n",
       "mtco2e               0.013027  0.955484    0.550732  1.000000     0.874768   \n",
       "gdp_pp_pco2          0.045556  0.959259    0.244955  0.874768     1.000000   \n",
       "petajoules           0.023581  0.959283    0.822359  0.998513     0.717507   \n",
       "gdp_pp_pjoul_mtco2e  0.012489  0.058683   -0.012518 -0.012586     0.052279   \n",
       "\n",
       "                     petajoules  gdp_pp_pjoul_mtco2e  \n",
       "year                   0.023581             0.012489  \n",
       "gdp_usd                0.959283             0.058683  \n",
       "population             0.822359            -0.012518  \n",
       "mtco2e                 0.998513            -0.012586  \n",
       "gdp_pp_pco2            0.717507             0.052279  \n",
       "petajoules             1.000000             0.033818  \n",
       "gdp_pp_pjoul_mtco2e    0.033818             1.000000  "
      ]
     },
     "execution_count": 93,
     "metadata": {},
     "output_type": "execute_result"
    }
   ],
   "source": [
    "energy_merged_data.corr()"
   ]
  },
  {
   "cell_type": "markdown",
   "metadata": {},
   "source": [
    "Interestingly enough the population doesn't have strong correlation to the GDP. As expected however higher GDP means more greenhouse gases emitted as we can see the high correcation there and high energy consumptions."
   ]
  },
  {
   "cell_type": "markdown",
   "metadata": {},
   "source": [
    "### 4.2 Data without energy consumption accounted"
   ]
  },
  {
   "cell_type": "code",
   "execution_count": 94,
   "metadata": {},
   "outputs": [],
   "source": [
    "merged_data_2014 = merged_data[merged_data.year == 2014]"
   ]
  },
  {
   "cell_type": "code",
   "execution_count": 95,
   "metadata": {},
   "outputs": [
    {
     "data": {
      "text/html": [
       "<div>\n",
       "<style scoped>\n",
       "    .dataframe tbody tr th:only-of-type {\n",
       "        vertical-align: middle;\n",
       "    }\n",
       "\n",
       "    .dataframe tbody tr th {\n",
       "        vertical-align: top;\n",
       "    }\n",
       "\n",
       "    .dataframe thead th {\n",
       "        text-align: right;\n",
       "    }\n",
       "</style>\n",
       "<table border=\"1\" class=\"dataframe\">\n",
       "  <thead>\n",
       "    <tr style=\"text-align: right;\">\n",
       "      <th></th>\n",
       "      <th>country_or_area</th>\n",
       "      <th>year</th>\n",
       "      <th>unit_x</th>\n",
       "      <th>gdp_usd</th>\n",
       "      <th>unit_y</th>\n",
       "      <th>population</th>\n",
       "      <th>mtco2e</th>\n",
       "      <th>gdp_pp_pco2</th>\n",
       "    </tr>\n",
       "  </thead>\n",
       "  <tbody>\n",
       "    <tr>\n",
       "      <th>5728</th>\n",
       "      <td>United States</td>\n",
       "      <td>2014</td>\n",
       "      <td>US$</td>\n",
       "      <td>1.752175e+13</td>\n",
       "      <td>Persons</td>\n",
       "      <td>317718779.0</td>\n",
       "      <td>6319.02</td>\n",
       "      <td>3.484851e+08</td>\n",
       "    </tr>\n",
       "    <tr>\n",
       "      <th>2704</th>\n",
       "      <td>Japan</td>\n",
       "      <td>2014</td>\n",
       "      <td>US$</td>\n",
       "      <td>4.850414e+12</td>\n",
       "      <td>Persons</td>\n",
       "      <td>128162873.0</td>\n",
       "      <td>1322.05</td>\n",
       "      <td>5.003391e+07</td>\n",
       "    </tr>\n",
       "    <tr>\n",
       "      <th>999</th>\n",
       "      <td>Canada</td>\n",
       "      <td>2014</td>\n",
       "      <td>US$</td>\n",
       "      <td>1.799271e+12</td>\n",
       "      <td>Persons</td>\n",
       "      <td>35604728.0</td>\n",
       "      <td>867.00</td>\n",
       "      <td>4.381352e+07</td>\n",
       "    </tr>\n",
       "    <tr>\n",
       "      <th>2179</th>\n",
       "      <td>Germany</td>\n",
       "      <td>2014</td>\n",
       "      <td>US$</td>\n",
       "      <td>3.898727e+12</td>\n",
       "      <td>Persons</td>\n",
       "      <td>81489660.0</td>\n",
       "      <td>816.64</td>\n",
       "      <td>3.907067e+07</td>\n",
       "    </tr>\n",
       "    <tr>\n",
       "      <th>349</th>\n",
       "      <td>Australia</td>\n",
       "      <td>2014</td>\n",
       "      <td>US$</td>\n",
       "      <td>1.461563e+12</td>\n",
       "      <td>Persons</td>\n",
       "      <td>23474668.0</td>\n",
       "      <td>523.21</td>\n",
       "      <td>3.257572e+07</td>\n",
       "    </tr>\n",
       "    <tr>\n",
       "      <th>774</th>\n",
       "      <td>Brazil</td>\n",
       "      <td>2014</td>\n",
       "      <td>US$</td>\n",
       "      <td>2.456044e+12</td>\n",
       "      <td>Persons</td>\n",
       "      <td>204213133.0</td>\n",
       "      <td>1357.18</td>\n",
       "      <td>1.632262e+07</td>\n",
       "    </tr>\n",
       "    <tr>\n",
       "      <th>2054</th>\n",
       "      <td>France</td>\n",
       "      <td>2014</td>\n",
       "      <td>US$</td>\n",
       "      <td>2.852166e+12</td>\n",
       "      <td>Persons</td>\n",
       "      <td>66380854.0</td>\n",
       "      <td>334.28</td>\n",
       "      <td>1.436291e+07</td>\n",
       "    </tr>\n",
       "    <tr>\n",
       "      <th>4654</th>\n",
       "      <td>Saudi Arabia</td>\n",
       "      <td>2014</td>\n",
       "      <td>US$</td>\n",
       "      <td>7.563503e+11</td>\n",
       "      <td>Persons</td>\n",
       "      <td>30776722.0</td>\n",
       "      <td>583.37</td>\n",
       "      <td>1.433655e+07</td>\n",
       "    </tr>\n",
       "    <tr>\n",
       "      <th>2654</th>\n",
       "      <td>Italy</td>\n",
       "      <td>2014</td>\n",
       "      <td>US$</td>\n",
       "      <td>2.151733e+12</td>\n",
       "      <td>Persons</td>\n",
       "      <td>59585668.0</td>\n",
       "      <td>368.82</td>\n",
       "      <td>1.331867e+07</td>\n",
       "    </tr>\n",
       "    <tr>\n",
       "      <th>5628</th>\n",
       "      <td>United Arab Emirates</td>\n",
       "      <td>2014</td>\n",
       "      <td>US$</td>\n",
       "      <td>4.031372e+11</td>\n",
       "      <td>Persons</td>\n",
       "      <td>9070867.0</td>\n",
       "      <td>221.29</td>\n",
       "      <td>9.834808e+06</td>\n",
       "    </tr>\n",
       "  </tbody>\n",
       "</table>\n",
       "</div>"
      ],
      "text/plain": [
       "           country_or_area  year unit_x       gdp_usd   unit_y   population  \\\n",
       "5728         United States  2014    US$  1.752175e+13  Persons  317718779.0   \n",
       "2704                 Japan  2014    US$  4.850414e+12  Persons  128162873.0   \n",
       "999                 Canada  2014    US$  1.799271e+12  Persons   35604728.0   \n",
       "2179               Germany  2014    US$  3.898727e+12  Persons   81489660.0   \n",
       "349              Australia  2014    US$  1.461563e+12  Persons   23474668.0   \n",
       "774                 Brazil  2014    US$  2.456044e+12  Persons  204213133.0   \n",
       "2054                France  2014    US$  2.852166e+12  Persons   66380854.0   \n",
       "4654          Saudi Arabia  2014    US$  7.563503e+11  Persons   30776722.0   \n",
       "2654                 Italy  2014    US$  2.151733e+12  Persons   59585668.0   \n",
       "5628  United Arab Emirates  2014    US$  4.031372e+11  Persons    9070867.0   \n",
       "\n",
       "       mtco2e   gdp_pp_pco2  \n",
       "5728  6319.02  3.484851e+08  \n",
       "2704  1322.05  5.003391e+07  \n",
       "999    867.00  4.381352e+07  \n",
       "2179   816.64  3.907067e+07  \n",
       "349    523.21  3.257572e+07  \n",
       "774   1357.18  1.632262e+07  \n",
       "2054   334.28  1.436291e+07  \n",
       "4654   583.37  1.433655e+07  \n",
       "2654   368.82  1.331867e+07  \n",
       "5628   221.29  9.834808e+06  "
      ]
     },
     "execution_count": 95,
     "metadata": {},
     "output_type": "execute_result"
    }
   ],
   "source": [
    "merged_data_2014.nlargest(10, \"gdp_pp_pco2\")"
   ]
  },
  {
   "cell_type": "code",
   "execution_count": 96,
   "metadata": {},
   "outputs": [],
   "source": [
    "top_10_list = list(merged_data_2014.nlargest(10, \"gdp_pp_pco2\").country_or_area.unique())\n",
    "merged_data_top_10 = merged_data[merged_data.country_or_area.isin(top_10_list)]\n",
    "top_10_df = merged_data_top_10.groupby([\"year\",\"country_or_area\"]).sum()"
   ]
  },
  {
   "cell_type": "code",
   "execution_count": 106,
   "metadata": {},
   "outputs": [
    {
     "data": {
      "image/png": "[encoded data removed]",
      "text/plain": [
       "<Figure size 1152x504 with 1 Axes>"
      ]
     },
     "metadata": {
      "needs_background": "light"
     },
     "output_type": "display_data"
    },
    {
     "data": {
      "image/png": "[encoded data removed]",
      "text/plain": [
       "<Figure size 1152x504 with 1 Axes>"
      ]
     },
     "metadata": {
      "needs_background": "light"
     },
     "output_type": "display_data"
    },
    {
     "data": {
      "image/png": "[encoded data removed]",
      "text/plain": [
       "<Figure size 1152x504 with 1 Axes>"
      ]
     },
     "metadata": {
      "needs_background": "light"
     },
     "output_type": "display_data"
    }
   ],
   "source": [
    "fig, ax = plt.subplots(figsize=(16,7))\n",
    "top_10_df[\"gdp_usd\"].unstack().plot(ax=ax)\n",
    "plt.title(\"GDP change by year and country\")\n",
    "plt.xlabel(\"Year\")\n",
    "plt.ylabel(\"GDP\")\n",
    "plt.yscale('log')\n",
    "plt.grid(axis= \"y\", linestyle= \"-\")\n",
    "plt.show()\n",
    "fig, ax = plt.subplots(figsize=(16,7))\n",
    "top_10_df[\"population\"].unstack().plot(ax=ax)\n",
    "plt.title(\"Population change by year and country\")\n",
    "plt.xlabel(\"Year\")\n",
    "plt.ylabel(\"Population\")\n",
    "plt.yscale('log')\n",
    "plt.grid(axis= \"y\", linestyle= \"-\")\n",
    "plt.show()\n",
    "fig, ax = plt.subplots(figsize=(16,7))\n",
    "top_10_df[\"mtco2e\"].unstack().plot(ax=ax)\n",
    "plt.title(\"Greenhouse gas emissions change by year and country\")\n",
    "plt.xlabel(\"Year\")\n",
    "plt.ylabel(\"GHG Emissions\")\n",
    "plt.yscale('log')\n",
    "plt.grid(axis= \"y\", linestyle= \"-\")\n",
    "plt.show()"
   ]
  },
  {
   "cell_type": "markdown",
   "metadata": {},
   "source": [
    "Looking at tables above that the biggest gdp per person per million tons of CO2 equivalent is USA. With the exception of Brazil and USA from those top 10 the population growth is mostly flat. Germany seems to be a good example since it's the only country which decreased it's GHG emissions while staying flat as population and increasing it's GDP in the same time."
   ]
  },
  {
   "cell_type": "markdown",
   "metadata": {},
   "source": [
    "### 4.3 Data with energy consumption"
   ]
  },
  {
   "cell_type": "markdown",
   "metadata": {},
   "source": [
    "Here comes the interesting part. What happens when we add energy consumed for the GDP and GHG emissions produced per person?"
   ]
  },
  {
   "cell_type": "code",
   "execution_count": 98,
   "metadata": {},
   "outputs": [],
   "source": [
    "energy_merged_data_2014 = energy_merged_data[energy_merged_data.year == 2014]"
   ]
  },
  {
   "cell_type": "code",
   "execution_count": 99,
   "metadata": {},
   "outputs": [
    {
     "data": {
      "text/html": [
       "<div>\n",
       "<style scoped>\n",
       "    .dataframe tbody tr th:only-of-type {\n",
       "        vertical-align: middle;\n",
       "    }\n",
       "\n",
       "    .dataframe tbody tr th {\n",
       "        vertical-align: top;\n",
       "    }\n",
       "\n",
       "    .dataframe thead th {\n",
       "        text-align: right;\n",
       "    }\n",
       "</style>\n",
       "<table border=\"1\" class=\"dataframe\">\n",
       "  <thead>\n",
       "    <tr style=\"text-align: right;\">\n",
       "      <th></th>\n",
       "      <th>country_or_area</th>\n",
       "      <th>year</th>\n",
       "      <th>gdp_usd</th>\n",
       "      <th>population</th>\n",
       "      <th>mtco2e</th>\n",
       "      <th>gdp_pp_pco2</th>\n",
       "      <th>petajoules</th>\n",
       "      <th>footnotes</th>\n",
       "      <th>gdp_pp_pjoul_mtco2e</th>\n",
       "    </tr>\n",
       "  </thead>\n",
       "  <tbody>\n",
       "    <tr>\n",
       "      <th>2479</th>\n",
       "      <td>Iceland</td>\n",
       "      <td>2014</td>\n",
       "      <td>1.775809e+10</td>\n",
       "      <td>328459.0</td>\n",
       "      <td>2.73</td>\n",
       "      <td>1.475971e+05</td>\n",
       "      <td>311.0</td>\n",
       "      <td>NaN</td>\n",
       "      <td>6.159037e+06</td>\n",
       "    </tr>\n",
       "    <tr>\n",
       "      <th>4004</th>\n",
       "      <td>Norway</td>\n",
       "      <td>2014</td>\n",
       "      <td>4.993385e+11</td>\n",
       "      <td>5140311.0</td>\n",
       "      <td>24.94</td>\n",
       "      <td>2.422714e+06</td>\n",
       "      <td>1202.0</td>\n",
       "      <td>Including Svalbard and Jan Mayen Islands.</td>\n",
       "      <td>4.681809e+06</td>\n",
       "    </tr>\n",
       "    <tr>\n",
       "      <th>5203</th>\n",
       "      <td>Sweden</td>\n",
       "      <td>2014</td>\n",
       "      <td>5.744131e+11</td>\n",
       "      <td>9689376.0</td>\n",
       "      <td>46.91</td>\n",
       "      <td>2.780955e+06</td>\n",
       "      <td>2000.0</td>\n",
       "      <td>NaN</td>\n",
       "      <td>2.527511e+06</td>\n",
       "    </tr>\n",
       "    <tr>\n",
       "      <th>5228</th>\n",
       "      <td>Switzerland</td>\n",
       "      <td>2014</td>\n",
       "      <td>7.091826e+11</td>\n",
       "      <td>8229629.0</td>\n",
       "      <td>46.15</td>\n",
       "      <td>3.976944e+06</td>\n",
       "      <td>1043.0</td>\n",
       "      <td>Including Liechtenstein.</td>\n",
       "      <td>1.947558e+06</td>\n",
       "    </tr>\n",
       "    <tr>\n",
       "      <th>4354</th>\n",
       "      <td>Qatar</td>\n",
       "      <td>2014</td>\n",
       "      <td>2.062246e+11</td>\n",
       "      <td>2374419.0</td>\n",
       "      <td>88.11</td>\n",
       "      <td>7.652588e+06</td>\n",
       "      <td>1822.0</td>\n",
       "      <td>NaN</td>\n",
       "      <td>1.796000e+06</td>\n",
       "    </tr>\n",
       "    <tr>\n",
       "      <th>3154</th>\n",
       "      <td>Luxembourg</td>\n",
       "      <td>2014</td>\n",
       "      <td>6.610385e+10</td>\n",
       "      <td>556316.0</td>\n",
       "      <td>10.81</td>\n",
       "      <td>1.284491e+06</td>\n",
       "      <td>161.0</td>\n",
       "      <td>NaN</td>\n",
       "      <td>1.769723e+06</td>\n",
       "    </tr>\n",
       "    <tr>\n",
       "      <th>2979</th>\n",
       "      <td>Latvia</td>\n",
       "      <td>2014</td>\n",
       "      <td>3.133506e+10</td>\n",
       "      <td>2016125.0</td>\n",
       "      <td>1.84</td>\n",
       "      <td>2.859769e+04</td>\n",
       "      <td>182.0</td>\n",
       "      <td>NaN</td>\n",
       "      <td>1.537329e+06</td>\n",
       "    </tr>\n",
       "    <tr>\n",
       "      <th>2054</th>\n",
       "      <td>France</td>\n",
       "      <td>2014</td>\n",
       "      <td>2.852166e+12</td>\n",
       "      <td>66380854.0</td>\n",
       "      <td>334.28</td>\n",
       "      <td>1.436291e+07</td>\n",
       "      <td>10175.0</td>\n",
       "      <td>Including Monaco.</td>\n",
       "      <td>1.307844e+06</td>\n",
       "    </tr>\n",
       "    <tr>\n",
       "      <th>4779</th>\n",
       "      <td>Singapore</td>\n",
       "      <td>2014</td>\n",
       "      <td>3.115518e+11</td>\n",
       "      <td>5448342.0</td>\n",
       "      <td>52.42</td>\n",
       "      <td>2.997526e+06</td>\n",
       "      <td>1142.0</td>\n",
       "      <td>NaN</td>\n",
       "      <td>1.245762e+06</td>\n",
       "    </tr>\n",
       "    <tr>\n",
       "      <th>1984</th>\n",
       "      <td>Finland</td>\n",
       "      <td>2014</td>\n",
       "      <td>2.726093e+11</td>\n",
       "      <td>5459717.0</td>\n",
       "      <td>65.24</td>\n",
       "      <td>3.257500e+06</td>\n",
       "      <td>1415.0</td>\n",
       "      <td>NaN</td>\n",
       "      <td>1.082961e+06</td>\n",
       "    </tr>\n",
       "  </tbody>\n",
       "</table>\n",
       "</div>"
      ],
      "text/plain": [
       "     country_or_area  year       gdp_usd  population  mtco2e   gdp_pp_pco2  \\\n",
       "2479         Iceland  2014  1.775809e+10    328459.0    2.73  1.475971e+05   \n",
       "4004          Norway  2014  4.993385e+11   5140311.0   24.94  2.422714e+06   \n",
       "5203          Sweden  2014  5.744131e+11   9689376.0   46.91  2.780955e+06   \n",
       "5228     Switzerland  2014  7.091826e+11   8229629.0   46.15  3.976944e+06   \n",
       "4354           Qatar  2014  2.062246e+11   2374419.0   88.11  7.652588e+06   \n",
       "3154      Luxembourg  2014  6.610385e+10    556316.0   10.81  1.284491e+06   \n",
       "2979          Latvia  2014  3.133506e+10   2016125.0    1.84  2.859769e+04   \n",
       "2054          France  2014  2.852166e+12  66380854.0  334.28  1.436291e+07   \n",
       "4779       Singapore  2014  3.115518e+11   5448342.0   52.42  2.997526e+06   \n",
       "1984         Finland  2014  2.726093e+11   5459717.0   65.24  3.257500e+06   \n",
       "\n",
       "      petajoules                                  footnotes  \\\n",
       "2479       311.0                                        NaN   \n",
       "4004      1202.0  Including Svalbard and Jan Mayen Islands.   \n",
       "5203      2000.0                                        NaN   \n",
       "5228      1043.0                   Including Liechtenstein.   \n",
       "4354      1822.0                                        NaN   \n",
       "3154       161.0                                        NaN   \n",
       "2979       182.0                                        NaN   \n",
       "2054     10175.0                          Including Monaco.   \n",
       "4779      1142.0                                        NaN   \n",
       "1984      1415.0                                        NaN   \n",
       "\n",
       "      gdp_pp_pjoul_mtco2e  \n",
       "2479         6.159037e+06  \n",
       "4004         4.681809e+06  \n",
       "5203         2.527511e+06  \n",
       "5228         1.947558e+06  \n",
       "4354         1.796000e+06  \n",
       "3154         1.769723e+06  \n",
       "2979         1.537329e+06  \n",
       "2054         1.307844e+06  \n",
       "4779         1.245762e+06  \n",
       "1984         1.082961e+06  "
      ]
     },
     "execution_count": 99,
     "metadata": {},
     "output_type": "execute_result"
    }
   ],
   "source": [
    "energy_merged_data_2014.nlargest(10, \"gdp_pp_pjoul_mtco2e\")"
   ]
  },
  {
   "cell_type": "markdown",
   "metadata": {},
   "source": [
    "Similarly to the above let's have a look at the GDP, population, GHG emissions and the energy consumed for those 10 countries."
   ]
  },
  {
   "cell_type": "code",
   "execution_count": 100,
   "metadata": {},
   "outputs": [
    {
     "data": {
      "text/html": [
       "<div>\n",
       "<style scoped>\n",
       "    .dataframe tbody tr th:only-of-type {\n",
       "        vertical-align: middle;\n",
       "    }\n",
       "\n",
       "    .dataframe tbody tr th {\n",
       "        vertical-align: top;\n",
       "    }\n",
       "\n",
       "    .dataframe thead th {\n",
       "        text-align: right;\n",
       "    }\n",
       "</style>\n",
       "<table border=\"1\" class=\"dataframe\">\n",
       "  <thead>\n",
       "    <tr style=\"text-align: right;\">\n",
       "      <th></th>\n",
       "      <th>year</th>\n",
       "      <th>gdp_usd</th>\n",
       "      <th>population</th>\n",
       "      <th>mtco2e</th>\n",
       "      <th>gdp_pp_pco2</th>\n",
       "      <th>petajoules</th>\n",
       "      <th>gdp_pp_pjoul_mtco2e</th>\n",
       "    </tr>\n",
       "  </thead>\n",
       "  <tbody>\n",
       "    <tr>\n",
       "      <th>year</th>\n",
       "      <td>1.000000</td>\n",
       "      <td>0.077761</td>\n",
       "      <td>0.021604</td>\n",
       "      <td>0.013027</td>\n",
       "      <td>0.045556</td>\n",
       "      <td>0.023581</td>\n",
       "      <td>0.012489</td>\n",
       "    </tr>\n",
       "    <tr>\n",
       "      <th>gdp_usd</th>\n",
       "      <td>0.077761</td>\n",
       "      <td>1.000000</td>\n",
       "      <td>0.365608</td>\n",
       "      <td>0.955484</td>\n",
       "      <td>0.959259</td>\n",
       "      <td>0.959283</td>\n",
       "      <td>0.058683</td>\n",
       "    </tr>\n",
       "    <tr>\n",
       "      <th>population</th>\n",
       "      <td>0.021604</td>\n",
       "      <td>0.365608</td>\n",
       "      <td>1.000000</td>\n",
       "      <td>0.550732</td>\n",
       "      <td>0.244955</td>\n",
       "      <td>0.822359</td>\n",
       "      <td>-0.012518</td>\n",
       "    </tr>\n",
       "    <tr>\n",
       "      <th>mtco2e</th>\n",
       "      <td>0.013027</td>\n",
       "      <td>0.955484</td>\n",
       "      <td>0.550732</td>\n",
       "      <td>1.000000</td>\n",
       "      <td>0.874768</td>\n",
       "      <td>0.998513</td>\n",
       "      <td>-0.012586</td>\n",
       "    </tr>\n",
       "    <tr>\n",
       "      <th>gdp_pp_pco2</th>\n",
       "      <td>0.045556</td>\n",
       "      <td>0.959259</td>\n",
       "      <td>0.244955</td>\n",
       "      <td>0.874768</td>\n",
       "      <td>1.000000</td>\n",
       "      <td>0.717507</td>\n",
       "      <td>0.052279</td>\n",
       "    </tr>\n",
       "    <tr>\n",
       "      <th>petajoules</th>\n",
       "      <td>0.023581</td>\n",
       "      <td>0.959283</td>\n",
       "      <td>0.822359</td>\n",
       "      <td>0.998513</td>\n",
       "      <td>0.717507</td>\n",
       "      <td>1.000000</td>\n",
       "      <td>0.033818</td>\n",
       "    </tr>\n",
       "    <tr>\n",
       "      <th>gdp_pp_pjoul_mtco2e</th>\n",
       "      <td>0.012489</td>\n",
       "      <td>0.058683</td>\n",
       "      <td>-0.012518</td>\n",
       "      <td>-0.012586</td>\n",
       "      <td>0.052279</td>\n",
       "      <td>0.033818</td>\n",
       "      <td>1.000000</td>\n",
       "    </tr>\n",
       "  </tbody>\n",
       "</table>\n",
       "</div>"
      ],
      "text/plain": [
       "                         year   gdp_usd  population    mtco2e  gdp_pp_pco2  \\\n",
       "year                 1.000000  0.077761    0.021604  0.013027     0.045556   \n",
       "gdp_usd              0.077761  1.000000    0.365608  0.955484     0.959259   \n",
       "population           0.021604  0.365608    1.000000  0.550732     0.244955   \n",
       "mtco2e               0.013027  0.955484    0.550732  1.000000     0.874768   \n",
       "gdp_pp_pco2          0.045556  0.959259    0.244955  0.874768     1.000000   \n",
       "petajoules           0.023581  0.959283    0.822359  0.998513     0.717507   \n",
       "gdp_pp_pjoul_mtco2e  0.012489  0.058683   -0.012518 -0.012586     0.052279   \n",
       "\n",
       "                     petajoules  gdp_pp_pjoul_mtco2e  \n",
       "year                   0.023581             0.012489  \n",
       "gdp_usd                0.959283             0.058683  \n",
       "population             0.822359            -0.012518  \n",
       "mtco2e                 0.998513            -0.012586  \n",
       "gdp_pp_pco2            0.717507             0.052279  \n",
       "petajoules             1.000000             0.033818  \n",
       "gdp_pp_pjoul_mtco2e    0.033818             1.000000  "
      ]
     },
     "execution_count": 100,
     "metadata": {},
     "output_type": "execute_result"
    }
   ],
   "source": [
    "energy_merged_data.corr()"
   ]
  },
  {
   "cell_type": "code",
   "execution_count": 101,
   "metadata": {},
   "outputs": [],
   "source": [
    "efficient_top_10_list = list(energy_merged_data_2014.nlargest(10, \"gdp_pp_pjoul_mtco2e\").country_or_area.unique())\n",
    "efficient_merged_data_top_10 = energy_merged_data[energy_merged_data.country_or_area.isin(efficient_top_10_list)]\n",
    "efficient_top_10_df = efficient_merged_data_top_10.groupby([\"year\",\"country_or_area\"]).sum()\n",
    "\n",
    "\n",
    "#In the energy dataset there were missing years, so I'm going to put only the existing ones in a new df.\n",
    "energy_years_list = list(energy_supply.year.unique())\n",
    "avail_years_df = efficient_merged_data_top_10[efficient_merged_data_top_10.year.isin(energy_years_list)]\n",
    "avail_years_top_10_df = avail_years_df.groupby([\"year\",\"country_or_area\"]).sum()"
   ]
  },
  {
   "cell_type": "code",
   "execution_count": 105,
   "metadata": {},
   "outputs": [
    {
     "data": {
      "image/png": "[encoded data removed]",
      "text/plain": [
       "<Figure size 1152x504 with 1 Axes>"
      ]
     },
     "metadata": {
      "needs_background": "light"
     },
     "output_type": "display_data"
    },
    {
     "data": {
      "image/png": "[encoded data removed]",
      "text/plain": [
       "<Figure size 1152x504 with 1 Axes>"
      ]
     },
     "metadata": {
      "needs_background": "light"
     },
     "output_type": "display_data"
    }
   ],
   "source": [
    "fig, ax = plt.subplots(figsize=(16,7))\n",
    "efficient_top_10_df[\"gdp_usd\"].unstack().plot(ax=ax)\n",
    "plt.title(\"GDP change by year and country\")\n",
    "plt.xlabel(\"Year\")\n",
    "plt.ylabel(\"GDP\")\n",
    "plt.yscale('log')\n",
    "plt.grid(axis= \"y\", linestyle= \"-\")\n",
    "plt.show()\n",
    "fig, ax = plt.subplots(figsize=(16,7))\n",
    "efficient_top_10_df[\"population\"].unstack().plot(ax=ax)\n",
    "plt.title(\"Population change by year and country\")\n",
    "plt.xlabel(\"Year\")\n",
    "plt.ylabel(\"Population\")\n",
    "plt.yscale('log')\n",
    "plt.grid(axis= \"y\", linestyle= \"-\")\n",
    "plt.show()"
   ]
  },
  {
   "cell_type": "code",
   "execution_count": 104,
   "metadata": {},
   "outputs": [
    {
     "data": {
      "image/png": "[encoded data removed]",
      "text/plain": [
       "<Figure size 1152x504 with 1 Axes>"
      ]
     },
     "metadata": {
      "needs_background": "light"
     },
     "output_type": "display_data"
    },
    {
     "data": {
      "image/png": "[encoded data removed]",
      "text/plain": [
       "<Figure size 1152x504 with 1 Axes>"
      ]
     },
     "metadata": {
      "needs_background": "light"
     },
     "output_type": "display_data"
    }
   ],
   "source": [
    "fig, ax = plt.subplots(figsize=(16,7))\n",
    "efficient_top_10_df[\"mtco2e\"].unstack().plot(ax=ax)\n",
    "plt.title(\"Greenhouse gas emissions change by year and country\")\n",
    "plt.xlabel(\"Year\")\n",
    "plt.ylabel(\"GHG Emissions\")\n",
    "plt.yscale('log')\n",
    "plt.grid(axis= \"y\", linestyle= \"-\")\n",
    "plt.show()\n",
    "fig, ax = plt.subplots(figsize=(16,7))\n",
    "avail_years_top_10_df[\"petajoules\"].unstack().plot(ax=ax)\n",
    "plt.title(\"Energy consumption change by year and country\")\n",
    "plt.xlabel(\"Year\")\n",
    "plt.ylabel(\"GDP\")\n",
    "plt.yscale('log')\n",
    "plt.grid(axis= \"y\", linestyle= \"-\")\n",
    "plt.show()"
   ]
  },
  {
   "cell_type": "markdown",
   "metadata": {},
   "source": [
    "General trends: Rising GDP, flat population, ghg emissions and energy consumption.\n",
    "I'm going to disregard Qatar - it's the fourth biggest natural gas producer (2017), has small population, natural gas is comparatively less poluting energy resource. (thank you, Wikipedia!)\n",
    "Interestingly France is doing great on all factors. Significant ghg emissions reduction, great GDP growth, healthy population growth and it successfully managed to decrease it's energy consumption."
   ]
  },
  {
   "cell_type": "markdown",
   "metadata": {},
   "source": [
    "For Iceland it is known that it's on the border between two tectonic plates, therefore there are many opportunities for energy production(and consumption) from geothermal and hydro sources. France is famous with it's nuclear sector (which doesn't produce any GHG emissions, but it has other problems). Big chunk of Norway's energy is hydroelectricity. (thanks you, Google!)"
   ]
  },
  {
   "cell_type": "markdown",
   "metadata": {},
   "source": [
    "## 5. Conclusion"
   ]
  },
  {
   "cell_type": "markdown",
   "metadata": {},
   "source": [
    "To sum it up. The current world trend is that GDP growth has a strong positive correlation to the amounts of greenhouse gases emitted and to the energy consumed on our planet. The most energy efficient, economically well off countries are the nordics and France. Iceland, Norway, Sweden, France are the countries which policy makers (and every person) should turn their attention to when talking about increasing the well-being (in terms of climate and energy sustainability and economic growth) of every citizen of our planet."
   ]
  },
  {
   "cell_type": "markdown",
   "metadata": {},
   "source": [
    "## 6. References:"
   ]
  },
  {
   "cell_type": "markdown",
   "metadata": {},
   "source": [
    "1. GDP per capita at current prices in USD from UN\n",
    " https://unstats.un.org/unsd/snaama/Basic\n",
    "2. Population data from the same link above\n",
    "3. All greenhouse gas data from Climatewatch.org  \n",
    "https://www.climatewatchdata.org/data-explorer/historical-emissions?historical-emissions-data-sources=42&historical-emissions-end_year=2014&historical-emissions-gases=177&historical-emissions-regions=All%20Selected%2CWORLD&historical-emissions-sectors=509&historical-emissions-start_year=1990&page=1\n",
    "4. International Energy Statistics from Kaggle pulled from United Nations Statistics Devision's  https://www.kaggle.com/unitednations/international-energy-statistics\n",
    "5. Energy production, trade and consumption of UN from http://data.un.org/\n",
    "6. A multi-factor efficiency perspective to the relationships among world GDP, energy consumption and carbon dioxide emissions available at https://www.sciencedirect.com/science/article/pii/S0040162505001861\n",
    "7. Monitoring changes in economy-wide energy efficiency: From energy–GDP ratio to composite efficiency index avaialable at https://www.sciencedirect.com/science/article/pii/S0301421505003125#!"
   ]
  }
 ],
 "metadata": {
  "kernelspec": {
   "display_name": "Python 3",
   "language": "python",
   "name": "python3"
  },
  "language_info": {
   "codemirror_mode": {
    "name": "ipython",
    "version": 3
   },
   "file_extension": ".py",
   "mimetype": "text/x-python",
   "name": "python",
   "nbconvert_exporter": "python",
   "pygments_lexer": "ipython3",
   "version": "3.7.3"
  }
 },
 "nbformat": 4,
 "nbformat_minor": 2
}
